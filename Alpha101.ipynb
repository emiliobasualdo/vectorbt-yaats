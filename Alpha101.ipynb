{
 "cells": [
  {
   "cell_type": "code",
   "execution_count": 9,
   "outputs": [],
   "source": [
    "from numba import njit\n",
    "import numpy as np\n",
    "from lib.utils import create_windows, file_to_data_frame, ExtendedProtfolio\n",
    "import pandas as pd\n",
    "import vectorbt as vbt"
   ],
   "metadata": {
    "collapsed": false,
    "pycharm": {
     "name": "#%%\n"
    }
   }
  },
  {
   "cell_type": "code",
   "execution_count": 10,
   "outputs": [
    {
     "name": "stdout",
     "output_type": "stream",
     "text": [
      "Index(['Open', 'High', 'Low', 'Close', 'Volume', 'Volume USDT', 'Tradecount'], dtype='object')\n",
      "                        Open     High      Low    Close\n",
      "date                                                   \n",
      "2021-03-16 22:09:00  1.22607  1.22663  1.22074  1.22257\n",
      "2021-03-16 22:10:00  1.22189  1.22253  1.21917  1.22166\n",
      "2021-03-16 22:11:00  1.22137  1.22319  1.21804  1.22300\n",
      "2021-03-16 22:12:00  1.22300  1.22410  1.21878  1.22176\n",
      "2021-03-16 22:13:00  1.22144  1.22173  1.21876  1.21928\n"
     ]
    }
   ],
   "source": [
    "# leemos el csv\n",
    "(s_name, ohlcv) = file_to_data_frame(\n",
    "    \"/Users/pilo/development/itba/pf/Binance_Minute_OHLC_CSVs/shorts/Binance_ADAUSDT_minute_3000.csv\")\n",
    "# agarramos solo las columnas que necesitamos\n",
    "cols = ohlcv.columns\n",
    "print(cols)\n",
    "# ohlcv.get([\"Open\", \"High\", \"Low\", \"Close\", \"Volume\"]).vbt.ohlcv.plot().show_png()\n",
    "ohlc = ohlcv.get([\"Open\", \"High\", \"Low\", \"Close\"])\n",
    "print(ohlc.head())"
   ],
   "metadata": {
    "collapsed": false,
    "pycharm": {
     "name": "#%%\n"
    }
   }
  },
  {
   "cell_type": "code",
   "execution_count": 11,
   "outputs": [],
   "source": [
    "# creamos las ventanas\n",
    "figure, windows = create_windows(ohlc=ohlc, n=5, window_len=0.6, training_set_len=0.4)\n",
    "(training_df, train_indexes), (test_df, test_indexes) = windows\n",
    "# figure.show_png()"
   ],
   "metadata": {
    "collapsed": false,
    "pycharm": {
     "name": "#%%\n"
    }
   }
  },
  {
   "cell_type": "code",
   "execution_count": 12,
   "outputs": [],
   "source": [
    "portfolio_kwargs = dict(\n",
    "    direction='all',  # long and short todo falta ver esto\n",
    "    freq='d'  # todo falta ver esto\n",
    ")"
   ],
   "metadata": {
    "collapsed": false,
    "pycharm": {
     "name": "#%%\n"
    }
   }
  },
  {
   "cell_type": "code",
   "execution_count": 13,
   "outputs": [
    {
     "name": "stdout",
     "output_type": "stream",
     "text": [
      "split_idx       \n",
      "0          Close    0.000009\n",
      "1          Close    0.000092\n",
      "2          Close    0.000091\n",
      "3          Close    0.000120\n",
      "4          Close    0.000113\n",
      "Name: apply_and_reduce, dtype: float64 split_idx       \n",
      "0          Close    0.000174\n",
      "1          Close    0.000060\n",
      "2          Close    0.000026\n",
      "3          Close   -0.000133\n",
      "4          Close   -0.000214\n",
      "Name: apply_and_reduce, dtype: float64\n"
     ]
    }
   ],
   "source": [
    "# simulamos Buy&Hold de cada training y test window y tomamo el expected log returns (elr)\n",
    "close_columns = list(filter(lambda col: \"Close\" in col[1], training_df.columns))\n",
    "in_hold_elr = ExtendedProtfolio.from_holding(training_df[close_columns], **portfolio_kwargs).expected_log_returns()\n",
    "out_hold_elr = ExtendedProtfolio.from_holding(test_df[close_columns], **portfolio_kwargs).expected_log_returns()\n",
    "print(in_hold_elr, out_hold_elr)\n"
   ],
   "metadata": {
    "collapsed": false,
    "pycharm": {
     "name": "#%%\n"
    }
   }
  },
  {
   "cell_type": "code",
   "execution_count": 14,
   "outputs": [],
   "source": [
    "# Creamos el alpha\n",
    "def alpha_from_df(ohlc_windows):\n",
    "    alpha = pd.DataFrame()\n",
    "    for w, new_df in ohlc_windows.groupby(level=0, axis=1):\n",
    "        alpha[w] = (new_df[w, \"Close\"] - new_df[w, \"Open\"]) / (new_df[w, \"High\"] - new_df[w, \"Low\"] + 0.001)\n",
    "    return alpha\n"
   ],
   "metadata": {
    "collapsed": false,
    "pycharm": {
     "name": "#%%\n"
    }
   }
  },
  {
   "cell_type": "code",
   "execution_count": 15,
   "outputs": [
    {
     "name": "stdout",
     "output_type": "stream",
     "text": [
      "open (1080, 5)\n",
      "ones (1080, 320)\n",
      "entry_signal (1080, 320)\n",
      "trade_price (1080, 5)\n"
     ]
    },
    {
     "ename": "ValueError",
     "evalue": "Index at position 0 could not be aligned",
     "output_type": "error",
     "traceback": [
      "\u001B[0;31m---------------------------------------------------------------------------\u001B[0m",
      "\u001B[0;31mValueError\u001B[0m                                Traceback (most recent call last)",
      "\u001B[0;32m<ipython-input-15-a5249d6df698>\u001B[0m in \u001B[0;36m<module>\u001B[0;34m\u001B[0m\n\u001B[1;32m     42\u001B[0m \u001B[0;31m# Simulamos\u001B[0m\u001B[0;34m\u001B[0m\u001B[0;34m\u001B[0m\u001B[0;34m\u001B[0m\u001B[0m\n\u001B[1;32m     43\u001B[0m \u001B[0mparams_range\u001B[0m \u001B[0;34m=\u001B[0m \u001B[0mnp\u001B[0m\u001B[0;34m.\u001B[0m\u001B[0mlinspace\u001B[0m\u001B[0;34m(\u001B[0m\u001B[0;36m0.1\u001B[0m\u001B[0;34m,\u001B[0m \u001B[0;36m0.8\u001B[0m\u001B[0;34m,\u001B[0m \u001B[0;36m8\u001B[0m\u001B[0;34m)\u001B[0m\u001B[0;34m\u001B[0m\u001B[0;34m\u001B[0m\u001B[0m\n\u001B[0;32m---> 44\u001B[0;31m \u001B[0mportfolio\u001B[0m \u001B[0;34m=\u001B[0m \u001B[0msimulate_all_params\u001B[0m\u001B[0;34m(\u001B[0m\u001B[0mtraining_df\u001B[0m\u001B[0;34m,\u001B[0m \u001B[0mparams_range\u001B[0m\u001B[0;34m)\u001B[0m\u001B[0;34m\u001B[0m\u001B[0;34m\u001B[0m\u001B[0m\n\u001B[0m\u001B[1;32m     45\u001B[0m \u001B[0mportfolio\u001B[0m\u001B[0;34m.\u001B[0m\u001B[0mexpected_log_returns\u001B[0m\u001B[0;34m(\u001B[0m\u001B[0;34m)\u001B[0m\u001B[0;34m\u001B[0m\u001B[0;34m\u001B[0m\u001B[0m\n",
      "\u001B[0;32m<ipython-input-15-a5249d6df698>\u001B[0m in \u001B[0;36msimulate_all_params\u001B[0;34m(ohlc_windows, params_range)\u001B[0m\n\u001B[1;32m     37\u001B[0m     \u001B[0mtrade_price\u001B[0m \u001B[0;34m=\u001B[0m \u001B[0mohlc_windows\u001B[0m\u001B[0;34m.\u001B[0m\u001B[0mxs\u001B[0m\u001B[0;34m(\u001B[0m\u001B[0;34m\"Close\"\u001B[0m\u001B[0;34m,\u001B[0m \u001B[0mlevel\u001B[0m\u001B[0;34m=\u001B[0m\u001B[0;36m1\u001B[0m\u001B[0;34m,\u001B[0m \u001B[0maxis\u001B[0m\u001B[0;34m=\u001B[0m\u001B[0;36m1\u001B[0m\u001B[0;34m)\u001B[0m\u001B[0;34m\u001B[0m\u001B[0;34m\u001B[0m\u001B[0m\n\u001B[1;32m     38\u001B[0m     \u001B[0mprint\u001B[0m\u001B[0;34m(\u001B[0m\u001B[0;34m\"trade_price\"\u001B[0m\u001B[0;34m,\u001B[0m \u001B[0mtrade_price\u001B[0m\u001B[0;34m.\u001B[0m\u001B[0mshape\u001B[0m\u001B[0;34m)\u001B[0m\u001B[0;34m\u001B[0m\u001B[0;34m\u001B[0m\u001B[0m\n\u001B[0;32m---> 39\u001B[0;31m     \u001B[0;32mreturn\u001B[0m \u001B[0mExtendedProtfolio\u001B[0m\u001B[0;34m.\u001B[0m\u001B[0mfrom_signals\u001B[0m\u001B[0;34m(\u001B[0m\u001B[0mtrade_price\u001B[0m\u001B[0;34m,\u001B[0m \u001B[0mentry_signal\u001B[0m\u001B[0;34m,\u001B[0m \u001B[0mexit_signal\u001B[0m\u001B[0;34m,\u001B[0m \u001B[0;34m**\u001B[0m\u001B[0mportfolio_kwargs\u001B[0m\u001B[0;34m)\u001B[0m\u001B[0;34m\u001B[0m\u001B[0;34m\u001B[0m\u001B[0m\n\u001B[0m\u001B[1;32m     40\u001B[0m \u001B[0;34m\u001B[0m\u001B[0m\n\u001B[1;32m     41\u001B[0m \u001B[0;34m\u001B[0m\u001B[0m\n",
      "\u001B[0;32m~/development/itba/pf/vectorbt-yaats/venv/lib/python3.7/site-packages/vectorbt/portfolio/base.py\u001B[0m in \u001B[0;36mfrom_signals\u001B[0;34m(cls, close, entries, exits, size, size_type, direction, price, fees, fixed_fees, slippage, min_size, max_size, reject_prob, allow_partial, raise_reject, accumulate, log, conflict_mode, close_first, val_price, init_cash, cash_sharing, call_seq, max_orders, max_logs, seed, group_by, broadcast_kwargs, wrapper_kwargs, freq, **kwargs)\u001B[0m\n\u001B[1;32m    914\u001B[0m         \u001B[0mkeep_raw\u001B[0m \u001B[0;34m=\u001B[0m \u001B[0;34m[\u001B[0m\u001B[0;32mFalse\u001B[0m\u001B[0;34m]\u001B[0m \u001B[0;34m+\u001B[0m \u001B[0;34m[\u001B[0m\u001B[0;32mTrue\u001B[0m\u001B[0;34m]\u001B[0m \u001B[0;34m*\u001B[0m \u001B[0;34m(\u001B[0m\u001B[0mlen\u001B[0m\u001B[0;34m(\u001B[0m\u001B[0mbroadcastable_args\u001B[0m\u001B[0;34m)\u001B[0m \u001B[0;34m-\u001B[0m \u001B[0;36m1\u001B[0m\u001B[0;34m)\u001B[0m\u001B[0;34m\u001B[0m\u001B[0;34m\u001B[0m\u001B[0m\n\u001B[1;32m    915\u001B[0m         \u001B[0mbroadcast_kwargs\u001B[0m \u001B[0;34m=\u001B[0m \u001B[0mmerge_dicts\u001B[0m\u001B[0;34m(\u001B[0m\u001B[0mdict\u001B[0m\u001B[0;34m(\u001B[0m\u001B[0mrequire_kwargs\u001B[0m\u001B[0;34m=\u001B[0m\u001B[0mdict\u001B[0m\u001B[0;34m(\u001B[0m\u001B[0mrequirements\u001B[0m\u001B[0;34m=\u001B[0m\u001B[0;34m'W'\u001B[0m\u001B[0;34m)\u001B[0m\u001B[0;34m)\u001B[0m\u001B[0;34m,\u001B[0m \u001B[0mbroadcast_kwargs\u001B[0m\u001B[0;34m)\u001B[0m\u001B[0;34m\u001B[0m\u001B[0;34m\u001B[0m\u001B[0m\n\u001B[0;32m--> 916\u001B[0;31m         \u001B[0mbroadcasted_args\u001B[0m \u001B[0;34m=\u001B[0m \u001B[0mbroadcast\u001B[0m\u001B[0;34m(\u001B[0m\u001B[0;34m*\u001B[0m\u001B[0mbroadcastable_args\u001B[0m\u001B[0;34m,\u001B[0m \u001B[0;34m**\u001B[0m\u001B[0mbroadcast_kwargs\u001B[0m\u001B[0;34m,\u001B[0m \u001B[0mkeep_raw\u001B[0m\u001B[0;34m=\u001B[0m\u001B[0mkeep_raw\u001B[0m\u001B[0;34m)\u001B[0m\u001B[0;34m\u001B[0m\u001B[0;34m\u001B[0m\u001B[0m\n\u001B[0m\u001B[1;32m    917\u001B[0m         \u001B[0mclose\u001B[0m \u001B[0;34m=\u001B[0m \u001B[0mbroadcasted_args\u001B[0m\u001B[0;34m[\u001B[0m\u001B[0;36m0\u001B[0m\u001B[0;34m]\u001B[0m\u001B[0;34m\u001B[0m\u001B[0;34m\u001B[0m\u001B[0m\n\u001B[1;32m    918\u001B[0m         \u001B[0;32mif\u001B[0m \u001B[0;32mnot\u001B[0m \u001B[0mchecks\u001B[0m\u001B[0;34m.\u001B[0m\u001B[0mis_pandas\u001B[0m\u001B[0;34m(\u001B[0m\u001B[0mclose\u001B[0m\u001B[0;34m)\u001B[0m\u001B[0;34m:\u001B[0m\u001B[0;34m\u001B[0m\u001B[0;34m\u001B[0m\u001B[0m\n",
      "\u001B[0;32m~/development/itba/pf/vectorbt-yaats/venv/lib/python3.7/site-packages/vectorbt/base/reshape_fns.py\u001B[0m in \u001B[0;36mbroadcast\u001B[0;34m(to_shape, to_pd, to_frame, align_index, align_columns, index_from, columns_from, require_kwargs, keep_raw, return_meta, *args, **kwargs)\u001B[0m\n\u001B[1;32m    472\u001B[0m             \u001B[0mindexes\u001B[0m \u001B[0;34m=\u001B[0m \u001B[0;34m[\u001B[0m\u001B[0margs\u001B[0m\u001B[0;34m[\u001B[0m\u001B[0mi\u001B[0m\u001B[0;34m]\u001B[0m\u001B[0;34m.\u001B[0m\u001B[0mcolumns\u001B[0m \u001B[0;32mfor\u001B[0m \u001B[0mi\u001B[0m \u001B[0;32min\u001B[0m \u001B[0mcols_to_align\u001B[0m\u001B[0;34m]\u001B[0m\u001B[0;34m\u001B[0m\u001B[0;34m\u001B[0m\u001B[0m\n\u001B[1;32m    473\u001B[0m             \u001B[0;32mif\u001B[0m \u001B[0mlen\u001B[0m\u001B[0;34m(\u001B[0m\u001B[0mset\u001B[0m\u001B[0;34m(\u001B[0m\u001B[0mmap\u001B[0m\u001B[0;34m(\u001B[0m\u001B[0mlen\u001B[0m\u001B[0;34m,\u001B[0m \u001B[0mindexes\u001B[0m\u001B[0;34m)\u001B[0m\u001B[0;34m)\u001B[0m\u001B[0;34m)\u001B[0m \u001B[0;34m>\u001B[0m \u001B[0;36m1\u001B[0m\u001B[0;34m:\u001B[0m\u001B[0;34m\u001B[0m\u001B[0;34m\u001B[0m\u001B[0m\n\u001B[0;32m--> 474\u001B[0;31m                 \u001B[0mcol_indices\u001B[0m \u001B[0;34m=\u001B[0m \u001B[0mindex_fns\u001B[0m\u001B[0;34m.\u001B[0m\u001B[0malign_indexes\u001B[0m\u001B[0;34m(\u001B[0m\u001B[0mindexes\u001B[0m\u001B[0;34m)\u001B[0m\u001B[0;34m\u001B[0m\u001B[0;34m\u001B[0m\u001B[0m\n\u001B[0m\u001B[1;32m    475\u001B[0m                 \u001B[0;32mfor\u001B[0m \u001B[0mi\u001B[0m \u001B[0;32min\u001B[0m \u001B[0mrange\u001B[0m\u001B[0;34m(\u001B[0m\u001B[0mlen\u001B[0m\u001B[0;34m(\u001B[0m\u001B[0margs\u001B[0m\u001B[0;34m)\u001B[0m\u001B[0;34m)\u001B[0m\u001B[0;34m:\u001B[0m\u001B[0;34m\u001B[0m\u001B[0;34m\u001B[0m\u001B[0m\n\u001B[1;32m    476\u001B[0m                     \u001B[0;32mif\u001B[0m \u001B[0mi\u001B[0m \u001B[0;32min\u001B[0m \u001B[0mcols_to_align\u001B[0m\u001B[0;34m:\u001B[0m\u001B[0;34m\u001B[0m\u001B[0;34m\u001B[0m\u001B[0m\n",
      "\u001B[0;32m~/development/itba/pf/vectorbt-yaats/venv/lib/python3.7/site-packages/vectorbt/base/index_fns.py\u001B[0m in \u001B[0;36malign_indexes\u001B[0;34m(indexes)\u001B[0m\n\u001B[1;32m    296\u001B[0m                         \u001B[0;32mpass\u001B[0m\u001B[0;34m\u001B[0m\u001B[0;34m\u001B[0m\u001B[0m\n\u001B[1;32m    297\u001B[0m             \u001B[0;32mif\u001B[0m \u001B[0mlen\u001B[0m\u001B[0;34m(\u001B[0m\u001B[0mindices\u001B[0m\u001B[0;34m)\u001B[0m \u001B[0;34m<\u001B[0m \u001B[0mi\u001B[0m \u001B[0;34m+\u001B[0m \u001B[0;36m1\u001B[0m\u001B[0;34m:\u001B[0m\u001B[0;34m\u001B[0m\u001B[0;34m\u001B[0m\u001B[0m\n\u001B[0;32m--> 298\u001B[0;31m                 \u001B[0;32mraise\u001B[0m \u001B[0mValueError\u001B[0m\u001B[0;34m(\u001B[0m\u001B[0;34mf\"Index at position {i} could not be aligned\"\u001B[0m\u001B[0;34m)\u001B[0m\u001B[0;34m\u001B[0m\u001B[0;34m\u001B[0m\u001B[0m\n\u001B[0m\u001B[1;32m    299\u001B[0m     \u001B[0;32mreturn\u001B[0m \u001B[0mindices\u001B[0m\u001B[0;34m\u001B[0m\u001B[0;34m\u001B[0m\u001B[0m\n\u001B[1;32m    300\u001B[0m \u001B[0;34m\u001B[0m\u001B[0m\n",
      "\u001B[0;31mValueError\u001B[0m: Index at position 0 could not be aligned"
     ]
    }
   ],
   "source": [
    "# creamos el indicador\n",
    "@njit\n",
    "def apply_func_nb(open: np.ndarray, high: np.ndarray, low: np.ndarray, close: np.ndarray, buy_threshold: float,\n",
    "                  sell_threshold: float):\n",
    "    aux = (close - open) / (high - low + 0.001)\n",
    "    aux = np.where(aux >= buy_threshold, 1, aux)\n",
    "    aux = np.where(aux <= sell_threshold, -1, aux)\n",
    "    return aux\n",
    "\n",
    "\n",
    "AlphaInd = vbt.IndicatorFactory(\n",
    "    input_names=['open', 'high', 'low', 'close'],\n",
    "    param_names=['buy_threshold', 'sell_threshold'],\n",
    "    output_names=['signal']\n",
    ").from_apply_func(apply_func_nb)\n",
    "\n",
    "# dir(AlphaInd)\n",
    "\n",
    "def simulate_all_params(ohlc_windows, params_range):\n",
    "    # creamos las señales\n",
    "    open, high, low, close = list(map(lambda tu: tu[1].to_numpy(), ohlc_windows.groupby(level=1, axis=1)))\n",
    "    print(\"open\", open.shape)\n",
    "    momentum = AlphaInd.run(open=open, high=high, low=low, close=close,\n",
    "                            buy_threshold=params_range, sell_threshold=params_range,\n",
    "                            param_product=True,\n",
    "                            short_name=\"Momentum\")\n",
    "    ones = np.full(momentum.signal.shape, 1)\n",
    "    print(\"ones\", ones.shape)\n",
    "    entry_signal = momentum.signal_equal(ones, crossover=True)\n",
    "    exit_signal = momentum.signal_equal(-ones, crossover=True)\n",
    "    print(\"entry_signal\", entry_signal.shape)\n",
    "    trade_price = ohlc_windows.xs(\"Close\", level=1, axis=1)\n",
    "    print(\"trade_price\", trade_price.shape)\n",
    "    return ExtendedProtfolio.from_signals(trade_price, entry_signal, exit_signal, **portfolio_kwargs)\n",
    "\n",
    "\n",
    "# Simulamos\n",
    "params_range = np.linspace(0.1, 0.8, 8)\n",
    "portfolio = simulate_all_params(training_df, params_range)\n",
    "portfolio.expected_log_returns()"
   ],
   "metadata": {
    "collapsed": false,
    "pycharm": {
     "name": "#%%\n"
    }
   }
  }
 ],
 "metadata": {
  "kernelspec": {
   "display_name": "Python 3",
   "language": "python",
   "name": "python3"
  },
  "language_info": {
   "codemirror_mode": {
    "name": "ipython",
    "version": 3
   },
   "file_extension": ".py",
   "mimetype": "text/x-python",
   "name": "python",
   "nbconvert_exporter": "python",
   "pygments_lexer": "ipython3",
   "version": "3.7.10"
  }
 },
 "nbformat": 4,
 "nbformat_minor": 1
}