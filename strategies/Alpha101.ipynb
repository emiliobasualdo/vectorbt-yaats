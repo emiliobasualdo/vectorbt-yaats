{
 "cells": [
  {
   "cell_type": "code",
   "execution_count": null,
   "metadata": {
    "pycharm": {
     "name": "#%%\n"
    }
   },
   "outputs": [],
   "source": [
    "import os\n",
    "import sys\n",
    "from datetime import datetime\n",
    "module_path = os.path.abspath(os.path.join('..'))\n",
    "if module_path not in sys.path:\n",
    "    sys.path.append(module_path)\n",
    "from numba import njit\n",
    "import numpy as np\n",
    "from lib.utils import create_windows, file_to_data_frame, ExtendedPortfolio\n",
    "import pandas as pd\n",
    "import vectorbt as vbt"
   ]
  },
  {
   "cell_type": "code",
   "execution_count": null,
   "metadata": {
    "pycharm": {
     "name": "#%%\n"
    }
   },
   "outputs": [],
   "source": [
    "# leemos el csv\n",
    "(s_name, ohlcv) = file_to_data_frame(\n",
    "    \"../../Binance_ADAUSDT_minute.csv\")\n",
    "# agarramos solo las columnas que necesitamos\n",
    "cols = ohlcv.columns\n",
    "print(cols)\n",
    "#ohlcv.get([\"Open\", \"High\", \"Low\", \"Close\", \"Volume\"]).vbt.ohlcv.plot().show_png()\n",
    "ohlc = ohlcv.get([\"Open\", \"High\", \"Low\", \"Close\"])\n",
    "print(ohlc.head())"
   ]
  },
  {
   "cell_type": "code",
   "execution_count": null,
   "metadata": {
    "pycharm": {
     "name": "#%%\n"
    }
   },
   "outputs": [],
   "source": [
    "# creamos las ventanas\n",
    "figure, windows = create_windows(ohlc=ohlc, n=8, window_len=0.6, training_set_len=0.4)\n",
    "(in_df, in_df_index), (out_df, _) = windows"
   ]
  },
  {
   "cell_type": "code",
   "execution_count": null,
   "metadata": {},
   "outputs": [],
   "source": [
    "figure.show()"
   ]
  },
  {
   "cell_type": "code",
   "execution_count": null,
   "metadata": {
    "pycharm": {
     "name": "#%%\n"
    }
   },
   "outputs": [],
   "source": [
    "in_df.head()"
   ]
  },
  {
   "cell_type": "code",
   "execution_count": null,
   "metadata": {
    "pycharm": {
     "name": "#%%\n"
    }
   },
   "outputs": [],
   "source": [
    "portfolio_kwargs = dict(\n",
    "    direction='longonly',\n",
    "    freq='m'\n",
    ")\n"
   ]
  },
  {
   "cell_type": "code",
   "execution_count": null,
   "metadata": {
    "pycharm": {
     "name": "#%%\n"
    }
   },
   "outputs": [],
   "source": [
    "# creamos el indicador\n",
    "@njit\n",
    "def apply_alpha_nb(open: np.ndarray, high: np.ndarray, low: np.ndarray, close: np.ndarray, buy_threshold: float,\n",
    "                  sell_threshold: float):\n",
    "    aux = (close - open) / (high - low + 0.001)\n",
    "    aux = np.where(aux >= buy_threshold, 1, aux)\n",
    "    aux = np.where(aux <= -sell_threshold, -1, aux)\n",
    "    return aux\n",
    "\n",
    "AlphaInd = vbt.IndicatorFactory(\n",
    "    input_names=['open', 'high', 'low', 'close'],\n",
    "    param_names=['buy_threshold', 'sell_threshold'],\n",
    "    output_names=['signal']\n",
    ").from_apply_func(apply_alpha_nb)\n",
    "# dir(AlphaInd)"
   ]
  },
  {
   "cell_type": "code",
   "execution_count": null,
   "metadata": {
    "pycharm": {
     "name": "#%%\n"
    }
   },
   "outputs": [],
   "source": [
    "# Corremos con todas las combinaciones\n",
    "def simulate_all_params(ohlc_windows, buy_range, sell_range):\n",
    "    # creamos las señales\n",
    "    open = ohlc_windows.xs(\"Open\", level=1, axis=1)\n",
    "    high = ohlc_windows.xs(\"High\", level=1, axis=1)\n",
    "    low = ohlc_windows.xs(\"Low\", level=1, axis=1)\n",
    "    close = ohlc_windows.xs(\"Close\", level=1, axis=1)\n",
    "    momentum = AlphaInd.run(open=open, high=high, low=low, close=close,\n",
    "                            buy_threshold=buy_range, sell_threshold=sell_range,\n",
    "                            param_product=True,\n",
    "                            short_name=\"alpha\")\n",
    "    ones = np.full(momentum.signal.shape[-1], 1)\n",
    "    entry_signal = momentum.signal_equal(ones)\n",
    "    exit_signal = momentum.signal_equal(-ones)\n",
    "    return ExtendedPortfolio.from_signals(close, entry_signal, exit_signal, **portfolio_kwargs)\n",
    "\n",
    "\n",
    "# Optimizamos para el in y el out\n",
    "buy_range = np.linspace(0.0, 6, 10, endpoint=False)\n",
    "sell_range = np.linspace(0.7, 1, 10, endpoint=False)\n",
    "in_port = simulate_all_params(in_df, buy_range, sell_range)\n",
    "in_sharpe = in_port.sharpe_ratio()\n",
    "in_elr = in_port.expected_log_returns()\n",
    "#out_elr = simulate_all_params(out_df, params_range).expected_log_returns()"
   ]
  },
  {
   "cell_type": "code",
   "execution_count": null,
   "metadata": {
    "pycharm": {
     "name": "#%%\n"
    }
   },
   "outputs": [],
   "source": [
    "def get_best_index(performance, higher_better=True):\n",
    "    if higher_better:\n",
    "        return performance[performance.groupby('split_idx').idxmax()].index\n",
    "    return performance[performance.groupby('split_idx').idxmin()].index\n",
    "\n",
    "def get_best_params(best_index, level_name):\n",
    "    return best_index.get_level_values(level_name).to_numpy()"
   ]
  },
  {
   "cell_type": "code",
   "execution_count": null,
   "metadata": {
    "pycharm": {
     "name": "#%%\n"
    }
   },
   "outputs": [],
   "source": [
    "#Buscamos el índice de los mejores resultados del in\n",
    "in_best_index = get_best_index(in_elr)\n",
    "print(in_best_index)"
   ]
  },
  {
   "cell_type": "code",
   "execution_count": null,
   "metadata": {
    "pycharm": {
     "name": "#%%\n"
    }
   },
   "outputs": [],
   "source": [
    "in_best_buy_thresholds = get_best_params(in_best_index, 'alpha_buy_threshold')\n",
    "in_best_sell_thresholds = get_best_params(in_best_index, 'alpha_sell_threshold')\n",
    "in_best_threshold_pairs = np.array(list(zip(in_best_buy_thresholds, -in_best_sell_thresholds)))\n",
    "\n",
    "print(in_best_threshold_pairs)"
   ]
  },
  {
   "cell_type": "code",
   "execution_count": null,
   "metadata": {
    "pycharm": {
     "name": "#%%\n"
    }
   },
   "outputs": [],
   "source": [
    "pd.DataFrame(in_best_threshold_pairs, columns=['buy_threshold', 'sell_threshold']).vbt.plot().show()"
   ]
  },
  {
   "cell_type": "code",
   "execution_count": null,
   "metadata": {
    "pycharm": {
     "name": "#%%\n"
    }
   },
   "outputs": [],
   "source": [
    "# Corremos el out con los mejores parámetros de in\n",
    "#close, high, low, open = list(map(lambda tu: tu[1], in_df.groupby(level=1, axis=1)))\n",
    "open = in_df.xs(\"Open\", level=1, axis=1)\n",
    "high = in_df.xs(\"High\", level=1, axis=1)\n",
    "low = in_df.xs(\"Low\", level=1, axis=1)\n",
    "close = in_df.xs(\"Close\", level=1, axis=1)\n",
    "momentum = AlphaInd.run(open=open, high=high, low=low, close=close,\n",
    "                        buy_threshold=in_best_buy_thresholds, sell_threshold=in_best_sell_thresholds,\n",
    "                        short_name=\"alpha\", per_column=True)\n",
    "ones = np.full(momentum.signal.shape, 1)\n",
    "entry_signal = momentum.signal_equal(ones, crossover=True)\n",
    "exit_signal = momentum.signal_equal(-ones, crossover=True)\n",
    "# imprimo para confirmar que haya algún true\n",
    "entry_signal.loc[entry_signal[in_best_buy_thresholds[0], in_best_sell_thresholds[0], 0]==True].head()"
   ]
  },
  {
   "cell_type": "code",
   "execution_count": null,
   "metadata": {
    "pycharm": {
     "name": "#%%\n"
    }
   },
   "outputs": [],
   "source": [
    "trade_price = close\n",
    "out_test_port = ExtendedPortfolio.from_signals(trade_price, entry_signal, exit_signal, **portfolio_kwargs)\n",
    "out_test_elr = out_test_port.expected_log_returns()\n",
    "out_test_sharpe = out_test_port.sharpe_ratio()\n",
    "print(out_test_elr)"
   ]
  },
  {
   "cell_type": "code",
   "execution_count": null,
   "metadata": {
    "pycharm": {
     "name": "#%%\n"
    }
   },
   "outputs": [],
   "source": [
    "# simulamos Buy&Hold de cada in y out window y tomamos el expected log returns (elr)\n",
    "close_columns = list(filter(lambda col: \"Close\" in col[1], in_df.columns))\n",
    "in_hold_port = ExtendedPortfolio.from_holding(in_df[close_columns], **portfolio_kwargs)\n",
    "out_hold_port = ExtendedPortfolio.from_holding(out_df[close_columns], **portfolio_kwargs)\n",
    "print(in_hold_port.trades.values[:4])\n",
    "print(out_hold_port.trades.values[:4])\n",
    "in_hold_elr = in_hold_port.expected_log_returns()\n",
    "in_hold_sharpe = in_hold_port.sharpe_ratio()\n",
    "out_hold_elr = out_hold_port.expected_log_returns()\n",
    "out_hold_sharpe = out_hold_port.sharpe_ratio()\n",
    "print(in_hold_elr, out_hold_elr)"
   ]
  },
  {
   "cell_type": "code",
   "execution_count": null,
   "metadata": {
    "pycharm": {
     "name": "#%%\n"
    }
   },
   "outputs": [],
   "source": [
    "# ploteamos los elrs\n",
    "cv_results_df = pd.DataFrame({\n",
    "    'in_sample_hold': in_hold_elr.values,\n",
    "    #'in_sample_median': in_elr.groupby('split_idx').median().values,\n",
    "    'in_sample_best': in_elr[in_best_index].values,\n",
    "    'out_sample_hold': out_hold_elr.values,\n",
    "    #'out_sample_median': out_elr.groupby('split_idx').median().values,\n",
    "    'out_sample_test': out_test_elr.values\n",
    "})\n",
    "\n",
    "cv_results_df.vbt.plot(\n",
    "    trace_kwargs=[\n",
    "        dict(line_color=vbt.settings.color_schema['blue']),\n",
    "        ##dict(line_color=vbt.settings.color_schema['blue'], line_dash='dash'),\n",
    "        dict(line_color=vbt.settings.color_schema['blue'], line_dash='dot'),\n",
    "        dict(line_color=vbt.settings.color_schema['orange']),\n",
    "        #dict(line_color=vbt.settings.color_schema['orange'], line_dash='dash'),\n",
    "        dict(line_color=vbt.settings.color_schema['orange'], line_dash='dot')\n",
    "    ]\n",
    ").show()"
   ]
  },
  {
   "cell_type": "code",
   "execution_count": null,
   "metadata": {},
   "outputs": [],
   "source": [
    "#ploteamos los sharpes\n",
    "cv_results_df = pd.DataFrame({\n",
    "    'in_sample_hold': in_hold_sharpe.values,\n",
    "    'in_sample_best': in_sharpe[in_best_index].values,\n",
    "    'out_sample_hold': out_hold_sharpe.values,\n",
    "    'out_sample_test': out_test_sharpe.values\n",
    "})\n",
    "\n",
    "cv_results_df.vbt.plot(\n",
    "    trace_kwargs=[\n",
    "        dict(line_color=vbt.settings.color_schema['blue']),\n",
    "        dict(line_color=vbt.settings.color_schema['blue'], line_dash='dot'),\n",
    "        dict(line_color=vbt.settings.color_schema['orange']),\n",
    "        dict(line_color=vbt.settings.color_schema['orange'], line_dash='dot')\n",
    "    ]\n",
    ").show()"
   ]
  },
  {
   "cell_type": "code",
   "execution_count": null,
   "metadata": {
    "pycharm": {
     "name": "#%%\n"
    }
   },
   "outputs": [],
   "source": [
    "for col in in_best_index:\n",
    "    out_test_port.trades.plot(column=col).show()\n",
    "out_test_port.trades.plot_pnl(column=col).show()\n",
    "\n"
   ]
  }
 ],
 "metadata": {
  "kernelspec": {
   "display_name": "Python 3",
   "language": "python",
   "name": "python3"
  },
  "language_info": {
   "codemirror_mode": {
    "name": "ipython",
    "version": 3
   },
   "file_extension": ".py",
   "mimetype": "text/x-python",
   "name": "python",
   "nbconvert_exporter": "python",
   "pygments_lexer": "ipython3",
   "version": "3.7.9"
  }
 },
 "nbformat": 4,
 "nbformat_minor": 1
}
