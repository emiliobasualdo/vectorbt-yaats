{
 "cells": [
  {
   "cell_type": "code",
   "execution_count": 1,
   "metadata": {
    "pycharm": {
     "name": "#%%\n"
    }
   },
   "outputs": [],
   "source": [
    "import itertools\n",
    "import os\n",
    "import sys\n",
    "from itertools import combinations_with_replacement\n",
    "from math import e\n",
    "\n",
    "import numpy as np\n",
    "import pandas as pd\n",
    "from numba import njit\n",
    "from plotly.subplots import make_subplots\n",
    "from vectorbt.indicators import nb\n",
    "\n",
    "from lib.utils import file_to_data_frame, LR, ExtendedPortfolio, plot_series_vs_scatters, dropnaninf, get_best_index\n",
    "\n",
    "module_path = os.path.abspath(os.path.join('../..'))\n",
    "if module_path not in sys.path:\n",
    "    sys.path.append(module_path)\n",
    "import vectorbt as vbt\n"
   ]
  },
  {
   "cell_type": "code",
   "execution_count": 2,
   "metadata": {
    "pycharm": {
     "name": "#%%\n"
    }
   },
   "outputs": [
    {
     "data": {
      "text/plain": "                        Open     High      Low    Close  Volume ADA  \\\ndate                                                                  \n2021-03-12 01:29:00  1.12163  1.12331  1.12163  1.12238    147940.6   \n2021-03-12 01:30:00  1.12238  1.12247  1.12100  1.12190    100464.7   \n2021-03-12 01:31:00  1.12183  1.12268  1.12183  1.12265     98108.4   \n2021-03-12 01:32:00  1.12264  1.12307  1.12224  1.12244    183630.5   \n2021-03-12 01:33:00  1.12255  1.12279  1.12143  1.12178     89694.8   \n\n                            Volume  Tradecount  \ndate                                            \n2021-03-12 01:29:00  166105.769425         153  \n2021-03-12 01:30:00  112694.400152         182  \n2021-03-12 01:31:00  110099.944426         136  \n2021-03-12 01:32:00  206139.570488         184  \n2021-03-12 01:33:00  100645.251713         174  ",
      "text/html": "<div>\n<style scoped>\n    .dataframe tbody tr th:only-of-type {\n        vertical-align: middle;\n    }\n\n    .dataframe tbody tr th {\n        vertical-align: top;\n    }\n\n    .dataframe thead th {\n        text-align: right;\n    }\n</style>\n<table border=\"1\" class=\"dataframe\">\n  <thead>\n    <tr style=\"text-align: right;\">\n      <th></th>\n      <th>Open</th>\n      <th>High</th>\n      <th>Low</th>\n      <th>Close</th>\n      <th>Volume ADA</th>\n      <th>Volume</th>\n      <th>Tradecount</th>\n    </tr>\n    <tr>\n      <th>date</th>\n      <th></th>\n      <th></th>\n      <th></th>\n      <th></th>\n      <th></th>\n      <th></th>\n      <th></th>\n    </tr>\n  </thead>\n  <tbody>\n    <tr>\n      <th>2021-03-12 01:29:00</th>\n      <td>1.12163</td>\n      <td>1.12331</td>\n      <td>1.12163</td>\n      <td>1.12238</td>\n      <td>147940.6</td>\n      <td>166105.769425</td>\n      <td>153</td>\n    </tr>\n    <tr>\n      <th>2021-03-12 01:30:00</th>\n      <td>1.12238</td>\n      <td>1.12247</td>\n      <td>1.12100</td>\n      <td>1.12190</td>\n      <td>100464.7</td>\n      <td>112694.400152</td>\n      <td>182</td>\n    </tr>\n    <tr>\n      <th>2021-03-12 01:31:00</th>\n      <td>1.12183</td>\n      <td>1.12268</td>\n      <td>1.12183</td>\n      <td>1.12265</td>\n      <td>98108.4</td>\n      <td>110099.944426</td>\n      <td>136</td>\n    </tr>\n    <tr>\n      <th>2021-03-12 01:32:00</th>\n      <td>1.12264</td>\n      <td>1.12307</td>\n      <td>1.12224</td>\n      <td>1.12244</td>\n      <td>183630.5</td>\n      <td>206139.570488</td>\n      <td>184</td>\n    </tr>\n    <tr>\n      <th>2021-03-12 01:33:00</th>\n      <td>1.12255</td>\n      <td>1.12279</td>\n      <td>1.12143</td>\n      <td>1.12178</td>\n      <td>89694.8</td>\n      <td>100645.251713</td>\n      <td>174</td>\n    </tr>\n  </tbody>\n</table>\n</div>"
     },
     "execution_count": 2,
     "metadata": {},
     "output_type": "execute_result"
    }
   ],
   "source": [
    "file = \"/Users/pilo/development/itba/pf/Binance_Minute_OHLC_CSVs/mediums/Binance_ADAUSDT_minute_10000.csv\"\n",
    "_, ohlcv = file_to_data_frame(file)\n",
    "ohlcv. head()"
   ]
  },
  {
   "cell_type": "code",
   "execution_count": 3,
   "outputs": [
    {
     "name": "stdout",
     "output_type": "stream",
     "text": [
      "(9999,)\n"
     ]
    }
   ],
   "source": [
    "close = ohlcv[\"Close\"]\n",
    "volume = ohlcv[\"Volume\"]\n",
    "lr_ind = LR.run(close)\n",
    "print(lr_ind.lr.shape)"
   ],
   "metadata": {
    "collapsed": false,
    "pycharm": {
     "name": "#%%\n"
    }
   }
  },
  {
   "cell_type": "code",
   "execution_count": 4,
   "outputs": [],
   "source": [
    "lag = list(range(7,15))\n",
    "ma_ind = vbt.MA.run(lr_ind.lr, lag, short_name=\"lr_ma\")\n",
    "mstd_ind = vbt.MSTD.run(lr_ind.lr, lag)"
   ],
   "metadata": {
    "collapsed": false,
    "pycharm": {
     "name": "#%%\n"
    }
   }
  },
  {
   "cell_type": "code",
   "execution_count": 5,
   "outputs": [
    {
     "data": {
      "text/plain": "pitfalls_mu_thld    -0.08                            \nmstd_window            7   8   9   10  11  12  13  14\ndate                                                 \n2021-03-12 01:29:00   NaN NaN NaN NaN NaN NaN NaN NaN\n2021-03-12 01:30:00   NaN NaN NaN NaN NaN NaN NaN NaN\n2021-03-12 01:31:00   NaN NaN NaN NaN NaN NaN NaN NaN\n2021-03-12 01:32:00   NaN NaN NaN NaN NaN NaN NaN NaN\n2021-03-12 01:33:00   NaN NaN NaN NaN NaN NaN NaN NaN",
      "text/html": "<div>\n<style scoped>\n    .dataframe tbody tr th:only-of-type {\n        vertical-align: middle;\n    }\n\n    .dataframe tbody tr th {\n        vertical-align: top;\n    }\n\n    .dataframe thead tr th {\n        text-align: left;\n    }\n\n    .dataframe thead tr:last-of-type th {\n        text-align: right;\n    }\n</style>\n<table border=\"1\" class=\"dataframe\">\n  <thead>\n    <tr>\n      <th>pitfalls_mu_thld</th>\n      <th colspan=\"8\" halign=\"left\">-0.08</th>\n    </tr>\n    <tr>\n      <th>mstd_window</th>\n      <th>7</th>\n      <th>8</th>\n      <th>9</th>\n      <th>10</th>\n      <th>11</th>\n      <th>12</th>\n      <th>13</th>\n      <th>14</th>\n    </tr>\n    <tr>\n      <th>date</th>\n      <th></th>\n      <th></th>\n      <th></th>\n      <th></th>\n      <th></th>\n      <th></th>\n      <th></th>\n      <th></th>\n    </tr>\n  </thead>\n  <tbody>\n    <tr>\n      <th>2021-03-12 01:29:00</th>\n      <td>NaN</td>\n      <td>NaN</td>\n      <td>NaN</td>\n      <td>NaN</td>\n      <td>NaN</td>\n      <td>NaN</td>\n      <td>NaN</td>\n      <td>NaN</td>\n    </tr>\n    <tr>\n      <th>2021-03-12 01:30:00</th>\n      <td>NaN</td>\n      <td>NaN</td>\n      <td>NaN</td>\n      <td>NaN</td>\n      <td>NaN</td>\n      <td>NaN</td>\n      <td>NaN</td>\n      <td>NaN</td>\n    </tr>\n    <tr>\n      <th>2021-03-12 01:31:00</th>\n      <td>NaN</td>\n      <td>NaN</td>\n      <td>NaN</td>\n      <td>NaN</td>\n      <td>NaN</td>\n      <td>NaN</td>\n      <td>NaN</td>\n      <td>NaN</td>\n    </tr>\n    <tr>\n      <th>2021-03-12 01:32:00</th>\n      <td>NaN</td>\n      <td>NaN</td>\n      <td>NaN</td>\n      <td>NaN</td>\n      <td>NaN</td>\n      <td>NaN</td>\n      <td>NaN</td>\n      <td>NaN</td>\n    </tr>\n    <tr>\n      <th>2021-03-12 01:33:00</th>\n      <td>NaN</td>\n      <td>NaN</td>\n      <td>NaN</td>\n      <td>NaN</td>\n      <td>NaN</td>\n      <td>NaN</td>\n      <td>NaN</td>\n      <td>NaN</td>\n    </tr>\n  </tbody>\n</table>\n</div>"
     },
     "execution_count": 5,
     "metadata": {},
     "output_type": "execute_result"
    }
   ],
   "source": [
    "@njit\n",
    "def combination_nb(ma, std, thld):\n",
    "    return ma + thld * std\n",
    "\n",
    "LR_MULTIPLIER = vbt.IndicatorFactory(\n",
    "    input_names=['ma', 'std'],\n",
    "    param_names=['thld'],\n",
    "    output_names=['mu']\n",
    ").from_apply_func(combination_nb, use_ray=True)\n",
    "#u_t = 0.08 # np.linspace(0,2, 10, endpoint=True)\n",
    "d_t = -0.08 # np.linspace(0,2, 10, endpoint=True)\n",
    "# ups = LR_MULTIPLIER.run(ma_ind.ma, mstd_ind.mstd, thld=u_t, short_name=\"ups_mu\")\n",
    "pitfalls = LR_MULTIPLIER.run(ma_ind.ma, mstd_ind.mstd, thld=d_t, short_name=\"pitfalls_mu\")\n",
    "pitfalls.mu.head()"
   ],
   "metadata": {
    "collapsed": false,
    "pycharm": {
     "name": "#%%\n"
    }
   }
  },
  {
   "cell_type": "code",
   "execution_count": 6,
   "outputs": [
    {
     "data": {
      "text/plain": "pitfalls_mu_thld     -0.08                                                 \nmstd_window             7      8      9      10     11     12     13     14\ndate                                                                       \n2021-03-12 01:29:00  False  False  False  False  False  False  False  False\n2021-03-12 01:30:00  False  False  False  False  False  False  False  False\n2021-03-12 01:31:00  False  False  False  False  False  False  False  False\n2021-03-12 01:32:00  False  False  False  False  False  False  False  False\n2021-03-12 01:33:00  False  False  False  False  False  False  False  False",
      "text/html": "<div>\n<style scoped>\n    .dataframe tbody tr th:only-of-type {\n        vertical-align: middle;\n    }\n\n    .dataframe tbody tr th {\n        vertical-align: top;\n    }\n\n    .dataframe thead tr th {\n        text-align: left;\n    }\n\n    .dataframe thead tr:last-of-type th {\n        text-align: right;\n    }\n</style>\n<table border=\"1\" class=\"dataframe\">\n  <thead>\n    <tr>\n      <th>pitfalls_mu_thld</th>\n      <th colspan=\"8\" halign=\"left\">-0.08</th>\n    </tr>\n    <tr>\n      <th>mstd_window</th>\n      <th>7</th>\n      <th>8</th>\n      <th>9</th>\n      <th>10</th>\n      <th>11</th>\n      <th>12</th>\n      <th>13</th>\n      <th>14</th>\n    </tr>\n    <tr>\n      <th>date</th>\n      <th></th>\n      <th></th>\n      <th></th>\n      <th></th>\n      <th></th>\n      <th></th>\n      <th></th>\n      <th></th>\n    </tr>\n  </thead>\n  <tbody>\n    <tr>\n      <th>2021-03-12 01:29:00</th>\n      <td>False</td>\n      <td>False</td>\n      <td>False</td>\n      <td>False</td>\n      <td>False</td>\n      <td>False</td>\n      <td>False</td>\n      <td>False</td>\n    </tr>\n    <tr>\n      <th>2021-03-12 01:30:00</th>\n      <td>False</td>\n      <td>False</td>\n      <td>False</td>\n      <td>False</td>\n      <td>False</td>\n      <td>False</td>\n      <td>False</td>\n      <td>False</td>\n    </tr>\n    <tr>\n      <th>2021-03-12 01:31:00</th>\n      <td>False</td>\n      <td>False</td>\n      <td>False</td>\n      <td>False</td>\n      <td>False</td>\n      <td>False</td>\n      <td>False</td>\n      <td>False</td>\n    </tr>\n    <tr>\n      <th>2021-03-12 01:32:00</th>\n      <td>False</td>\n      <td>False</td>\n      <td>False</td>\n      <td>False</td>\n      <td>False</td>\n      <td>False</td>\n      <td>False</td>\n      <td>False</td>\n    </tr>\n    <tr>\n      <th>2021-03-12 01:33:00</th>\n      <td>False</td>\n      <td>False</td>\n      <td>False</td>\n      <td>False</td>\n      <td>False</td>\n      <td>False</td>\n      <td>False</td>\n      <td>False</td>\n    </tr>\n  </tbody>\n</table>\n</div>"
     },
     "execution_count": 6,
     "metadata": {},
     "output_type": "execute_result"
    }
   ],
   "source": [
    "lr_entries = lr_ind.lr_below(pitfalls.mu)\n",
    "#lr_exits = lr_ind.lr_above(ups.mu)\n",
    "lr_entries.head()"
   ],
   "metadata": {
    "collapsed": false,
    "pycharm": {
     "name": "#%%\n"
    }
   }
  },
  {
   "cell_type": "code",
   "execution_count": 7,
   "outputs": [
    {
     "data": {
      "text/plain": "ma_window            7   8   9   10  11  12  13  14\ndate                                               \n2021-03-12 01:29:00 NaN NaN NaN NaN NaN NaN NaN NaN\n2021-03-12 01:30:00 NaN NaN NaN NaN NaN NaN NaN NaN\n2021-03-12 01:31:00 NaN NaN NaN NaN NaN NaN NaN NaN\n2021-03-12 01:32:00 NaN NaN NaN NaN NaN NaN NaN NaN\n2021-03-12 01:33:00 NaN NaN NaN NaN NaN NaN NaN NaN",
      "text/html": "<div>\n<style scoped>\n    .dataframe tbody tr th:only-of-type {\n        vertical-align: middle;\n    }\n\n    .dataframe tbody tr th {\n        vertical-align: top;\n    }\n\n    .dataframe thead th {\n        text-align: right;\n    }\n</style>\n<table border=\"1\" class=\"dataframe\">\n  <thead>\n    <tr style=\"text-align: right;\">\n      <th>ma_window</th>\n      <th>7</th>\n      <th>8</th>\n      <th>9</th>\n      <th>10</th>\n      <th>11</th>\n      <th>12</th>\n      <th>13</th>\n      <th>14</th>\n    </tr>\n    <tr>\n      <th>date</th>\n      <th></th>\n      <th></th>\n      <th></th>\n      <th></th>\n      <th></th>\n      <th></th>\n      <th></th>\n      <th></th>\n    </tr>\n  </thead>\n  <tbody>\n    <tr>\n      <th>2021-03-12 01:29:00</th>\n      <td>NaN</td>\n      <td>NaN</td>\n      <td>NaN</td>\n      <td>NaN</td>\n      <td>NaN</td>\n      <td>NaN</td>\n      <td>NaN</td>\n      <td>NaN</td>\n    </tr>\n    <tr>\n      <th>2021-03-12 01:30:00</th>\n      <td>NaN</td>\n      <td>NaN</td>\n      <td>NaN</td>\n      <td>NaN</td>\n      <td>NaN</td>\n      <td>NaN</td>\n      <td>NaN</td>\n      <td>NaN</td>\n    </tr>\n    <tr>\n      <th>2021-03-12 01:31:00</th>\n      <td>NaN</td>\n      <td>NaN</td>\n      <td>NaN</td>\n      <td>NaN</td>\n      <td>NaN</td>\n      <td>NaN</td>\n      <td>NaN</td>\n      <td>NaN</td>\n    </tr>\n    <tr>\n      <th>2021-03-12 01:32:00</th>\n      <td>NaN</td>\n      <td>NaN</td>\n      <td>NaN</td>\n      <td>NaN</td>\n      <td>NaN</td>\n      <td>NaN</td>\n      <td>NaN</td>\n      <td>NaN</td>\n    </tr>\n    <tr>\n      <th>2021-03-12 01:33:00</th>\n      <td>NaN</td>\n      <td>NaN</td>\n      <td>NaN</td>\n      <td>NaN</td>\n      <td>NaN</td>\n      <td>NaN</td>\n      <td>NaN</td>\n      <td>NaN</td>\n    </tr>\n  </tbody>\n</table>\n</div>"
     },
     "execution_count": 7,
     "metadata": {},
     "output_type": "execute_result"
    }
   ],
   "source": [
    "vol_ma = vbt.MA.run(volume, lag)\n",
    "vol_ma.ma.head()"
   ],
   "metadata": {
    "collapsed": false,
    "pycharm": {
     "name": "#%%\n"
    }
   }
  },
  {
   "cell_type": "code",
   "execution_count": 8,
   "outputs": [],
   "source": [
    "@njit\n",
    "def multiplier_nb(values, m):\n",
    "    return m * values\n",
    "\n",
    "MULTIPLIER = vbt.IndicatorFactory(\n",
    "    input_names=['values'],\n",
    "    param_names=['m'],\n",
    "    output_names=['mu']\n",
    ").from_apply_func(multiplier_nb)"
   ],
   "metadata": {
    "collapsed": false,
    "pycharm": {
     "name": "#%%\n"
    }
   }
  },
  {
   "cell_type": "code",
   "execution_count": 9,
   "outputs": [
    {
     "name": "stdout",
     "output_type": "stream",
     "text": [
      "sum vol_mu_m  ma_window\n",
      "1.5       7            1361\n",
      "          8            1393\n",
      "          9            1391\n",
      "          10           1438\n",
      "          11           1440\n",
      "          12           1469\n",
      "          13           1483\n",
      "          14           1482\n",
      "dtype: int64\n",
      "shape (9999,)\n"
     ]
    },
    {
     "data": {
      "text/plain": "vol_mu_m               1.5                                                 \nma_window               7      8      9      10     11     12     13     14\ndate                                                                       \n2021-03-12 01:29:00  False  False  False  False  False  False  False  False\n2021-03-12 01:30:00  False  False  False  False  False  False  False  False\n2021-03-12 01:31:00  False  False  False  False  False  False  False  False\n2021-03-12 01:32:00  False  False  False  False  False  False  False  False\n2021-03-12 01:33:00  False  False  False  False  False  False  False  False",
      "text/html": "<div>\n<style scoped>\n    .dataframe tbody tr th:only-of-type {\n        vertical-align: middle;\n    }\n\n    .dataframe tbody tr th {\n        vertical-align: top;\n    }\n\n    .dataframe thead tr th {\n        text-align: left;\n    }\n\n    .dataframe thead tr:last-of-type th {\n        text-align: right;\n    }\n</style>\n<table border=\"1\" class=\"dataframe\">\n  <thead>\n    <tr>\n      <th>vol_mu_m</th>\n      <th colspan=\"8\" halign=\"left\">1.5</th>\n    </tr>\n    <tr>\n      <th>ma_window</th>\n      <th>7</th>\n      <th>8</th>\n      <th>9</th>\n      <th>10</th>\n      <th>11</th>\n      <th>12</th>\n      <th>13</th>\n      <th>14</th>\n    </tr>\n    <tr>\n      <th>date</th>\n      <th></th>\n      <th></th>\n      <th></th>\n      <th></th>\n      <th></th>\n      <th></th>\n      <th></th>\n      <th></th>\n    </tr>\n  </thead>\n  <tbody>\n    <tr>\n      <th>2021-03-12 01:29:00</th>\n      <td>False</td>\n      <td>False</td>\n      <td>False</td>\n      <td>False</td>\n      <td>False</td>\n      <td>False</td>\n      <td>False</td>\n      <td>False</td>\n    </tr>\n    <tr>\n      <th>2021-03-12 01:30:00</th>\n      <td>False</td>\n      <td>False</td>\n      <td>False</td>\n      <td>False</td>\n      <td>False</td>\n      <td>False</td>\n      <td>False</td>\n      <td>False</td>\n    </tr>\n    <tr>\n      <th>2021-03-12 01:31:00</th>\n      <td>False</td>\n      <td>False</td>\n      <td>False</td>\n      <td>False</td>\n      <td>False</td>\n      <td>False</td>\n      <td>False</td>\n      <td>False</td>\n    </tr>\n    <tr>\n      <th>2021-03-12 01:32:00</th>\n      <td>False</td>\n      <td>False</td>\n      <td>False</td>\n      <td>False</td>\n      <td>False</td>\n      <td>False</td>\n      <td>False</td>\n      <td>False</td>\n    </tr>\n    <tr>\n      <th>2021-03-12 01:33:00</th>\n      <td>False</td>\n      <td>False</td>\n      <td>False</td>\n      <td>False</td>\n      <td>False</td>\n      <td>False</td>\n      <td>False</td>\n      <td>False</td>\n    </tr>\n  </tbody>\n</table>\n</div>"
     },
     "execution_count": 9,
     "metadata": {},
     "output_type": "execute_result"
    }
   ],
   "source": [
    "# Volume part:\n",
    "vol_threshold = 1.5 # np.linspace(0.995839, 2, 20)\n",
    "vol_multiplier = MULTIPLIER.run(vol_ma.ma, vol_threshold, short_name=\"vol_mu\")\n",
    "# TODO filtrar los que no generan entries\n",
    "vol_entries = vol_multiplier.mu_below(volume)\n",
    "print(\"sum\", vol_entries.sum(axis=0))\n",
    "print(\"shape\", volume.shape)\n",
    "vol_entries.head()"
   ],
   "metadata": {
    "collapsed": false,
    "pycharm": {
     "name": "#%%\n"
    }
   }
  },
  {
   "cell_type": "code",
   "execution_count": 10,
   "outputs": [
    {
     "data": {
      "text/plain": "pitfalls_mu_thld     -0.08                                                 \nmstd_window             7      8      9      10     11     12     13     14\ndate                                                                       \n2021-03-12 01:29:00  False  False  False  False  False  False  False  False\n2021-03-12 01:30:00  False  False  False  False  False  False  False  False\n2021-03-12 01:31:00  False  False  False  False  False  False  False  False\n2021-03-12 01:32:00  False  False  False  False  False  False  False  False\n2021-03-12 01:33:00  False  False  False  False  False  False  False  False",
      "text/html": "<div>\n<style scoped>\n    .dataframe tbody tr th:only-of-type {\n        vertical-align: middle;\n    }\n\n    .dataframe tbody tr th {\n        vertical-align: top;\n    }\n\n    .dataframe thead tr th {\n        text-align: left;\n    }\n\n    .dataframe thead tr:last-of-type th {\n        text-align: right;\n    }\n</style>\n<table border=\"1\" class=\"dataframe\">\n  <thead>\n    <tr>\n      <th>pitfalls_mu_thld</th>\n      <th colspan=\"8\" halign=\"left\">-0.08</th>\n    </tr>\n    <tr>\n      <th>mstd_window</th>\n      <th>7</th>\n      <th>8</th>\n      <th>9</th>\n      <th>10</th>\n      <th>11</th>\n      <th>12</th>\n      <th>13</th>\n      <th>14</th>\n    </tr>\n    <tr>\n      <th>date</th>\n      <th></th>\n      <th></th>\n      <th></th>\n      <th></th>\n      <th></th>\n      <th></th>\n      <th></th>\n      <th></th>\n    </tr>\n  </thead>\n  <tbody>\n    <tr>\n      <th>2021-03-12 01:29:00</th>\n      <td>False</td>\n      <td>False</td>\n      <td>False</td>\n      <td>False</td>\n      <td>False</td>\n      <td>False</td>\n      <td>False</td>\n      <td>False</td>\n    </tr>\n    <tr>\n      <th>2021-03-12 01:30:00</th>\n      <td>False</td>\n      <td>False</td>\n      <td>False</td>\n      <td>False</td>\n      <td>False</td>\n      <td>False</td>\n      <td>False</td>\n      <td>False</td>\n    </tr>\n    <tr>\n      <th>2021-03-12 01:31:00</th>\n      <td>False</td>\n      <td>False</td>\n      <td>False</td>\n      <td>False</td>\n      <td>False</td>\n      <td>False</td>\n      <td>False</td>\n      <td>False</td>\n    </tr>\n    <tr>\n      <th>2021-03-12 01:32:00</th>\n      <td>False</td>\n      <td>False</td>\n      <td>False</td>\n      <td>False</td>\n      <td>False</td>\n      <td>False</td>\n      <td>False</td>\n      <td>False</td>\n    </tr>\n    <tr>\n      <th>2021-03-12 01:33:00</th>\n      <td>False</td>\n      <td>False</td>\n      <td>False</td>\n      <td>False</td>\n      <td>False</td>\n      <td>False</td>\n      <td>False</td>\n      <td>False</td>\n    </tr>\n  </tbody>\n</table>\n</div>"
     },
     "execution_count": 10,
     "metadata": {},
     "output_type": "execute_result"
    }
   ],
   "source": [
    "lr_entries.head()"
   ],
   "metadata": {
    "collapsed": false,
    "pycharm": {
     "name": "#%%\n"
    }
   }
  },
  {
   "cell_type": "code",
   "execution_count": 11,
   "outputs": [
    {
     "data": {
      "text/plain": "vol_mu_m               1.5                                                 \nlag                     7      8      9      10     11     12     13     14\ndate                                                                       \n2021-03-12 01:29:00  False  False  False  False  False  False  False  False\n2021-03-12 01:30:00  False  False  False  False  False  False  False  False\n2021-03-12 01:31:00  False  False  False  False  False  False  False  False\n2021-03-12 01:32:00  False  False  False  False  False  False  False  False\n2021-03-12 01:33:00  False  False  False  False  False  False  False  False\n...                    ...    ...    ...    ...    ...    ...    ...    ...\n2021-03-19 00:03:00   True   True   True   True   True   True   True   True\n2021-03-19 00:04:00  False  False  False  False  False   True   True   True\n2021-03-19 00:05:00  False  False  False  False  False  False  False  False\n2021-03-19 00:06:00  False  False  False  False  False  False  False  False\n2021-03-19 00:07:00  False  False  False  False  False  False  False  False\n\n[9999 rows x 8 columns]",
      "text/html": "<div>\n<style scoped>\n    .dataframe tbody tr th:only-of-type {\n        vertical-align: middle;\n    }\n\n    .dataframe tbody tr th {\n        vertical-align: top;\n    }\n\n    .dataframe thead tr th {\n        text-align: left;\n    }\n\n    .dataframe thead tr:last-of-type th {\n        text-align: right;\n    }\n</style>\n<table border=\"1\" class=\"dataframe\">\n  <thead>\n    <tr>\n      <th>vol_mu_m</th>\n      <th colspan=\"8\" halign=\"left\">1.5</th>\n    </tr>\n    <tr>\n      <th>lag</th>\n      <th>7</th>\n      <th>8</th>\n      <th>9</th>\n      <th>10</th>\n      <th>11</th>\n      <th>12</th>\n      <th>13</th>\n      <th>14</th>\n    </tr>\n    <tr>\n      <th>date</th>\n      <th></th>\n      <th></th>\n      <th></th>\n      <th></th>\n      <th></th>\n      <th></th>\n      <th></th>\n      <th></th>\n    </tr>\n  </thead>\n  <tbody>\n    <tr>\n      <th>2021-03-12 01:29:00</th>\n      <td>False</td>\n      <td>False</td>\n      <td>False</td>\n      <td>False</td>\n      <td>False</td>\n      <td>False</td>\n      <td>False</td>\n      <td>False</td>\n    </tr>\n    <tr>\n      <th>2021-03-12 01:30:00</th>\n      <td>False</td>\n      <td>False</td>\n      <td>False</td>\n      <td>False</td>\n      <td>False</td>\n      <td>False</td>\n      <td>False</td>\n      <td>False</td>\n    </tr>\n    <tr>\n      <th>2021-03-12 01:31:00</th>\n      <td>False</td>\n      <td>False</td>\n      <td>False</td>\n      <td>False</td>\n      <td>False</td>\n      <td>False</td>\n      <td>False</td>\n      <td>False</td>\n    </tr>\n    <tr>\n      <th>2021-03-12 01:32:00</th>\n      <td>False</td>\n      <td>False</td>\n      <td>False</td>\n      <td>False</td>\n      <td>False</td>\n      <td>False</td>\n      <td>False</td>\n      <td>False</td>\n    </tr>\n    <tr>\n      <th>2021-03-12 01:33:00</th>\n      <td>False</td>\n      <td>False</td>\n      <td>False</td>\n      <td>False</td>\n      <td>False</td>\n      <td>False</td>\n      <td>False</td>\n      <td>False</td>\n    </tr>\n    <tr>\n      <th>...</th>\n      <td>...</td>\n      <td>...</td>\n      <td>...</td>\n      <td>...</td>\n      <td>...</td>\n      <td>...</td>\n      <td>...</td>\n      <td>...</td>\n    </tr>\n    <tr>\n      <th>2021-03-19 00:03:00</th>\n      <td>True</td>\n      <td>True</td>\n      <td>True</td>\n      <td>True</td>\n      <td>True</td>\n      <td>True</td>\n      <td>True</td>\n      <td>True</td>\n    </tr>\n    <tr>\n      <th>2021-03-19 00:04:00</th>\n      <td>False</td>\n      <td>False</td>\n      <td>False</td>\n      <td>False</td>\n      <td>False</td>\n      <td>True</td>\n      <td>True</td>\n      <td>True</td>\n    </tr>\n    <tr>\n      <th>2021-03-19 00:05:00</th>\n      <td>False</td>\n      <td>False</td>\n      <td>False</td>\n      <td>False</td>\n      <td>False</td>\n      <td>False</td>\n      <td>False</td>\n      <td>False</td>\n    </tr>\n    <tr>\n      <th>2021-03-19 00:06:00</th>\n      <td>False</td>\n      <td>False</td>\n      <td>False</td>\n      <td>False</td>\n      <td>False</td>\n      <td>False</td>\n      <td>False</td>\n      <td>False</td>\n    </tr>\n    <tr>\n      <th>2021-03-19 00:07:00</th>\n      <td>False</td>\n      <td>False</td>\n      <td>False</td>\n      <td>False</td>\n      <td>False</td>\n      <td>False</td>\n      <td>False</td>\n      <td>False</td>\n    </tr>\n  </tbody>\n</table>\n<p>9999 rows × 8 columns</p>\n</div>"
     },
     "execution_count": 11,
     "metadata": {},
     "output_type": "execute_result"
    }
   ],
   "source": [
    "lr_entries.columns = lr_entries.columns.rename(\"lag\", level=-1)\n",
    "vol_entries.columns = vol_entries.columns.rename(\"lag\", level=-1)\n",
    "vol_entries"
   ],
   "metadata": {
    "collapsed": false,
    "pycharm": {
     "name": "#%%\n"
    }
   }
  },
  {
   "cell_type": "code",
   "execution_count": 12,
   "outputs": [
    {
     "data": {
      "text/plain": "lag                     7      8      9      10     11     12     13     14\npitfalls_mu_thld     -0.08  -0.08  -0.08  -0.08  -0.08  -0.08  -0.08  -0.08\nvol_mu_m               1.5    1.5    1.5    1.5    1.5    1.5    1.5    1.5\ndate                                                                       \n2021-03-12 01:29:00  False  False  False  False  False  False  False  False\n2021-03-12 01:30:00  False  False  False  False  False  False  False  False\n2021-03-12 01:31:00  False  False  False  False  False  False  False  False\n2021-03-12 01:32:00  False  False  False  False  False  False  False  False\n2021-03-12 01:33:00  False  False  False  False  False  False  False  False\n...                    ...    ...    ...    ...    ...    ...    ...    ...\n2021-03-19 00:03:00  False  False  False  False  False  False  False  False\n2021-03-19 00:04:00  False  False  False  False  False  False  False  False\n2021-03-19 00:05:00  False  False  False  False  False  False  False  False\n2021-03-19 00:06:00  False  False  False  False  False  False  False  False\n2021-03-19 00:07:00  False  False  False  False  False  False  False  False\n\n[9999 rows x 8 columns]",
      "text/html": "<div>\n<style scoped>\n    .dataframe tbody tr th:only-of-type {\n        vertical-align: middle;\n    }\n\n    .dataframe tbody tr th {\n        vertical-align: top;\n    }\n\n    .dataframe thead tr th {\n        text-align: left;\n    }\n\n    .dataframe thead tr:last-of-type th {\n        text-align: right;\n    }\n</style>\n<table border=\"1\" class=\"dataframe\">\n  <thead>\n    <tr>\n      <th>lag</th>\n      <th>7</th>\n      <th>8</th>\n      <th>9</th>\n      <th>10</th>\n      <th>11</th>\n      <th>12</th>\n      <th>13</th>\n      <th>14</th>\n    </tr>\n    <tr>\n      <th>pitfalls_mu_thld</th>\n      <th>-0.08</th>\n      <th>-0.08</th>\n      <th>-0.08</th>\n      <th>-0.08</th>\n      <th>-0.08</th>\n      <th>-0.08</th>\n      <th>-0.08</th>\n      <th>-0.08</th>\n    </tr>\n    <tr>\n      <th>vol_mu_m</th>\n      <th>1.5</th>\n      <th>1.5</th>\n      <th>1.5</th>\n      <th>1.5</th>\n      <th>1.5</th>\n      <th>1.5</th>\n      <th>1.5</th>\n      <th>1.5</th>\n    </tr>\n    <tr>\n      <th>date</th>\n      <th></th>\n      <th></th>\n      <th></th>\n      <th></th>\n      <th></th>\n      <th></th>\n      <th></th>\n      <th></th>\n    </tr>\n  </thead>\n  <tbody>\n    <tr>\n      <th>2021-03-12 01:29:00</th>\n      <td>False</td>\n      <td>False</td>\n      <td>False</td>\n      <td>False</td>\n      <td>False</td>\n      <td>False</td>\n      <td>False</td>\n      <td>False</td>\n    </tr>\n    <tr>\n      <th>2021-03-12 01:30:00</th>\n      <td>False</td>\n      <td>False</td>\n      <td>False</td>\n      <td>False</td>\n      <td>False</td>\n      <td>False</td>\n      <td>False</td>\n      <td>False</td>\n    </tr>\n    <tr>\n      <th>2021-03-12 01:31:00</th>\n      <td>False</td>\n      <td>False</td>\n      <td>False</td>\n      <td>False</td>\n      <td>False</td>\n      <td>False</td>\n      <td>False</td>\n      <td>False</td>\n    </tr>\n    <tr>\n      <th>2021-03-12 01:32:00</th>\n      <td>False</td>\n      <td>False</td>\n      <td>False</td>\n      <td>False</td>\n      <td>False</td>\n      <td>False</td>\n      <td>False</td>\n      <td>False</td>\n    </tr>\n    <tr>\n      <th>2021-03-12 01:33:00</th>\n      <td>False</td>\n      <td>False</td>\n      <td>False</td>\n      <td>False</td>\n      <td>False</td>\n      <td>False</td>\n      <td>False</td>\n      <td>False</td>\n    </tr>\n    <tr>\n      <th>...</th>\n      <td>...</td>\n      <td>...</td>\n      <td>...</td>\n      <td>...</td>\n      <td>...</td>\n      <td>...</td>\n      <td>...</td>\n      <td>...</td>\n    </tr>\n    <tr>\n      <th>2021-03-19 00:03:00</th>\n      <td>False</td>\n      <td>False</td>\n      <td>False</td>\n      <td>False</td>\n      <td>False</td>\n      <td>False</td>\n      <td>False</td>\n      <td>False</td>\n    </tr>\n    <tr>\n      <th>2021-03-19 00:04:00</th>\n      <td>False</td>\n      <td>False</td>\n      <td>False</td>\n      <td>False</td>\n      <td>False</td>\n      <td>False</td>\n      <td>False</td>\n      <td>False</td>\n    </tr>\n    <tr>\n      <th>2021-03-19 00:05:00</th>\n      <td>False</td>\n      <td>False</td>\n      <td>False</td>\n      <td>False</td>\n      <td>False</td>\n      <td>False</td>\n      <td>False</td>\n      <td>False</td>\n    </tr>\n    <tr>\n      <th>2021-03-19 00:06:00</th>\n      <td>False</td>\n      <td>False</td>\n      <td>False</td>\n      <td>False</td>\n      <td>False</td>\n      <td>False</td>\n      <td>False</td>\n      <td>False</td>\n    </tr>\n    <tr>\n      <th>2021-03-19 00:07:00</th>\n      <td>False</td>\n      <td>False</td>\n      <td>False</td>\n      <td>False</td>\n      <td>False</td>\n      <td>False</td>\n      <td>False</td>\n      <td>False</td>\n    </tr>\n  </tbody>\n</table>\n<p>9999 rows × 8 columns</p>\n</div>"
     },
     "execution_count": 12,
     "metadata": {},
     "output_type": "execute_result"
    }
   ],
   "source": [
    "final_entries = lr_entries & vol_entries\n",
    "final_entries"
   ],
   "metadata": {
    "collapsed": false,
    "pycharm": {
     "name": "#%%\n"
    }
   }
  },
  {
   "cell_type": "code",
   "execution_count": 13,
   "outputs": [],
   "source": [
    "@njit\n",
    "def double_multiplier_nb(values, x, y):\n",
    "    return values*x, values*y\n",
    "\n",
    "MULTIPLIER = vbt.IndicatorFactory(\n",
    "    input_names=['values'],\n",
    "    param_names=['x', 'y'],\n",
    "    output_names=['x_mu','y_mu']\n",
    ").from_apply_func(double_multiplier_nb)\n",
    "x = np.linspace(0,2,5, endpoint=True)\n",
    "y = -np.linspace(0,2,5, endpoint=True)\n",
    "tp_sl = MULTIPLIER.run(mstd_ind.mstd, x, y, param_product=True, short_name=\"tp_sl\")"
   ],
   "metadata": {
    "collapsed": false,
    "pycharm": {
     "name": "#%%\n"
    }
   }
  },
  {
   "cell_type": "code",
   "execution_count": 14,
   "outputs": [
    {
     "data": {
      "text/plain": "tp_sl_x                0.0                                                   \\\ntp_sl_y               -0.0                                                    \nlag                     7      8      9      10     11     12     13     14   \ndate                                                                          \n2021-03-12 01:29:00  False  False  False  False  False  False  False  False   \n2021-03-12 01:30:00  False  False  False  False  False  False  False  False   \n2021-03-12 01:31:00  False  False  False  False  False  False  False  False   \n2021-03-12 01:32:00  False  False  False  False  False  False  False  False   \n2021-03-12 01:33:00  False  False  False  False  False  False  False  False   \n...                    ...    ...    ...    ...    ...    ...    ...    ...   \n2021-03-19 00:03:00   True   True   True   True   True   True   True   True   \n2021-03-19 00:04:00   True   True   True   True   True   True   True   True   \n2021-03-19 00:05:00   True   True   True   True   True   True   True   True   \n2021-03-19 00:06:00   True   True   True   True   True   True   True   True   \n2021-03-19 00:07:00   True   True   True   True   True   True   True   True   \n\ntp_sl_x                            ...    2.0                              \\\ntp_sl_y               -0.5         ...   -1.5          -2.0                 \nlag                     7      8   ...     13     14     7      8      9    \ndate                               ...                                      \n2021-03-12 01:29:00  False  False  ...  False  False  False  False  False   \n2021-03-12 01:30:00  False  False  ...  False  False  False  False  False   \n2021-03-12 01:31:00  False  False  ...  False  False  False  False  False   \n2021-03-12 01:32:00  False  False  ...  False  False  False  False  False   \n2021-03-12 01:33:00  False  False  ...  False  False  False  False  False   \n...                    ...    ...  ...    ...    ...    ...    ...    ...   \n2021-03-19 00:03:00  False  False  ...  False  False  False  False  False   \n2021-03-19 00:04:00   True   True  ...  False   True  False  False  False   \n2021-03-19 00:05:00  False  False  ...  False  False  False  False  False   \n2021-03-19 00:06:00   True   True  ...  False  False  False  False  False   \n2021-03-19 00:07:00  False  False  ...  False  False  False  False  False   \n\ntp_sl_x                                                 \ntp_sl_y                                                 \nlag                     10     11     12     13     14  \ndate                                                    \n2021-03-12 01:29:00  False  False  False  False  False  \n2021-03-12 01:30:00  False  False  False  False  False  \n2021-03-12 01:31:00  False  False  False  False  False  \n2021-03-12 01:32:00  False  False  False  False  False  \n2021-03-12 01:33:00  False  False  False  False  False  \n...                    ...    ...    ...    ...    ...  \n2021-03-19 00:03:00  False  False  False  False  False  \n2021-03-19 00:04:00  False  False  False  False   True  \n2021-03-19 00:05:00  False  False  False  False  False  \n2021-03-19 00:06:00  False  False  False  False  False  \n2021-03-19 00:07:00  False  False  False  False  False  \n\n[9999 rows x 200 columns]",
      "text/html": "<div>\n<style scoped>\n    .dataframe tbody tr th:only-of-type {\n        vertical-align: middle;\n    }\n\n    .dataframe tbody tr th {\n        vertical-align: top;\n    }\n\n    .dataframe thead tr th {\n        text-align: left;\n    }\n\n    .dataframe thead tr:last-of-type th {\n        text-align: right;\n    }\n</style>\n<table border=\"1\" class=\"dataframe\">\n  <thead>\n    <tr>\n      <th>tp_sl_x</th>\n      <th colspan=\"10\" halign=\"left\">0.0</th>\n      <th>...</th>\n      <th colspan=\"10\" halign=\"left\">2.0</th>\n    </tr>\n    <tr>\n      <th>tp_sl_y</th>\n      <th colspan=\"8\" halign=\"left\">-0.0</th>\n      <th colspan=\"2\" halign=\"left\">-0.5</th>\n      <th>...</th>\n      <th colspan=\"2\" halign=\"left\">-1.5</th>\n      <th colspan=\"8\" halign=\"left\">-2.0</th>\n    </tr>\n    <tr>\n      <th>lag</th>\n      <th>7</th>\n      <th>8</th>\n      <th>9</th>\n      <th>10</th>\n      <th>11</th>\n      <th>12</th>\n      <th>13</th>\n      <th>14</th>\n      <th>7</th>\n      <th>8</th>\n      <th>...</th>\n      <th>13</th>\n      <th>14</th>\n      <th>7</th>\n      <th>8</th>\n      <th>9</th>\n      <th>10</th>\n      <th>11</th>\n      <th>12</th>\n      <th>13</th>\n      <th>14</th>\n    </tr>\n    <tr>\n      <th>date</th>\n      <th></th>\n      <th></th>\n      <th></th>\n      <th></th>\n      <th></th>\n      <th></th>\n      <th></th>\n      <th></th>\n      <th></th>\n      <th></th>\n      <th></th>\n      <th></th>\n      <th></th>\n      <th></th>\n      <th></th>\n      <th></th>\n      <th></th>\n      <th></th>\n      <th></th>\n      <th></th>\n      <th></th>\n    </tr>\n  </thead>\n  <tbody>\n    <tr>\n      <th>2021-03-12 01:29:00</th>\n      <td>False</td>\n      <td>False</td>\n      <td>False</td>\n      <td>False</td>\n      <td>False</td>\n      <td>False</td>\n      <td>False</td>\n      <td>False</td>\n      <td>False</td>\n      <td>False</td>\n      <td>...</td>\n      <td>False</td>\n      <td>False</td>\n      <td>False</td>\n      <td>False</td>\n      <td>False</td>\n      <td>False</td>\n      <td>False</td>\n      <td>False</td>\n      <td>False</td>\n      <td>False</td>\n    </tr>\n    <tr>\n      <th>2021-03-12 01:30:00</th>\n      <td>False</td>\n      <td>False</td>\n      <td>False</td>\n      <td>False</td>\n      <td>False</td>\n      <td>False</td>\n      <td>False</td>\n      <td>False</td>\n      <td>False</td>\n      <td>False</td>\n      <td>...</td>\n      <td>False</td>\n      <td>False</td>\n      <td>False</td>\n      <td>False</td>\n      <td>False</td>\n      <td>False</td>\n      <td>False</td>\n      <td>False</td>\n      <td>False</td>\n      <td>False</td>\n    </tr>\n    <tr>\n      <th>2021-03-12 01:31:00</th>\n      <td>False</td>\n      <td>False</td>\n      <td>False</td>\n      <td>False</td>\n      <td>False</td>\n      <td>False</td>\n      <td>False</td>\n      <td>False</td>\n      <td>False</td>\n      <td>False</td>\n      <td>...</td>\n      <td>False</td>\n      <td>False</td>\n      <td>False</td>\n      <td>False</td>\n      <td>False</td>\n      <td>False</td>\n      <td>False</td>\n      <td>False</td>\n      <td>False</td>\n      <td>False</td>\n    </tr>\n    <tr>\n      <th>2021-03-12 01:32:00</th>\n      <td>False</td>\n      <td>False</td>\n      <td>False</td>\n      <td>False</td>\n      <td>False</td>\n      <td>False</td>\n      <td>False</td>\n      <td>False</td>\n      <td>False</td>\n      <td>False</td>\n      <td>...</td>\n      <td>False</td>\n      <td>False</td>\n      <td>False</td>\n      <td>False</td>\n      <td>False</td>\n      <td>False</td>\n      <td>False</td>\n      <td>False</td>\n      <td>False</td>\n      <td>False</td>\n    </tr>\n    <tr>\n      <th>2021-03-12 01:33:00</th>\n      <td>False</td>\n      <td>False</td>\n      <td>False</td>\n      <td>False</td>\n      <td>False</td>\n      <td>False</td>\n      <td>False</td>\n      <td>False</td>\n      <td>False</td>\n      <td>False</td>\n      <td>...</td>\n      <td>False</td>\n      <td>False</td>\n      <td>False</td>\n      <td>False</td>\n      <td>False</td>\n      <td>False</td>\n      <td>False</td>\n      <td>False</td>\n      <td>False</td>\n      <td>False</td>\n    </tr>\n    <tr>\n      <th>...</th>\n      <td>...</td>\n      <td>...</td>\n      <td>...</td>\n      <td>...</td>\n      <td>...</td>\n      <td>...</td>\n      <td>...</td>\n      <td>...</td>\n      <td>...</td>\n      <td>...</td>\n      <td>...</td>\n      <td>...</td>\n      <td>...</td>\n      <td>...</td>\n      <td>...</td>\n      <td>...</td>\n      <td>...</td>\n      <td>...</td>\n      <td>...</td>\n      <td>...</td>\n      <td>...</td>\n    </tr>\n    <tr>\n      <th>2021-03-19 00:03:00</th>\n      <td>True</td>\n      <td>True</td>\n      <td>True</td>\n      <td>True</td>\n      <td>True</td>\n      <td>True</td>\n      <td>True</td>\n      <td>True</td>\n      <td>False</td>\n      <td>False</td>\n      <td>...</td>\n      <td>False</td>\n      <td>False</td>\n      <td>False</td>\n      <td>False</td>\n      <td>False</td>\n      <td>False</td>\n      <td>False</td>\n      <td>False</td>\n      <td>False</td>\n      <td>False</td>\n    </tr>\n    <tr>\n      <th>2021-03-19 00:04:00</th>\n      <td>True</td>\n      <td>True</td>\n      <td>True</td>\n      <td>True</td>\n      <td>True</td>\n      <td>True</td>\n      <td>True</td>\n      <td>True</td>\n      <td>True</td>\n      <td>True</td>\n      <td>...</td>\n      <td>False</td>\n      <td>True</td>\n      <td>False</td>\n      <td>False</td>\n      <td>False</td>\n      <td>False</td>\n      <td>False</td>\n      <td>False</td>\n      <td>False</td>\n      <td>True</td>\n    </tr>\n    <tr>\n      <th>2021-03-19 00:05:00</th>\n      <td>True</td>\n      <td>True</td>\n      <td>True</td>\n      <td>True</td>\n      <td>True</td>\n      <td>True</td>\n      <td>True</td>\n      <td>True</td>\n      <td>False</td>\n      <td>False</td>\n      <td>...</td>\n      <td>False</td>\n      <td>False</td>\n      <td>False</td>\n      <td>False</td>\n      <td>False</td>\n      <td>False</td>\n      <td>False</td>\n      <td>False</td>\n      <td>False</td>\n      <td>False</td>\n    </tr>\n    <tr>\n      <th>2021-03-19 00:06:00</th>\n      <td>True</td>\n      <td>True</td>\n      <td>True</td>\n      <td>True</td>\n      <td>True</td>\n      <td>True</td>\n      <td>True</td>\n      <td>True</td>\n      <td>True</td>\n      <td>True</td>\n      <td>...</td>\n      <td>False</td>\n      <td>False</td>\n      <td>False</td>\n      <td>False</td>\n      <td>False</td>\n      <td>False</td>\n      <td>False</td>\n      <td>False</td>\n      <td>False</td>\n      <td>False</td>\n    </tr>\n    <tr>\n      <th>2021-03-19 00:07:00</th>\n      <td>True</td>\n      <td>True</td>\n      <td>True</td>\n      <td>True</td>\n      <td>True</td>\n      <td>True</td>\n      <td>True</td>\n      <td>True</td>\n      <td>False</td>\n      <td>False</td>\n      <td>...</td>\n      <td>False</td>\n      <td>False</td>\n      <td>False</td>\n      <td>False</td>\n      <td>False</td>\n      <td>False</td>\n      <td>False</td>\n      <td>False</td>\n      <td>False</td>\n      <td>False</td>\n    </tr>\n  </tbody>\n</table>\n<p>9999 rows × 200 columns</p>\n</div>"
     },
     "execution_count": 14,
     "metadata": {},
     "output_type": "execute_result"
    }
   ],
   "source": [
    "tp_exits = lr_ind.lr_above(tp_sl.x_mu)\n",
    "sl_exits = lr_ind.lr_below(tp_sl.y_mu)\n",
    "final_exits = tp_exits | sl_exits\n",
    "final_exits.columns = final_exits.columns.rename(\"lag\", level=-1)\n",
    "final_exits"
   ],
   "metadata": {
    "collapsed": false,
    "pycharm": {
     "name": "#%%\n"
    }
   }
  },
  {
   "cell_type": "code",
   "execution_count": 15,
   "outputs": [],
   "source": [
    "portfolio_kwargs = dict(\n",
    "    direction='longonly',\n",
    "    freq='m',\n",
    ")\n",
    "port = ExtendedPortfolio.from_signals(close, entries=final_entries, exits=final_exits, **portfolio_kwargs, max_logs=0)"
   ],
   "metadata": {
    "collapsed": false,
    "pycharm": {
     "name": "#%%\n"
    }
   }
  },
  {
   "cell_type": "code",
   "execution_count": 26,
   "outputs": [
    {
     "data": {
      "text/plain": "pitfalls_mu_thld  vol_mu_m  tp_sl_x  tp_sl_y  lag\n-0.08             1.5       0.0      -0.0     10     0.001647\n                                              11     0.001647\n                                              12     0.001647\n                                              13     0.001647\n                                              14     0.001647\n                            2.0      -2.0     9      0.001333\n                                     -1.5     9      0.000993\n                                     -2.0     8      0.000977\n                                     -1.0     13     0.000894\n                            1.5      -1.0     12     0.000894\n                                              13     0.000844\n                            1.0      -1.0     10     0.000767\n                            1.5      -1.0     10     0.000755\n                            2.0      -1.0     12     0.000755\n                                     -2.0     11     0.000753\n                            1.0      -2.0     12     0.000749\n                            2.0      -1.5     11     0.000748\n                            0.0      -0.0     7      0.000748\n                            1.0      -2.0     13     0.000732\n                            1.5      -1.0     9      0.000727\n                            2.0      -1.0     10     0.000708\n                            1.0      -2.0     14     0.000703\n                            0.5      -2.0     9      0.000702\n                            0.0      -2.0     9      0.000693\n                            1.5      -1.0     14     0.000689\nName: expected_log_returns, dtype: float64"
     },
     "execution_count": 26,
     "metadata": {},
     "output_type": "execute_result"
    }
   ],
   "source": [
    "elr = port.expected_log_returns()\n",
    "top_elr = elr.nlargest(25, keep=\"all\")\n",
    "top_elr"
   ],
   "metadata": {
    "collapsed": false,
    "pycharm": {
     "name": "#%%\n"
    }
   }
  },
  {
   "cell_type": "code",
   "execution_count": 27,
   "outputs": [
    {
     "data": {
      "text/plain": "pitfalls_mu_thld  vol_mu_m  tp_sl_x  tp_sl_y  lag\n-0.08             1.5       0.0      -2.0     9      26.370149\n                                              10     25.805595\n                                              11     25.699094\n                                              14     25.386885\n                                     -1.5     10     25.290469\n                                     -2.0     12     24.952630\n                            0.5      -2.0     9      23.708706\n                            0.0      -1.5     13     23.422687\n                                              11     23.328026\n                                     -2.0     13     23.283684\n                                     -1.5     9      23.217979\n                            0.5      -2.0     14     23.002972\n                            0.0      -1.5     14     22.036082\n                                              12     21.236375\n                                     -2.0     8      21.051167\n                            0.5      -2.0     13     20.046551\n                                     -1.5     10     19.762562\n                            1.0      -2.0     12     19.677761\n                            0.5      -2.0     10     19.446649\n                            1.0      -2.0     13     19.436539\n                            0.5      -2.0     12     18.952358\n                                     -1.5     9      18.910854\n                            1.0      -2.0     14     18.796194\n                            0.5      -2.0     8      18.778050\n                                              11     18.581888\nName: sharpe_ratio, dtype: float64"
     },
     "execution_count": 27,
     "metadata": {},
     "output_type": "execute_result"
    }
   ],
   "source": [
    "sharpe = dropnaninf(port.sharpe_ratio())\n",
    "top_sharpe = sharpe.nlargest(25, keep=\"all\")\n",
    "top_sharpe"
   ],
   "metadata": {
    "collapsed": false,
    "pycharm": {
     "name": "#%%\n"
    }
   }
  },
  {
   "cell_type": "code",
   "execution_count": 34,
   "outputs": [
    {
     "data": {
      "text/plain": "MultiIndex([(-0.08, 1.5, 1.0, -2.0, 12),\n            (-0.08, 1.5, 1.0, -2.0, 13),\n            (-0.08, 1.5, 1.0, -2.0, 14),\n            (-0.08, 1.5, 0.5, -2.0,  9),\n            (-0.08, 1.5, 0.0, -2.0,  9)],\n           names=['pitfalls_mu_thld', 'vol_mu_m', 'tp_sl_x', 'tp_sl_y', 'lag'])"
     },
     "execution_count": 34,
     "metadata": {},
     "output_type": "execute_result"
    }
   ],
   "source": [
    "intsect= top_elr.index.intersection(top_sharpe.index)\n",
    "intsect"
   ],
   "metadata": {
    "collapsed": false,
    "pycharm": {
     "name": "#%%\n"
    }
   }
  },
  {
   "cell_type": "code",
   "execution_count": 42,
   "outputs": [
    {
     "data": {
      "text/plain": "Start                           2021-03-12 01:29:00\nEnd                             2021-03-19 00:07:00\nDuration                            6 days 22:39:00\nInit. Cash                                    100.0\nTotal Profit                              27.283952\nTotal Return [%]                          27.283952\nBenchmark Return [%]                       8.340313\nPosition Coverage [%]                      7.030703\nMax. Drawdown [%]                          2.945813\nAvg. Drawdown [%]                          0.430499\nMax. Drawdown Duration              1 days 00:33:00\nAvg. Drawdown Duration              0 days 01:51:00\nNum. Trades                                     391\nWin Rate [%]                              72.890026\nBest Trade [%]                              1.49211\nWorst Trade [%]                           -0.893109\nAvg. Trade [%]                             0.062062\nMax. Trade Duration                 0 days 00:07:00\nAvg. Trade Duration       0 days 00:01:47.877237851\nExpectancy                                  0.06978\nSQN                                         4.72973\nGross Exposure                             0.070307\nSharpe Ratio                              26.370149\nSortino Ratio                             45.298583\nCalmar Ratio                        10920624.033277\nName: (-0.08, 1.5, 0.0, -2.0, 9), dtype: object"
     },
     "execution_count": 42,
     "metadata": {},
     "output_type": "execute_result"
    }
   ],
   "source": [
    "port.stats(column=top_sharpe.index[0])\n",
    "#port.plot(column=top_elr.index[0]).show()"
   ],
   "metadata": {
    "collapsed": false,
    "pycharm": {
     "name": "#%%\n"
    }
   }
  },
  {
   "cell_type": "code",
   "execution_count": 20,
   "outputs": [
    {
     "name": "stdout",
     "output_type": "stream",
     "text": [
      "trades 39916\n"
     ]
    }
   ],
   "source": [
    "print(\"trades\", len(port.trades))"
   ],
   "metadata": {
    "collapsed": false,
    "pycharm": {
     "name": "#%%\n"
    }
   }
  },
  {
   "cell_type": "code",
   "execution_count": 21,
   "outputs": [
    {
     "ename": "ValueError",
     "evalue": "Must specify axis=0 or 1",
     "output_type": "error",
     "traceback": [
      "\u001B[0;31m---------------------------------------------------------------------------\u001B[0m",
      "\u001B[0;31mValueError\u001B[0m                                Traceback (most recent call last)",
      "\u001B[0;32m<ipython-input-21-112ea3429371>\u001B[0m in \u001B[0;36m<module>\u001B[0;34m\u001B[0m\n\u001B[1;32m      1\u001B[0m \u001B[0mfinal_entries_plot\u001B[0m \u001B[0;34m=\u001B[0m \u001B[0;34m(\u001B[0m\u001B[0mfinal_entries\u001B[0m\u001B[0;34m.\u001B[0m\u001B[0mwhere\u001B[0m\u001B[0;34m(\u001B[0m\u001B[0mfinal_entries\u001B[0m \u001B[0;34m==\u001B[0m \u001B[0;32mTrue\u001B[0m\u001B[0;34m,\u001B[0m \u001B[0mnp\u001B[0m\u001B[0;34m.\u001B[0m\u001B[0mnan\u001B[0m\u001B[0;34m)\u001B[0m\u001B[0;34m)\u001B[0m\u001B[0;34m.\u001B[0m\u001B[0mvbt\u001B[0m\u001B[0;34m.\u001B[0m\u001B[0mscatterplot\u001B[0m\u001B[0;34m(\u001B[0m\u001B[0;34m)\u001B[0m\u001B[0;34m\u001B[0m\u001B[0;34m\u001B[0m\u001B[0m\n\u001B[0;32m----> 2\u001B[0;31m \u001B[0mlr_plot\u001B[0m \u001B[0;34m=\u001B[0m \u001B[0mplot_series_vs_scatters\u001B[0m\u001B[0;34m(\u001B[0m\u001B[0;34m[\u001B[0m\u001B[0mlr_ind\u001B[0m\u001B[0;34m.\u001B[0m\u001B[0mlr\u001B[0m\u001B[0;34m,\u001B[0m \u001B[0mpitfalls\u001B[0m\u001B[0;34m.\u001B[0m\u001B[0mmu\u001B[0m\u001B[0;34m]\u001B[0m\u001B[0;34m,\u001B[0m \u001B[0;34m[\u001B[0m\u001B[0mlr_entries\u001B[0m\u001B[0;34m,\u001B[0m \u001B[0mlr_exits\u001B[0m\u001B[0;34m]\u001B[0m\u001B[0;34m)\u001B[0m\u001B[0;34m\u001B[0m\u001B[0;34m\u001B[0m\u001B[0m\n\u001B[0m\u001B[1;32m      3\u001B[0m \u001B[0mvol_plot\u001B[0m \u001B[0;34m=\u001B[0m \u001B[0mplot_series_vs_scatters\u001B[0m\u001B[0;34m(\u001B[0m\u001B[0;34m[\u001B[0m\u001B[0mvol_multiplier\u001B[0m\u001B[0;34m.\u001B[0m\u001B[0mmu\u001B[0m\u001B[0;34m,\u001B[0m \u001B[0mvolume\u001B[0m\u001B[0;34m]\u001B[0m\u001B[0;34m,\u001B[0m \u001B[0;34m[\u001B[0m\u001B[0mvol_entries\u001B[0m\u001B[0;34m]\u001B[0m\u001B[0;34m)\u001B[0m\u001B[0;34m\u001B[0m\u001B[0;34m\u001B[0m\u001B[0m\n\u001B[1;32m      4\u001B[0m \u001B[0;34m\u001B[0m\u001B[0m\n",
      "\u001B[0;32m~/development/itba/pf/vectorbt-yaats/lib/utils.py\u001B[0m in \u001B[0;36mplot_series_vs_scatters\u001B[0;34m(series_list, booleans_list)\u001B[0m\n\u001B[1;32m    138\u001B[0m     \u001B[0mi\u001B[0m \u001B[0;34m=\u001B[0m \u001B[0;36m1\u001B[0m\u001B[0;34m\u001B[0m\u001B[0;34m\u001B[0m\u001B[0m\n\u001B[1;32m    139\u001B[0m     \u001B[0;32mfor\u001B[0m \u001B[0mscatter\u001B[0m \u001B[0;32min\u001B[0m \u001B[0mbooleans_list\u001B[0m\u001B[0;34m:\u001B[0m\u001B[0;34m\u001B[0m\u001B[0;34m\u001B[0m\u001B[0m\n\u001B[0;32m--> 140\u001B[0;31m         \u001B[0mscatter\u001B[0m \u001B[0;34m=\u001B[0m \u001B[0mwhere_true_set_series\u001B[0m\u001B[0;34m(\u001B[0m\u001B[0mseries\u001B[0m\u001B[0;34m,\u001B[0m \u001B[0mscatter\u001B[0m\u001B[0;34m)\u001B[0m\u001B[0;34m\u001B[0m\u001B[0;34m\u001B[0m\u001B[0m\n\u001B[0m\u001B[1;32m    141\u001B[0m         \u001B[0mscatter\u001B[0m\u001B[0;34m.\u001B[0m\u001B[0mname\u001B[0m \u001B[0;34m=\u001B[0m \u001B[0mi\u001B[0m\u001B[0;34m\u001B[0m\u001B[0;34m\u001B[0m\u001B[0m\n\u001B[1;32m    142\u001B[0m         \u001B[0mi\u001B[0m \u001B[0;34m+=\u001B[0m \u001B[0;36m1\u001B[0m\u001B[0;34m\u001B[0m\u001B[0;34m\u001B[0m\u001B[0m\n",
      "\u001B[0;32m~/development/itba/pf/vectorbt-yaats/lib/utils.py\u001B[0m in \u001B[0;36mwhere_true_set_series\u001B[0;34m(series, data)\u001B[0m\n\u001B[1;32m    126\u001B[0m         \u001B[0mdata\u001B[0m \u001B[0;34m=\u001B[0m \u001B[0mpd\u001B[0m\u001B[0;34m.\u001B[0m\u001B[0mSeries\u001B[0m\u001B[0;34m(\u001B[0m\u001B[0mdata\u001B[0m\u001B[0;34m,\u001B[0m \u001B[0mindex\u001B[0m\u001B[0;34m=\u001B[0m\u001B[0mdata\u001B[0m\u001B[0;34m.\u001B[0m\u001B[0mindex\u001B[0m\u001B[0;34m,\u001B[0m \u001B[0mcopy\u001B[0m\u001B[0;34m=\u001B[0m\u001B[0;32mTrue\u001B[0m\u001B[0;34m)\u001B[0m\u001B[0;34m\u001B[0m\u001B[0;34m\u001B[0m\u001B[0m\n\u001B[1;32m    127\u001B[0m     \u001B[0mdata\u001B[0m\u001B[0;34m.\u001B[0m\u001B[0mwhere\u001B[0m\u001B[0;34m(\u001B[0m\u001B[0mdata\u001B[0m \u001B[0;34m==\u001B[0m \u001B[0;32mTrue\u001B[0m\u001B[0;34m,\u001B[0m \u001B[0mnp\u001B[0m\u001B[0;34m.\u001B[0m\u001B[0mnan\u001B[0m\u001B[0;34m,\u001B[0m \u001B[0minplace\u001B[0m\u001B[0;34m=\u001B[0m\u001B[0;32mTrue\u001B[0m\u001B[0;34m)\u001B[0m\u001B[0;34m\u001B[0m\u001B[0;34m\u001B[0m\u001B[0m\n\u001B[0;32m--> 128\u001B[0;31m     \u001B[0mdata\u001B[0m\u001B[0;34m.\u001B[0m\u001B[0mwhere\u001B[0m\u001B[0;34m(\u001B[0m\u001B[0mdata\u001B[0m \u001B[0;34m!=\u001B[0m \u001B[0;36m1\u001B[0m\u001B[0;34m,\u001B[0m \u001B[0mseries\u001B[0m\u001B[0;34m,\u001B[0m \u001B[0minplace\u001B[0m\u001B[0;34m=\u001B[0m\u001B[0;32mTrue\u001B[0m\u001B[0;34m)\u001B[0m\u001B[0;34m\u001B[0m\u001B[0;34m\u001B[0m\u001B[0m\n\u001B[0m\u001B[1;32m    129\u001B[0m     \u001B[0;32mreturn\u001B[0m \u001B[0mdata\u001B[0m\u001B[0;34m\u001B[0m\u001B[0;34m\u001B[0m\u001B[0m\n\u001B[1;32m    130\u001B[0m \u001B[0;34m\u001B[0m\u001B[0m\n",
      "\u001B[0;32m~/development/itba/pf/vectorbt-yaats/venv/lib/python3.7/site-packages/pandas/core/generic.py\u001B[0m in \u001B[0;36mwhere\u001B[0;34m(self, cond, other, inplace, axis, level, errors, try_cast)\u001B[0m\n\u001B[1;32m   9285\u001B[0m         \u001B[0mother\u001B[0m \u001B[0;34m=\u001B[0m \u001B[0mcom\u001B[0m\u001B[0;34m.\u001B[0m\u001B[0mapply_if_callable\u001B[0m\u001B[0;34m(\u001B[0m\u001B[0mother\u001B[0m\u001B[0;34m,\u001B[0m \u001B[0mself\u001B[0m\u001B[0;34m)\u001B[0m\u001B[0;34m\u001B[0m\u001B[0;34m\u001B[0m\u001B[0m\n\u001B[1;32m   9286\u001B[0m         return self._where(\n\u001B[0;32m-> 9287\u001B[0;31m             \u001B[0mcond\u001B[0m\u001B[0;34m,\u001B[0m \u001B[0mother\u001B[0m\u001B[0;34m,\u001B[0m \u001B[0minplace\u001B[0m\u001B[0;34m,\u001B[0m \u001B[0maxis\u001B[0m\u001B[0;34m,\u001B[0m \u001B[0mlevel\u001B[0m\u001B[0;34m,\u001B[0m \u001B[0merrors\u001B[0m\u001B[0;34m=\u001B[0m\u001B[0merrors\u001B[0m\u001B[0;34m,\u001B[0m \u001B[0mtry_cast\u001B[0m\u001B[0;34m=\u001B[0m\u001B[0mtry_cast\u001B[0m\u001B[0;34m\u001B[0m\u001B[0;34m\u001B[0m\u001B[0m\n\u001B[0m\u001B[1;32m   9288\u001B[0m         )\n\u001B[1;32m   9289\u001B[0m \u001B[0;34m\u001B[0m\u001B[0m\n",
      "\u001B[0;32m~/development/itba/pf/vectorbt-yaats/venv/lib/python3.7/site-packages/pandas/core/generic.py\u001B[0m in \u001B[0;36m_where\u001B[0;34m(self, cond, other, inplace, axis, level, errors, try_cast)\u001B[0m\n\u001B[1;32m   9055\u001B[0m \u001B[0;34m\u001B[0m\u001B[0m\n\u001B[1;32m   9056\u001B[0m                 _, other = self.align(\n\u001B[0;32m-> 9057\u001B[0;31m                     \u001B[0mother\u001B[0m\u001B[0;34m,\u001B[0m \u001B[0mjoin\u001B[0m\u001B[0;34m=\u001B[0m\u001B[0;34m\"left\"\u001B[0m\u001B[0;34m,\u001B[0m \u001B[0maxis\u001B[0m\u001B[0;34m=\u001B[0m\u001B[0maxis\u001B[0m\u001B[0;34m,\u001B[0m \u001B[0mlevel\u001B[0m\u001B[0;34m=\u001B[0m\u001B[0mlevel\u001B[0m\u001B[0;34m,\u001B[0m \u001B[0mfill_value\u001B[0m\u001B[0;34m=\u001B[0m\u001B[0mnp\u001B[0m\u001B[0;34m.\u001B[0m\u001B[0mnan\u001B[0m\u001B[0;34m\u001B[0m\u001B[0;34m\u001B[0m\u001B[0m\n\u001B[0m\u001B[1;32m   9058\u001B[0m                 )\n\u001B[1;32m   9059\u001B[0m \u001B[0;34m\u001B[0m\u001B[0m\n",
      "\u001B[0;32m~/development/itba/pf/vectorbt-yaats/venv/lib/python3.7/site-packages/pandas/core/frame.py\u001B[0m in \u001B[0;36malign\u001B[0;34m(self, other, join, axis, level, copy, fill_value, method, limit, fill_axis, broadcast_axis)\u001B[0m\n\u001B[1;32m   4110\u001B[0m             \u001B[0mlimit\u001B[0m\u001B[0;34m=\u001B[0m\u001B[0mlimit\u001B[0m\u001B[0;34m,\u001B[0m\u001B[0;34m\u001B[0m\u001B[0;34m\u001B[0m\u001B[0m\n\u001B[1;32m   4111\u001B[0m             \u001B[0mfill_axis\u001B[0m\u001B[0;34m=\u001B[0m\u001B[0mfill_axis\u001B[0m\u001B[0;34m,\u001B[0m\u001B[0;34m\u001B[0m\u001B[0;34m\u001B[0m\u001B[0m\n\u001B[0;32m-> 4112\u001B[0;31m             \u001B[0mbroadcast_axis\u001B[0m\u001B[0;34m=\u001B[0m\u001B[0mbroadcast_axis\u001B[0m\u001B[0;34m,\u001B[0m\u001B[0;34m\u001B[0m\u001B[0;34m\u001B[0m\u001B[0m\n\u001B[0m\u001B[1;32m   4113\u001B[0m         )\n\u001B[1;32m   4114\u001B[0m \u001B[0;34m\u001B[0m\u001B[0m\n",
      "\u001B[0;32m~/development/itba/pf/vectorbt-yaats/venv/lib/python3.7/site-packages/pandas/core/generic.py\u001B[0m in \u001B[0;36malign\u001B[0;34m(self, other, join, axis, level, copy, fill_value, method, limit, fill_axis, broadcast_axis)\u001B[0m\n\u001B[1;32m   8832\u001B[0m                 \u001B[0mmethod\u001B[0m\u001B[0;34m=\u001B[0m\u001B[0mmethod\u001B[0m\u001B[0;34m,\u001B[0m\u001B[0;34m\u001B[0m\u001B[0;34m\u001B[0m\u001B[0m\n\u001B[1;32m   8833\u001B[0m                 \u001B[0mlimit\u001B[0m\u001B[0;34m=\u001B[0m\u001B[0mlimit\u001B[0m\u001B[0;34m,\u001B[0m\u001B[0;34m\u001B[0m\u001B[0;34m\u001B[0m\u001B[0m\n\u001B[0;32m-> 8834\u001B[0;31m                 \u001B[0mfill_axis\u001B[0m\u001B[0;34m=\u001B[0m\u001B[0mfill_axis\u001B[0m\u001B[0;34m,\u001B[0m\u001B[0;34m\u001B[0m\u001B[0;34m\u001B[0m\u001B[0m\n\u001B[0m\u001B[1;32m   8835\u001B[0m             )\n\u001B[1;32m   8836\u001B[0m         \u001B[0;32melse\u001B[0m\u001B[0;34m:\u001B[0m  \u001B[0;31m# pragma: no cover\u001B[0m\u001B[0;34m\u001B[0m\u001B[0;34m\u001B[0m\u001B[0m\n",
      "\u001B[0;32m~/development/itba/pf/vectorbt-yaats/venv/lib/python3.7/site-packages/pandas/core/generic.py\u001B[0m in \u001B[0;36m_align_series\u001B[0;34m(self, other, join, axis, level, copy, fill_value, method, limit, fill_axis)\u001B[0m\n\u001B[1;32m   8964\u001B[0m                     \u001B[0mfdata\u001B[0m \u001B[0;34m=\u001B[0m \u001B[0mfdata\u001B[0m\u001B[0;34m.\u001B[0m\u001B[0mreindex_indexer\u001B[0m\u001B[0;34m(\u001B[0m\u001B[0mjoin_index\u001B[0m\u001B[0;34m,\u001B[0m \u001B[0mlidx\u001B[0m\u001B[0;34m,\u001B[0m \u001B[0maxis\u001B[0m\u001B[0;34m=\u001B[0m\u001B[0;36m0\u001B[0m\u001B[0;34m)\u001B[0m\u001B[0;34m\u001B[0m\u001B[0;34m\u001B[0m\u001B[0m\n\u001B[1;32m   8965\u001B[0m             \u001B[0;32melse\u001B[0m\u001B[0;34m:\u001B[0m\u001B[0;34m\u001B[0m\u001B[0;34m\u001B[0m\u001B[0m\n\u001B[0;32m-> 8966\u001B[0;31m                 \u001B[0;32mraise\u001B[0m \u001B[0mValueError\u001B[0m\u001B[0;34m(\u001B[0m\u001B[0;34m\"Must specify axis=0 or 1\"\u001B[0m\u001B[0;34m)\u001B[0m\u001B[0;34m\u001B[0m\u001B[0;34m\u001B[0m\u001B[0m\n\u001B[0m\u001B[1;32m   8967\u001B[0m \u001B[0;34m\u001B[0m\u001B[0m\n\u001B[1;32m   8968\u001B[0m             \u001B[0;32mif\u001B[0m \u001B[0mcopy\u001B[0m \u001B[0;32mand\u001B[0m \u001B[0mfdata\u001B[0m \u001B[0;32mis\u001B[0m \u001B[0mself\u001B[0m\u001B[0;34m.\u001B[0m\u001B[0m_mgr\u001B[0m\u001B[0;34m:\u001B[0m\u001B[0;34m\u001B[0m\u001B[0;34m\u001B[0m\u001B[0m\n",
      "\u001B[0;31mValueError\u001B[0m: Must specify axis=0 or 1"
     ]
    }
   ],
   "source": [
    "final_entries_plot = (final_entries.where(final_entries == True, np.nan)).vbt.scatterplot()\n",
    "lr_plot = plot_series_vs_scatters([lr_ind.lr, pitfalls.mu], [lr_entries, lr_exits])\n",
    "vol_plot = plot_series_vs_scatters([vol_multiplier.mu, volume], [vol_entries])"
   ],
   "metadata": {
    "collapsed": false,
    "pycharm": {
     "name": "#%%\n"
    }
   }
  },
  {
   "cell_type": "code",
   "execution_count": null,
   "outputs": [],
   "source": [
    "def add_all_subplots(fig, row, col, list):\n",
    "    for a in list:\n",
    "        fig.add_trace(a, row=row, col=col)"
   ],
   "metadata": {
    "collapsed": false,
    "pycharm": {
     "name": "#%%\n"
    }
   }
  },
  {
   "cell_type": "code",
   "execution_count": null,
   "outputs": [],
   "source": [
    "fig = make_subplots(rows=3, cols=1, shared_xaxes=True,\n",
    "                    vertical_spacing=0.02)\n",
    "add_all_subplots(fig, 1, 1, lr_plot.data)\n",
    "add_all_subplots(fig, 2, 1, vol_plot.data)\n",
    "add_all_subplots(fig, 3, 1, final_entries_plot.data)\n",
    "fig.update_layout(height=700, legend=dict(\n",
    "    orientation=\"h\",\n",
    "    yanchor=\"bottom\",\n",
    "    y=1.02,\n",
    "    xanchor=\"right\",\n",
    "    x=1\n",
    "))\n",
    "fig.show()"
   ],
   "metadata": {
    "collapsed": false,
    "pycharm": {
     "name": "#%%\n"
    }
   }
  },
  {
   "cell_type": "code",
   "execution_count": null,
   "outputs": [],
   "source": [
    "best_log_return_index = dropnaninf(exp).idxmax()\n",
    "print(\"best elr:\", exp[best_log_return_index])\n",
    "best_sharpe_index = dropnaninf(sharpe).idxmax()\n",
    "print(\"best sharpe:\", sharpe[best_sharpe_index])"
   ],
   "metadata": {
    "collapsed": false,
    "pycharm": {
     "name": "#%%\n"
    }
   }
  },
  {
   "cell_type": "code",
   "execution_count": null,
   "outputs": [],
   "source": [
    "exp.fillna(exp.min()*1.1).vbt.volume().show()\n",
    "\n",
    "\n"
   ],
   "metadata": {
    "collapsed": false,
    "pycharm": {
     "name": "#%%\n"
    }
   }
  }
 ],
 "metadata": {
  "kernelspec": {
   "display_name": "Python 3",
   "language": "python",
   "name": "python3"
  },
  "language_info": {
   "codemirror_mode": {
    "name": "ipython",
    "version": 3
   },
   "file_extension": ".py",
   "mimetype": "text/x-python",
   "name": "python",
   "nbconvert_exporter": "python",
   "pygments_lexer": "ipython3",
   "version": "3.7.9"
  }
 },
 "nbformat": 4,
 "nbformat_minor": 1
}