{
 "cells": [
  {
   "cell_type": "code",
   "execution_count": null,
   "metadata": {
    "pycharm": {
     "name": "#%%\n"
    }
   },
   "outputs": [],
   "source": [
    "import itertools\n",
    "import os\n",
    "import sys\n",
    "from itertools import combinations_with_replacement\n",
    "from math import e\n",
    "import gc\n",
    "\n",
    "import numpy as np\n",
    "import pandas as pd\n",
    "from numba import njit\n",
    "from plotly.subplots import make_subplots\n",
    "from vectorbt.indicators import nb\n",
    "module_path = os.path.abspath(os.path.join('../..'))\n",
    "if module_path not in sys.path:\n",
    "    sys.path.append(module_path)\n",
    "import vectorbt as vbt\n",
    "from lib.utils import file_to_data_frame, LR, ExtendedPortfolio, plot_series_vs_scatters, dropnaninf, get_best_index"
   ]
  },
  {
   "cell_type": "code",
   "execution_count": null,
   "metadata": {
    "pycharm": {
     "name": "#%%\n"
    }
   },
   "outputs": [],
   "source": [
    "file = \"/Users/pilo/development/itba/pf/Binance_Minute_OHLC_CSVs/shorts/Binance_BTCUSDT_minute_3000.csv\"\n",
    "_, ohlcv = file_to_data_frame(file)\n",
    "ohlcv. head()"
   ]
  },
  {
   "cell_type": "code",
   "execution_count": null,
   "metadata": {
    "pycharm": {
     "name": "#%%\n"
    }
   },
   "outputs": [],
   "source": [
    "close = ohlcv[\"Close\"]\n",
    "volume = ohlcv[\"Volume\"]\n",
    "lr_ind = LR.run(close)\n",
    "print(lr_ind.lr.shape)"
   ]
  },
  {
   "cell_type": "code",
   "execution_count": null,
   "metadata": {
    "pycharm": {
     "name": "#%%\n"
    }
   },
   "outputs": [],
   "source": [
    "lag = list(range(7,13))\n",
    "ma_ind = vbt.MA.run(lr_ind.lr, lag, short_name=\"lr_ma\")\n",
    "mstd_ind = vbt.MSTD.run(lr_ind.lr, lag)"
   ]
  },
  {
   "cell_type": "code",
   "execution_count": null,
   "metadata": {
    "pycharm": {
     "name": "#%%\n"
    }
   },
   "outputs": [],
   "source": [
    "@njit\n",
    "def combination_nb(ma, std, thld):\n",
    "    return ma + thld * std\n",
    "\n",
    "LR_MULTIPLIER = vbt.IndicatorFactory(\n",
    "    input_names=['ma', 'std'],\n",
    "    param_names=['thld'],\n",
    "    output_names=['mu']\n",
    ").from_apply_func(combination_nb, use_ray=True)\n",
    "t = np.linspace(0,2,10, endpoint=True)\n",
    "ups = LR_MULTIPLIER.run(ma_ind.ma, mstd_ind.mstd, thld=t, short_name=\"ups_mu\")\n",
    "pitfalls = LR_MULTIPLIER.run(ma_ind.ma, mstd_ind.mstd, thld=-t, short_name=\"pitfalls_mu\")\n",
    "pitfalls.mu.head()"
   ]
  },
  {
   "cell_type": "code",
   "execution_count": null,
   "metadata": {
    "pycharm": {
     "name": "#%%\n"
    }
   },
   "outputs": [],
   "source": [
    "lr_entries = lr_ind.lr_below(pitfalls.mu)\n",
    "lr_exits = lr_ind.lr_above(ups.mu)\n",
    "lr_entries.head()"
   ]
  },
  {
   "cell_type": "code",
   "execution_count": null,
   "metadata": {
    "pycharm": {
     "name": "#%%\n"
    }
   },
   "outputs": [],
   "source": [
    "vol_ma = vbt.MA.run(volume, lag)\n",
    "vol_ma.ma.head()"
   ]
  },
  {
   "cell_type": "code",
   "execution_count": null,
   "metadata": {
    "pycharm": {
     "name": "#%%\n"
    }
   },
   "outputs": [],
   "source": [
    "@njit\n",
    "def multiplier_nb(values, m):\n",
    "    return m * values\n",
    "\n",
    "MULTIPLIER = vbt.IndicatorFactory(\n",
    "    input_names=['values'],\n",
    "    param_names=['m'],\n",
    "    output_names=['mu']\n",
    ").from_apply_func(multiplier_nb)"
   ]
  },
  {
   "cell_type": "code",
   "execution_count": null,
   "metadata": {
    "pycharm": {
     "name": "#%%\n"
    }
   },
   "outputs": [],
   "source": [
    "# Volume part:\n",
    "vol_threshold = np.linspace(0, 2, 10)\n",
    "vol_multiplier = MULTIPLIER.run(vol_ma.ma, vol_threshold, short_name=\"vol_mu\")\n",
    "vol_entries = vol_multiplier.mu_below(volume)\n",
    "del vol_multiplier, volume, vol_ma\n",
    "print(\"sum\", vol_entries.sum(axis=0))\n",
    "print(\"shape\", vol_entries.shape)"
   ]
  },
  {
   "cell_type": "code",
   "execution_count": null,
   "metadata": {
    "pycharm": {
     "name": "#%%\n",
     "is_executing": true
    }
   },
   "outputs": [],
   "source": [
    "gc.collect()\n",
    "lr_entries.columns = lr_entries.columns.rename(\"lag\", level=-1)\n",
    "vol_entries.columns = vol_entries.columns.rename(\"lag\", level=-1)\n",
    "final_entries = lr_entries & vol_entries\n",
    "del lr_entries, vol_entries\n"
   ]
  },
  {
   "cell_type": "code",
   "execution_count": null,
   "metadata": {
    "pycharm": {
     "name": "#%%\n",
     "is_executing": true
    }
   },
   "outputs": [],
   "source": [
    "# optimizamos lag, lr_thrld y vol_thrld buscando el máximo mean en el espacio entre entry signals\n",
    "entries_test_arr = pd.Series((True,  False, False, False, False, False, False, False, True, True, False)).vbt.signals.first()\n",
    "exits_test_arr =   pd.Series((False, False, False, True,  False, False, True,  True, False, False, True)).vbt.signals.first()"
   ]
  },
  {
   "cell_type": "code",
   "execution_count": null,
   "outputs": [],
   "source": [
    "_final_entries = pd.DataFrame(np.where(final_entries == True, 1, np.nan), index=final_entries.index, columns=final_entries.columns)\n",
    "_final_entries"
   ],
   "metadata": {
    "collapsed": false,
    "pycharm": {
     "name": "#%%\n",
     "is_executing": true
    }
   }
  },
  {
   "cell_type": "code",
   "execution_count": null,
   "outputs": [],
   "source": [
    "_all_signals =  pd.DataFrame(np.where(lr_exits == True, -1, _final_entries), index=final_entries.index, columns=final_entries.columns)\n",
    "_all_signals"
   ],
   "metadata": {
    "collapsed": false,
    "pycharm": {
     "name": "#%%\n",
     "is_executing": true
    }
   }
  },
  {
   "cell_type": "code",
   "execution_count": null,
   "outputs": [],
   "source": [
    "@njit\n",
    "def k_mean(col, arr, *args):\n",
    "    indexes = np.where(np.isfinite(arr))[0]\n",
    "    lr = args[0]\n",
    "    n = 1\n",
    "    adder = 0\n",
    "    counter = 0\n",
    "    while n < len(indexes):\n",
    "        i = indexes[n]\n",
    "        prev = indexes[n-1]\n",
    "        if arr[prev] == 1 and arr[i] == -1:\n",
    "            adder += np.mean(lr[prev+1:i +1])\n",
    "            counter += 1\n",
    "        n +=1\n",
    "    return adder / counter\n",
    "_all_signals.vbt.reduce(k_mean, lr_ind.lr.to_numpy())"
   ],
   "metadata": {
    "collapsed": false,
    "pycharm": {
     "name": "#%%\n",
     "is_executing": true
    }
   }
  },
  {
   "cell_type": "code",
   "execution_count": null,
   "outputs": [],
   "source": [
    "@njit\n",
    "def double_multiplier_nb(values, x, y):\n",
    "    return values*x, values*y\n",
    "\n",
    "MULTIPLIER = vbt.IndicatorFactory(\n",
    "    input_names=['values'],\n",
    "    param_names=['x', 'y'],\n",
    "    output_names=['x_mu','y_mu']\n",
    ").from_apply_func(double_multiplier_nb)\n",
    "x = np.linspace(0,2,5, endpoint=True)\n",
    "y = -np.linspace(0,2,5, endpoint=True)\n",
    "tp_sl = MULTIPLIER.run(mstd_ind.mstd, x, y, param_product=True, short_name=\"tp_sl\")"
   ],
   "metadata": {
    "collapsed": false,
    "pycharm": {
     "name": "#%%\n"
    }
   }
  },
  {
   "cell_type": "code",
   "execution_count": null,
   "metadata": {
    "pycharm": {
     "name": "#%%\n"
    }
   },
   "outputs": [],
   "source": [
    "tp_exits = lr_ind.lr_above(tp_sl.x_mu)\n",
    "sl_exits = lr_ind.lr_below(tp_sl.y_mu)\n",
    "final_exits = tp_exits | sl_exits\n",
    "final_exits.columns = final_exits.columns.rename(\"lag\", level=-1)\n",
    "final_exits"
   ]
  },
  {
   "cell_type": "code",
   "execution_count": null,
   "metadata": {
    "pycharm": {
     "name": "#%%\n"
    }
   },
   "outputs": [],
   "source": [
    "portfolio_kwargs = dict(\n",
    "    direction='longonly',\n",
    "    freq='m',\n",
    ")\n",
    "port = ExtendedPortfolio.from_signals(close, entries=final_entries, exits=final_exits, **portfolio_kwargs, max_logs=0)"
   ]
  },
  {
   "cell_type": "code",
   "execution_count": null,
   "metadata": {
    "pycharm": {
     "name": "#%%\n"
    }
   },
   "outputs": [],
   "source": [
    "elr = port.expected_log_returns()\n",
    "top_elr = elr.nlargest(25, keep=\"all\")"
   ]
  },
  {
   "cell_type": "code",
   "execution_count": null,
   "metadata": {
    "pycharm": {
     "name": "#%%\n"
    }
   },
   "outputs": [],
   "source": [
    "sharpe = dropnaninf(port.sharpe_ratio())\n",
    "top_sharpe = sharpe.nlargest(25, keep=\"all\")"
   ]
  },
  {
   "cell_type": "code",
   "execution_count": null,
   "metadata": {
    "pycharm": {
     "name": "#%%\n"
    }
   },
   "outputs": [],
   "source": [
    "top_elr.index.intersection(top_sharpe.index)"
   ]
  },
  {
   "cell_type": "code",
   "execution_count": null,
   "metadata": {
    "pycharm": {
     "name": "#%%\n"
    }
   },
   "outputs": [],
   "source": [
    "port.stats(column=top_elr.index[0])"
   ]
  },
  {
   "cell_type": "code",
   "execution_count": null,
   "metadata": {
    "pycharm": {
     "name": "#%%\n"
    }
   },
   "outputs": [],
   "source": [
    "port.stats(column=top_sharpe.index[0])"
   ]
  },
  {
   "cell_type": "code",
   "execution_count": null,
   "metadata": {
    "pycharm": {
     "name": "#%%\n"
    }
   },
   "outputs": [],
   "source": [
    "final_entries_plot = (final_entries.where(final_entries == True, np.nan)).vbt.scatterplot()\n",
    "lr_plot = plot_series_vs_scatters([lr_ind.lr, pitfalls.mu], [lr_entries, lr_exits])\n",
    "vol_plot = plot_series_vs_scatters([vol_multiplier.mu, volume], [vol_entries])"
   ]
  },
  {
   "cell_type": "code",
   "execution_count": null,
   "metadata": {
    "pycharm": {
     "name": "#%%\n"
    }
   },
   "outputs": [],
   "source": [
    "def add_all_subplots(fig, row, col, list):\n",
    "    for a in list:\n",
    "        fig.add_trace(a, row=row, col=col)"
   ]
  },
  {
   "cell_type": "code",
   "execution_count": null,
   "metadata": {
    "pycharm": {
     "name": "#%%\n"
    }
   },
   "outputs": [],
   "source": [
    "fig = make_subplots(rows=3, cols=1, shared_xaxes=True,\n",
    "                    vertical_spacing=0.02)\n",
    "add_all_subplots(fig, 1, 1, lr_plot.data)\n",
    "add_all_subplots(fig, 2, 1, vol_plot.data)\n",
    "add_all_subplots(fig, 3, 1, final_entries_plot.data)\n",
    "fig.update_layout(height=700, legend=dict(\n",
    "    orientation=\"h\",\n",
    "    yanchor=\"bottom\",\n",
    "    y=1.02,\n",
    "    xanchor=\"right\",\n",
    "    x=1\n",
    "))\n",
    "fig.show()"
   ]
  },
  {
   "cell_type": "code",
   "execution_count": null,
   "metadata": {
    "pycharm": {
     "name": "#%%\n"
    }
   },
   "outputs": [],
   "source": []
  }
 ],
 "metadata": {
  "kernelspec": {
   "display_name": "Python 3",
   "language": "python",
   "name": "python3"
  },
  "language_info": {
   "codemirror_mode": {
    "name": "ipython",
    "version": 3
   },
   "file_extension": ".py",
   "mimetype": "text/x-python",
   "name": "python",
   "nbconvert_exporter": "python",
   "pygments_lexer": "ipython3",
   "version": "3.7.9"
  }
 },
 "nbformat": 4,
 "nbformat_minor": 1
}