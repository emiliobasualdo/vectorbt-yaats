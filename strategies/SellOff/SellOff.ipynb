{
 "cells": [
  {
   "cell_type": "code",
   "execution_count": 1,
   "metadata": {
    "pycharm": {
     "name": "#%%\n"
    }
   },
   "outputs": [],
   "source": [
    "import itertools\n",
    "import p_tqdm\n",
    "import vectorbt as vbt\n",
    "import os\n",
    "import sys\n",
    "import numpy as np\n",
    "import pandas as pd\n",
    "from numba import njit\n",
    "from plotly.subplots import make_subplots\n",
    "\n",
    "from strategies.SellOff.SellOff import simulate_lrs, ENTRY_SIGNALS, ma_mstd\n",
    "\n",
    "module_path = os.path.abspath(os.path.join('../..'))\n",
    "if module_path not in sys.path:\n",
    "    sys.path.append(module_path)\n",
    "from lib.utils import where_true_set_series, ohlcv_csv_to_df, LR, shift_np\n"
   ]
  },
  {
   "cell_type": "code",
   "execution_count": 2,
   "outputs": [],
   "source": [
    "def plot_series_vs_scatters(series_list: list, booleans_list, index):\n",
    "    series = series_list.pop(0)\n",
    "    fig = series.vbt.plot()\n",
    "    while len(series_list):\n",
    "        series = series_list.pop(0)\n",
    "        series.vbt.plot(fig=fig)\n",
    "    for scatter in booleans_list:\n",
    "        name = scatter.name\n",
    "        scatter = where_true_set_series(series, scatter)\n",
    "        scatter.name = name\n",
    "        fig = scatter.vbt.scatterplot(fig=fig)\n",
    "    return fig\n",
    "\n",
    "def add_all_subplots(fig, row, col, list):\n",
    "    for a in list:\n",
    "        fig.add_trace(a, row=row, col=col)"
   ],
   "metadata": {
    "collapsed": false,
    "pycharm": {
     "name": "#%%\n"
    }
   }
  },
  {
   "cell_type": "code",
   "execution_count": 3,
   "metadata": {
    "pycharm": {
     "name": "#%%\n"
    }
   },
   "outputs": [],
   "source": [
    "file = f\"/Users/pilo/development/itba/pf/Binance_Minute_OHLC_CSVs/3000/Binance_ADAUSDT_minute_3000.csv\"\n",
    "_, ohlcv = ohlcv_csv_to_df(file)\n",
    "# Tomamos el close como precio.\n",
    "close = ohlcv[\"Close\"]\n",
    "volume = ohlcv[\"Volume\"]\n",
    "del ohlcv\n",
    "\n",
    "lag_range = [10, 20, 30, 40]\n",
    "vol_range =  [0.5, 0.8, 1, 1.2, 1.5, 1.7, 2]\n",
    "lr_range =  list(map(lambda x: -x, vol_range))\n",
    "exit_wait_range =  [2,3,4]\n",
    "combinations =list(itertools.product(lag_range,vol_range,lr_range))\n",
    "\n",
    "lr_ind = LR.run(close)\n",
    "lr_ind.lr.rename(\"lr_close\", inplace=True)\n",
    "index=lr_ind.lr.index\n",
    "\n",
    "shifted_lr = shift_np(lr_ind.lr.to_numpy(), 1)\n",
    "shifted_vol = shift_np(volume.to_numpy(), 1)"
   ]
  },
  {
   "cell_type": "code",
   "execution_count": 4,
   "metadata": {
    "pycharm": {
     "name": "#%%\n"
    }
   },
   "outputs": [
    {
     "name": "stdout",
     "output_type": "stream",
     "text": [
      "(10, 0.5, -0.5)\n",
      "(10, 0.5, -0.8)\n",
      "(10, 0.5, -1)\n",
      "(10, 0.5, -1.2)\n",
      "(10, 0.5, -1.5)\n",
      "(10, 0.5, -1.7)\n",
      "(10, 0.5, -2)\n",
      "(10, 0.8, -0.5)\n",
      "(10, 0.8, -0.8)\n",
      "(10, 0.8, -1)\n",
      "(10, 0.8, -1.2)\n",
      "(10, 0.8, -1.5)\n",
      "(10, 0.8, -1.7)\n",
      "(10, 0.8, -2)\n",
      "(10, 1, -0.5)\n",
      "(10, 1, -0.8)\n",
      "(10, 1, -1)\n",
      "(10, 1, -1.2)\n",
      "(10, 1, -1.5)\n",
      "(10, 1, -1.7)\n",
      "(10, 1, -2)\n",
      "(10, 1.2, -0.5)\n",
      "(10, 1.2, -0.8)\n",
      "(10, 1.2, -1)\n",
      "(10, 1.2, -1.2)\n",
      "(10, 1.2, -1.5)\n",
      "(10, 1.2, -1.7)\n",
      "(10, 1.2, -2)\n",
      "(10, 1.5, -0.5)\n",
      "(10, 1.5, -0.8)\n",
      "(10, 1.5, -1)\n",
      "(10, 1.5, -1.2)\n",
      "(10, 1.5, -1.5)\n",
      "(10, 1.5, -1.7)\n",
      "(10, 1.5, -2)\n",
      "(10, 1.7, -0.5)\n",
      "(10, 1.7, -0.8)\n",
      "(10, 1.7, -1)\n",
      "(10, 1.7, -1.2)\n",
      "(10, 1.7, -1.5)\n",
      "(10, 1.7, -1.7)\n",
      "(10, 1.7, -2)\n"
     ]
    },
    {
     "ename": "KeyboardInterrupt",
     "evalue": "",
     "output_type": "error",
     "traceback": [
      "\u001B[0;31m---------------------------------------------------------------------------\u001B[0m",
      "\u001B[0;31mKeyboardInterrupt\u001B[0m                         Traceback (most recent call last)",
      "\u001B[0;32m<ipython-input-4-9f8229e0cfd0>\u001B[0m in \u001B[0;36m<module>\u001B[0;34m\u001B[0m\n\u001B[1;32m     25\u001B[0m \u001B[0;34m\u001B[0m\u001B[0m\n\u001B[1;32m     26\u001B[0m     \u001B[0;32mdel\u001B[0m \u001B[0msignal\u001B[0m\u001B[0;34m,\u001B[0m \u001B[0mlr_ma\u001B[0m\u001B[0;34m,\u001B[0m \u001B[0mlr_mstd\u001B[0m\u001B[0;34m,\u001B[0m \u001B[0mvol_ma\u001B[0m\u001B[0;34m\u001B[0m\u001B[0;34m\u001B[0m\u001B[0m\n\u001B[0;32m---> 27\u001B[0;31m     \u001B[0mlr_plot\u001B[0m \u001B[0;34m=\u001B[0m \u001B[0mplot_series_vs_scatters\u001B[0m\u001B[0;34m(\u001B[0m\u001B[0;34m[\u001B[0m\u001B[0mlr_mstd_th\u001B[0m\u001B[0;34m,\u001B[0m \u001B[0mlr_ind\u001B[0m\u001B[0;34m.\u001B[0m\u001B[0mlr\u001B[0m\u001B[0;34m]\u001B[0m\u001B[0;34m,\u001B[0m \u001B[0;34m[\u001B[0m\u001B[0mentry\u001B[0m\u001B[0;34m,\u001B[0m \u001B[0mexit\u001B[0m\u001B[0;34m]\u001B[0m\u001B[0;34m,\u001B[0m \u001B[0mindex\u001B[0m\u001B[0;34m=\u001B[0m\u001B[0mindex\u001B[0m\u001B[0;34m)\u001B[0m\u001B[0;34m\u001B[0m\u001B[0;34m\u001B[0m\u001B[0m\n\u001B[0m\u001B[1;32m     28\u001B[0m     \u001B[0mvol_plot\u001B[0m \u001B[0;34m=\u001B[0m \u001B[0mplot_series_vs_scatters\u001B[0m\u001B[0;34m(\u001B[0m\u001B[0;34m[\u001B[0m\u001B[0mvol_ma_th\u001B[0m\u001B[0;34m,\u001B[0m \u001B[0mvolume\u001B[0m\u001B[0;34m]\u001B[0m\u001B[0;34m,\u001B[0m \u001B[0;34m[\u001B[0m\u001B[0mentry\u001B[0m\u001B[0;34m,\u001B[0m \u001B[0mexit\u001B[0m\u001B[0;34m]\u001B[0m\u001B[0;34m,\u001B[0m \u001B[0mindex\u001B[0m\u001B[0;34m=\u001B[0m\u001B[0mindex\u001B[0m\u001B[0;34m)\u001B[0m\u001B[0;34m\u001B[0m\u001B[0;34m\u001B[0m\u001B[0m\n\u001B[1;32m     29\u001B[0m     \u001B[0mclose_plot\u001B[0m \u001B[0;34m=\u001B[0m \u001B[0mplot_series_vs_scatters\u001B[0m\u001B[0;34m(\u001B[0m\u001B[0;34m[\u001B[0m\u001B[0mclose\u001B[0m\u001B[0;34m]\u001B[0m\u001B[0;34m,\u001B[0m \u001B[0;34m[\u001B[0m\u001B[0mentry\u001B[0m\u001B[0;34m,\u001B[0m \u001B[0mexit\u001B[0m\u001B[0;34m]\u001B[0m\u001B[0;34m,\u001B[0m \u001B[0mindex\u001B[0m\u001B[0;34m=\u001B[0m\u001B[0mindex\u001B[0m\u001B[0;34m)\u001B[0m\u001B[0;34m\u001B[0m\u001B[0;34m\u001B[0m\u001B[0m\n",
      "\u001B[0;32m<ipython-input-2-67350d0f7da0>\u001B[0m in \u001B[0;36mplot_series_vs_scatters\u001B[0;34m(series_list, booleans_list, index)\u001B[0m\n\u001B[1;32m      1\u001B[0m \u001B[0;32mdef\u001B[0m \u001B[0mplot_series_vs_scatters\u001B[0m\u001B[0;34m(\u001B[0m\u001B[0mseries_list\u001B[0m\u001B[0;34m:\u001B[0m \u001B[0mlist\u001B[0m\u001B[0;34m,\u001B[0m \u001B[0mbooleans_list\u001B[0m\u001B[0;34m,\u001B[0m \u001B[0mindex\u001B[0m\u001B[0;34m)\u001B[0m\u001B[0;34m:\u001B[0m\u001B[0;34m\u001B[0m\u001B[0;34m\u001B[0m\u001B[0m\n\u001B[1;32m      2\u001B[0m     \u001B[0mseries\u001B[0m \u001B[0;34m=\u001B[0m \u001B[0mseries_list\u001B[0m\u001B[0;34m.\u001B[0m\u001B[0mpop\u001B[0m\u001B[0;34m(\u001B[0m\u001B[0;36m0\u001B[0m\u001B[0;34m)\u001B[0m\u001B[0;34m\u001B[0m\u001B[0;34m\u001B[0m\u001B[0m\n\u001B[0;32m----> 3\u001B[0;31m     \u001B[0mfig\u001B[0m \u001B[0;34m=\u001B[0m \u001B[0mseries\u001B[0m\u001B[0;34m.\u001B[0m\u001B[0mvbt\u001B[0m\u001B[0;34m.\u001B[0m\u001B[0mplot\u001B[0m\u001B[0;34m(\u001B[0m\u001B[0;34m)\u001B[0m\u001B[0;34m\u001B[0m\u001B[0;34m\u001B[0m\u001B[0m\n\u001B[0m\u001B[1;32m      4\u001B[0m     \u001B[0;32mwhile\u001B[0m \u001B[0mlen\u001B[0m\u001B[0;34m(\u001B[0m\u001B[0mseries_list\u001B[0m\u001B[0;34m)\u001B[0m\u001B[0;34m:\u001B[0m\u001B[0;34m\u001B[0m\u001B[0;34m\u001B[0m\u001B[0m\n\u001B[1;32m      5\u001B[0m         \u001B[0mseries\u001B[0m \u001B[0;34m=\u001B[0m \u001B[0mseries_list\u001B[0m\u001B[0;34m.\u001B[0m\u001B[0mpop\u001B[0m\u001B[0;34m(\u001B[0m\u001B[0;36m0\u001B[0m\u001B[0;34m)\u001B[0m\u001B[0;34m\u001B[0m\u001B[0;34m\u001B[0m\u001B[0m\n",
      "\u001B[0;32m~/development/itba/pf/vectorbt-yaats/venv/lib/python3.7/site-packages/vectorbt/generic/accessors.py\u001B[0m in \u001B[0;36mplot\u001B[0;34m(self, trace_names, x_labels, return_fig, **kwargs)\u001B[0m\n\u001B[1;32m   1155\u001B[0m             \u001B[0mtrace_names\u001B[0m\u001B[0;34m=\u001B[0m\u001B[0mtrace_names\u001B[0m\u001B[0;34m,\u001B[0m\u001B[0;34m\u001B[0m\u001B[0;34m\u001B[0m\u001B[0m\n\u001B[1;32m   1156\u001B[0m             \u001B[0mx_labels\u001B[0m\u001B[0;34m=\u001B[0m\u001B[0mx_labels\u001B[0m\u001B[0;34m,\u001B[0m\u001B[0;34m\u001B[0m\u001B[0;34m\u001B[0m\u001B[0m\n\u001B[0;32m-> 1157\u001B[0;31m             \u001B[0;34m**\u001B[0m\u001B[0mkwargs\u001B[0m\u001B[0;34m\u001B[0m\u001B[0;34m\u001B[0m\u001B[0m\n\u001B[0m\u001B[1;32m   1158\u001B[0m         )\n\u001B[1;32m   1159\u001B[0m         \u001B[0;32mif\u001B[0m \u001B[0mreturn_fig\u001B[0m\u001B[0;34m:\u001B[0m\u001B[0;34m\u001B[0m\u001B[0;34m\u001B[0m\u001B[0m\n",
      "\u001B[0;32m~/development/itba/pf/vectorbt-yaats/venv/lib/python3.7/site-packages/vectorbt/generic/plotting.py\u001B[0m in \u001B[0;36m__init__\u001B[0;34m(self, data, trace_names, x_labels, trace_kwargs, add_trace_kwargs, fig, **layout_kwargs)\u001B[0m\n\u001B[1;32m    302\u001B[0m \u001B[0;34m\u001B[0m\u001B[0m\n\u001B[1;32m    303\u001B[0m         \u001B[0;32mif\u001B[0m \u001B[0mfig\u001B[0m \u001B[0;32mis\u001B[0m \u001B[0;32mNone\u001B[0m\u001B[0;34m:\u001B[0m\u001B[0;34m\u001B[0m\u001B[0;34m\u001B[0m\u001B[0m\n\u001B[0;32m--> 304\u001B[0;31m             \u001B[0mfig\u001B[0m \u001B[0;34m=\u001B[0m \u001B[0mFigureWidget\u001B[0m\u001B[0;34m(\u001B[0m\u001B[0;34m)\u001B[0m\u001B[0;34m\u001B[0m\u001B[0;34m\u001B[0m\u001B[0m\n\u001B[0m\u001B[1;32m    305\u001B[0m         \u001B[0mfig\u001B[0m\u001B[0;34m.\u001B[0m\u001B[0mupdate_layout\u001B[0m\u001B[0;34m(\u001B[0m\u001B[0;34m**\u001B[0m\u001B[0mlayout_kwargs\u001B[0m\u001B[0;34m)\u001B[0m\u001B[0;34m\u001B[0m\u001B[0;34m\u001B[0m\u001B[0m\n\u001B[1;32m    306\u001B[0m \u001B[0;34m\u001B[0m\u001B[0m\n",
      "\u001B[0;32m~/development/itba/pf/vectorbt-yaats/venv/lib/python3.7/site-packages/vectorbt/utils/widgets.py\u001B[0m in \u001B[0;36m__init__\u001B[0;34m(self, *args, **kwargs)\u001B[0m\n\u001B[1;32m     34\u001B[0m         \u001B[0mlayout\u001B[0m \u001B[0;34m=\u001B[0m \u001B[0mkwargs\u001B[0m\u001B[0;34m.\u001B[0m\u001B[0mpop\u001B[0m\u001B[0;34m(\u001B[0m\u001B[0;34m'layout'\u001B[0m\u001B[0;34m,\u001B[0m \u001B[0;34m{\u001B[0m\u001B[0;34m}\u001B[0m\u001B[0;34m)\u001B[0m\u001B[0;34m\u001B[0m\u001B[0;34m\u001B[0m\u001B[0m\n\u001B[1;32m     35\u001B[0m         \u001B[0msuper\u001B[0m\u001B[0;34m(\u001B[0m\u001B[0;34m)\u001B[0m\u001B[0;34m.\u001B[0m\u001B[0m__init__\u001B[0m\u001B[0;34m(\u001B[0m\u001B[0;34m*\u001B[0m\u001B[0margs\u001B[0m\u001B[0;34m,\u001B[0m \u001B[0;34m**\u001B[0m\u001B[0mkwargs\u001B[0m\u001B[0;34m)\u001B[0m\u001B[0;34m\u001B[0m\u001B[0;34m\u001B[0m\u001B[0m\n\u001B[0;32m---> 36\u001B[0;31m         \u001B[0mself\u001B[0m\u001B[0;34m.\u001B[0m\u001B[0mupdate_layout\u001B[0m\u001B[0;34m(\u001B[0m\u001B[0;34m**\u001B[0m\u001B[0mmerge_dicts\u001B[0m\u001B[0;34m(\u001B[0m\u001B[0msettings\u001B[0m\u001B[0;34m.\u001B[0m\u001B[0mlayout\u001B[0m\u001B[0;34m,\u001B[0m \u001B[0mlayout\u001B[0m\u001B[0;34m)\u001B[0m\u001B[0;34m)\u001B[0m\u001B[0;34m\u001B[0m\u001B[0;34m\u001B[0m\u001B[0m\n\u001B[0m\u001B[1;32m     37\u001B[0m \u001B[0;34m\u001B[0m\u001B[0m\n\u001B[1;32m     38\u001B[0m     \u001B[0;32mdef\u001B[0m \u001B[0mshow_png\u001B[0m\u001B[0;34m(\u001B[0m\u001B[0mself\u001B[0m\u001B[0;34m)\u001B[0m\u001B[0;34m:\u001B[0m\u001B[0;34m\u001B[0m\u001B[0;34m\u001B[0m\u001B[0m\n",
      "\u001B[0;32m~/development/itba/pf/vectorbt-yaats/venv/lib/python3.7/site-packages/plotly/basedatatypes.py\u001B[0m in \u001B[0;36mupdate_layout\u001B[0;34m(self, dict1, overwrite, **kwargs)\u001B[0m\n\u001B[1;32m   1401\u001B[0m             \u001B[0mThe\u001B[0m \u001B[0mFigure\u001B[0m \u001B[0mobject\u001B[0m \u001B[0mthat\u001B[0m \u001B[0mthe\u001B[0m \u001B[0mupdate_layout\u001B[0m \u001B[0mmethod\u001B[0m \u001B[0mwas\u001B[0m \u001B[0mcalled\u001B[0m \u001B[0mon\u001B[0m\u001B[0;34m\u001B[0m\u001B[0;34m\u001B[0m\u001B[0m\n\u001B[1;32m   1402\u001B[0m         \"\"\"\n\u001B[0;32m-> 1403\u001B[0;31m         \u001B[0mself\u001B[0m\u001B[0;34m.\u001B[0m\u001B[0mlayout\u001B[0m\u001B[0;34m.\u001B[0m\u001B[0mupdate\u001B[0m\u001B[0;34m(\u001B[0m\u001B[0mdict1\u001B[0m\u001B[0;34m,\u001B[0m \u001B[0moverwrite\u001B[0m\u001B[0;34m=\u001B[0m\u001B[0moverwrite\u001B[0m\u001B[0;34m,\u001B[0m \u001B[0;34m**\u001B[0m\u001B[0mkwargs\u001B[0m\u001B[0;34m)\u001B[0m\u001B[0;34m\u001B[0m\u001B[0;34m\u001B[0m\u001B[0m\n\u001B[0m\u001B[1;32m   1404\u001B[0m         \u001B[0;32mreturn\u001B[0m \u001B[0mself\u001B[0m\u001B[0;34m\u001B[0m\u001B[0;34m\u001B[0m\u001B[0m\n\u001B[1;32m   1405\u001B[0m \u001B[0;34m\u001B[0m\u001B[0m\n",
      "\u001B[0;32m~/development/itba/pf/vectorbt-yaats/venv/lib/python3.7/site-packages/plotly/basedatatypes.py\u001B[0m in \u001B[0;36mupdate\u001B[0;34m(self, dict1, overwrite, **kwargs)\u001B[0m\n\u001B[1;32m   5065\u001B[0m             \u001B[0;32mwith\u001B[0m \u001B[0mself\u001B[0m\u001B[0;34m.\u001B[0m\u001B[0mfigure\u001B[0m\u001B[0;34m.\u001B[0m\u001B[0mbatch_update\u001B[0m\u001B[0;34m(\u001B[0m\u001B[0;34m)\u001B[0m\u001B[0;34m:\u001B[0m\u001B[0;34m\u001B[0m\u001B[0;34m\u001B[0m\u001B[0m\n\u001B[1;32m   5066\u001B[0m                 \u001B[0mBaseFigure\u001B[0m\u001B[0;34m.\u001B[0m\u001B[0m_perform_update\u001B[0m\u001B[0;34m(\u001B[0m\u001B[0mself\u001B[0m\u001B[0;34m,\u001B[0m \u001B[0mdict1\u001B[0m\u001B[0;34m,\u001B[0m \u001B[0moverwrite\u001B[0m\u001B[0;34m=\u001B[0m\u001B[0moverwrite\u001B[0m\u001B[0;34m)\u001B[0m\u001B[0;34m\u001B[0m\u001B[0;34m\u001B[0m\u001B[0m\n\u001B[0;32m-> 5067\u001B[0;31m                 \u001B[0mBaseFigure\u001B[0m\u001B[0;34m.\u001B[0m\u001B[0m_perform_update\u001B[0m\u001B[0;34m(\u001B[0m\u001B[0mself\u001B[0m\u001B[0;34m,\u001B[0m \u001B[0mkwargs\u001B[0m\u001B[0;34m,\u001B[0m \u001B[0moverwrite\u001B[0m\u001B[0;34m=\u001B[0m\u001B[0moverwrite\u001B[0m\u001B[0;34m)\u001B[0m\u001B[0;34m\u001B[0m\u001B[0;34m\u001B[0m\u001B[0m\n\u001B[0m\u001B[1;32m   5068\u001B[0m         \u001B[0;32melse\u001B[0m\u001B[0;34m:\u001B[0m\u001B[0;34m\u001B[0m\u001B[0;34m\u001B[0m\u001B[0m\n\u001B[1;32m   5069\u001B[0m             \u001B[0mBaseFigure\u001B[0m\u001B[0;34m.\u001B[0m\u001B[0m_perform_update\u001B[0m\u001B[0;34m(\u001B[0m\u001B[0mself\u001B[0m\u001B[0;34m,\u001B[0m \u001B[0mdict1\u001B[0m\u001B[0;34m,\u001B[0m \u001B[0moverwrite\u001B[0m\u001B[0;34m=\u001B[0m\u001B[0moverwrite\u001B[0m\u001B[0;34m)\u001B[0m\u001B[0;34m\u001B[0m\u001B[0;34m\u001B[0m\u001B[0m\n",
      "\u001B[0;32m~/development/itba/pf/vectorbt-yaats/venv/lib/python3.7/site-packages/plotly/basedatatypes.py\u001B[0m in \u001B[0;36m_perform_update\u001B[0;34m(plotly_obj, update_obj, overwrite)\u001B[0m\n\u001B[1;32m   3883\u001B[0m                     \u001B[0;31m# Update compound objects recursively\u001B[0m\u001B[0;34m\u001B[0m\u001B[0;34m\u001B[0m\u001B[0;34m\u001B[0m\u001B[0m\n\u001B[1;32m   3884\u001B[0m                     \u001B[0;31m# plotly_obj[key].update(val)\u001B[0m\u001B[0;34m\u001B[0m\u001B[0;34m\u001B[0m\u001B[0;34m\u001B[0m\u001B[0m\n\u001B[0;32m-> 3885\u001B[0;31m                     \u001B[0mBaseFigure\u001B[0m\u001B[0;34m.\u001B[0m\u001B[0m_perform_update\u001B[0m\u001B[0;34m(\u001B[0m\u001B[0mplotly_obj\u001B[0m\u001B[0;34m[\u001B[0m\u001B[0mkey\u001B[0m\u001B[0;34m]\u001B[0m\u001B[0;34m,\u001B[0m \u001B[0mval\u001B[0m\u001B[0;34m)\u001B[0m\u001B[0;34m\u001B[0m\u001B[0;34m\u001B[0m\u001B[0m\n\u001B[0m\u001B[1;32m   3886\u001B[0m                 \u001B[0;32melif\u001B[0m \u001B[0misinstance\u001B[0m\u001B[0;34m(\u001B[0m\u001B[0mvalidator\u001B[0m\u001B[0;34m,\u001B[0m \u001B[0mCompoundArrayValidator\u001B[0m\u001B[0;34m)\u001B[0m\u001B[0;34m:\u001B[0m\u001B[0;34m\u001B[0m\u001B[0;34m\u001B[0m\u001B[0m\n\u001B[1;32m   3887\u001B[0m                     \u001B[0;32mif\u001B[0m \u001B[0mplotly_obj\u001B[0m\u001B[0;34m[\u001B[0m\u001B[0mkey\u001B[0m\u001B[0;34m]\u001B[0m\u001B[0;34m:\u001B[0m\u001B[0;34m\u001B[0m\u001B[0;34m\u001B[0m\u001B[0m\n",
      "\u001B[0;32m~/development/itba/pf/vectorbt-yaats/venv/lib/python3.7/site-packages/plotly/basedatatypes.py\u001B[0m in \u001B[0;36m_perform_update\u001B[0;34m(plotly_obj, update_obj, overwrite)\u001B[0m\n\u001B[1;32m   3883\u001B[0m                     \u001B[0;31m# Update compound objects recursively\u001B[0m\u001B[0;34m\u001B[0m\u001B[0;34m\u001B[0m\u001B[0;34m\u001B[0m\u001B[0m\n\u001B[1;32m   3884\u001B[0m                     \u001B[0;31m# plotly_obj[key].update(val)\u001B[0m\u001B[0;34m\u001B[0m\u001B[0;34m\u001B[0m\u001B[0;34m\u001B[0m\u001B[0m\n\u001B[0;32m-> 3885\u001B[0;31m                     \u001B[0mBaseFigure\u001B[0m\u001B[0;34m.\u001B[0m\u001B[0m_perform_update\u001B[0m\u001B[0;34m(\u001B[0m\u001B[0mplotly_obj\u001B[0m\u001B[0;34m[\u001B[0m\u001B[0mkey\u001B[0m\u001B[0;34m]\u001B[0m\u001B[0;34m,\u001B[0m \u001B[0mval\u001B[0m\u001B[0;34m)\u001B[0m\u001B[0;34m\u001B[0m\u001B[0;34m\u001B[0m\u001B[0m\n\u001B[0m\u001B[1;32m   3886\u001B[0m                 \u001B[0;32melif\u001B[0m \u001B[0misinstance\u001B[0m\u001B[0;34m(\u001B[0m\u001B[0mvalidator\u001B[0m\u001B[0;34m,\u001B[0m \u001B[0mCompoundArrayValidator\u001B[0m\u001B[0;34m)\u001B[0m\u001B[0;34m:\u001B[0m\u001B[0;34m\u001B[0m\u001B[0;34m\u001B[0m\u001B[0m\n\u001B[1;32m   3887\u001B[0m                     \u001B[0;32mif\u001B[0m \u001B[0mplotly_obj\u001B[0m\u001B[0;34m[\u001B[0m\u001B[0mkey\u001B[0m\u001B[0;34m]\u001B[0m\u001B[0;34m:\u001B[0m\u001B[0;34m\u001B[0m\u001B[0;34m\u001B[0m\u001B[0m\n",
      "\u001B[0;32m~/development/itba/pf/vectorbt-yaats/venv/lib/python3.7/site-packages/plotly/basedatatypes.py\u001B[0m in \u001B[0;36m_perform_update\u001B[0;34m(plotly_obj, update_obj, overwrite)\u001B[0m\n\u001B[1;32m   3888\u001B[0m                         \u001B[0;31m# plotly_obj has an existing non-empty array for key\u001B[0m\u001B[0;34m\u001B[0m\u001B[0;34m\u001B[0m\u001B[0;34m\u001B[0m\u001B[0m\n\u001B[1;32m   3889\u001B[0m                         \u001B[0;31m# In this case we merge val into the existing elements\u001B[0m\u001B[0;34m\u001B[0m\u001B[0;34m\u001B[0m\u001B[0;34m\u001B[0m\u001B[0m\n\u001B[0;32m-> 3890\u001B[0;31m                         \u001B[0mBaseFigure\u001B[0m\u001B[0;34m.\u001B[0m\u001B[0m_perform_update\u001B[0m\u001B[0;34m(\u001B[0m\u001B[0mplotly_obj\u001B[0m\u001B[0;34m[\u001B[0m\u001B[0mkey\u001B[0m\u001B[0;34m]\u001B[0m\u001B[0;34m,\u001B[0m \u001B[0mval\u001B[0m\u001B[0;34m)\u001B[0m\u001B[0;34m\u001B[0m\u001B[0;34m\u001B[0m\u001B[0m\n\u001B[0m\u001B[1;32m   3891\u001B[0m \u001B[0;34m\u001B[0m\u001B[0m\n\u001B[1;32m   3892\u001B[0m                         \u001B[0;31m# If update tuple is longer that current tuple, append the\u001B[0m\u001B[0;34m\u001B[0m\u001B[0;34m\u001B[0m\u001B[0;34m\u001B[0m\u001B[0m\n",
      "\u001B[0;32m~/development/itba/pf/vectorbt-yaats/venv/lib/python3.7/site-packages/plotly/basedatatypes.py\u001B[0m in \u001B[0;36m_perform_update\u001B[0;34m(plotly_obj, update_obj, overwrite)\u001B[0m\n\u001B[1;32m   3920\u001B[0m                     \u001B[0;32melse\u001B[0m\u001B[0;34m:\u001B[0m\u001B[0;34m\u001B[0m\u001B[0;34m\u001B[0m\u001B[0m\n\u001B[1;32m   3921\u001B[0m                         \u001B[0mupdate_element\u001B[0m \u001B[0;34m=\u001B[0m \u001B[0mupdate_obj\u001B[0m\u001B[0;34m[\u001B[0m\u001B[0mi\u001B[0m \u001B[0;34m%\u001B[0m \u001B[0mlen\u001B[0m\u001B[0;34m(\u001B[0m\u001B[0mupdate_obj\u001B[0m\u001B[0;34m)\u001B[0m\u001B[0;34m]\u001B[0m\u001B[0;34m\u001B[0m\u001B[0;34m\u001B[0m\u001B[0m\n\u001B[0;32m-> 3922\u001B[0;31m                     \u001B[0mBaseFigure\u001B[0m\u001B[0;34m.\u001B[0m\u001B[0m_perform_update\u001B[0m\u001B[0;34m(\u001B[0m\u001B[0mplotly_element\u001B[0m\u001B[0;34m,\u001B[0m \u001B[0mupdate_element\u001B[0m\u001B[0;34m)\u001B[0m\u001B[0;34m\u001B[0m\u001B[0;34m\u001B[0m\u001B[0m\n\u001B[0m\u001B[1;32m   3923\u001B[0m         \u001B[0;32melse\u001B[0m\u001B[0;34m:\u001B[0m\u001B[0;34m\u001B[0m\u001B[0;34m\u001B[0m\u001B[0m\n\u001B[1;32m   3924\u001B[0m             raise ValueError(\n",
      "\u001B[0;32m~/development/itba/pf/vectorbt-yaats/venv/lib/python3.7/site-packages/plotly/basedatatypes.py\u001B[0m in \u001B[0;36m_perform_update\u001B[0;34m(plotly_obj, update_obj, overwrite)\u001B[0m\n\u001B[1;32m   3848\u001B[0m             \u001B[0;31m# >>> layout.update(xaxis2={'title': 'xaxis 2'})\u001B[0m\u001B[0;34m\u001B[0m\u001B[0;34m\u001B[0m\u001B[0;34m\u001B[0m\u001B[0m\n\u001B[1;32m   3849\u001B[0m             \u001B[0;32mfor\u001B[0m \u001B[0mkey\u001B[0m \u001B[0;32min\u001B[0m \u001B[0mupdate_obj\u001B[0m\u001B[0;34m:\u001B[0m\u001B[0;34m\u001B[0m\u001B[0;34m\u001B[0m\u001B[0m\n\u001B[0;32m-> 3850\u001B[0;31m                 \u001B[0merr\u001B[0m \u001B[0;34m=\u001B[0m \u001B[0m_check_path_in_prop_tree\u001B[0m\u001B[0;34m(\u001B[0m\u001B[0mplotly_obj\u001B[0m\u001B[0;34m,\u001B[0m \u001B[0mkey\u001B[0m\u001B[0;34m,\u001B[0m \u001B[0merror_cast\u001B[0m\u001B[0;34m=\u001B[0m\u001B[0mValueError\u001B[0m\u001B[0;34m)\u001B[0m\u001B[0;34m\u001B[0m\u001B[0;34m\u001B[0m\u001B[0m\n\u001B[0m\u001B[1;32m   3851\u001B[0m                 \u001B[0;32mif\u001B[0m \u001B[0merr\u001B[0m \u001B[0;32mis\u001B[0m \u001B[0;32mnot\u001B[0m \u001B[0;32mNone\u001B[0m\u001B[0;34m:\u001B[0m\u001B[0;34m\u001B[0m\u001B[0;34m\u001B[0m\u001B[0m\n\u001B[1;32m   3852\u001B[0m                     \u001B[0;32mif\u001B[0m \u001B[0misinstance\u001B[0m\u001B[0;34m(\u001B[0m\u001B[0mplotly_obj\u001B[0m\u001B[0;34m,\u001B[0m \u001B[0mBaseLayoutType\u001B[0m\u001B[0;34m)\u001B[0m\u001B[0;34m:\u001B[0m\u001B[0;34m\u001B[0m\u001B[0;34m\u001B[0m\u001B[0m\n",
      "\u001B[0;32m~/development/itba/pf/vectorbt-yaats/venv/lib/python3.7/site-packages/plotly/basedatatypes.py\u001B[0m in \u001B[0;36m_check_path_in_prop_tree\u001B[0;34m(obj, path, error_cast)\u001B[0m\n\u001B[1;32m    186\u001B[0m         \u001B[0mprev_objs\u001B[0m\u001B[0;34m.\u001B[0m\u001B[0mappend\u001B[0m\u001B[0;34m(\u001B[0m\u001B[0mobj\u001B[0m\u001B[0;34m)\u001B[0m\u001B[0;34m\u001B[0m\u001B[0;34m\u001B[0m\u001B[0m\n\u001B[1;32m    187\u001B[0m         \u001B[0;32mtry\u001B[0m\u001B[0;34m:\u001B[0m\u001B[0;34m\u001B[0m\u001B[0;34m\u001B[0m\u001B[0m\n\u001B[0;32m--> 188\u001B[0;31m             \u001B[0mobj\u001B[0m \u001B[0;34m=\u001B[0m \u001B[0mobj\u001B[0m\u001B[0;34m[\u001B[0m\u001B[0mp\u001B[0m\u001B[0;34m]\u001B[0m\u001B[0;34m\u001B[0m\u001B[0;34m\u001B[0m\u001B[0m\n\u001B[0m\u001B[1;32m    189\u001B[0m         \u001B[0;32mexcept\u001B[0m \u001B[0;34m(\u001B[0m\u001B[0mValueError\u001B[0m\u001B[0;34m,\u001B[0m \u001B[0mKeyError\u001B[0m\u001B[0;34m,\u001B[0m \u001B[0mIndexError\u001B[0m\u001B[0;34m,\u001B[0m \u001B[0mTypeError\u001B[0m\u001B[0;34m)\u001B[0m \u001B[0;32mas\u001B[0m \u001B[0me\u001B[0m\u001B[0;34m:\u001B[0m\u001B[0;34m\u001B[0m\u001B[0;34m\u001B[0m\u001B[0m\n\u001B[1;32m    190\u001B[0m             \u001B[0marg\u001B[0m \u001B[0;34m=\u001B[0m \u001B[0me\u001B[0m\u001B[0;34m.\u001B[0m\u001B[0margs\u001B[0m\u001B[0;34m[\u001B[0m\u001B[0;36m0\u001B[0m\u001B[0;34m]\u001B[0m\u001B[0;34m\u001B[0m\u001B[0;34m\u001B[0m\u001B[0m\n",
      "\u001B[0;32m~/development/itba/pf/vectorbt-yaats/venv/lib/python3.7/site-packages/plotly/basedatatypes.py\u001B[0m in \u001B[0;36m__getitem__\u001B[0;34m(self, prop)\u001B[0m\n\u001B[1;32m   4676\u001B[0m \u001B[0;34m\u001B[0m\u001B[0m\n\u001B[1;32m   4677\u001B[0m                 \u001B[0;32mreturn\u001B[0m \u001B[0mvalidator\u001B[0m\u001B[0;34m.\u001B[0m\u001B[0mpresent\u001B[0m\u001B[0;34m(\u001B[0m\u001B[0mself\u001B[0m\u001B[0;34m.\u001B[0m\u001B[0m_compound_array_props\u001B[0m\u001B[0;34m[\u001B[0m\u001B[0mprop\u001B[0m\u001B[0;34m]\u001B[0m\u001B[0;34m)\u001B[0m\u001B[0;34m\u001B[0m\u001B[0;34m\u001B[0m\u001B[0m\n\u001B[0;32m-> 4678\u001B[0;31m             \u001B[0;32melif\u001B[0m \u001B[0mself\u001B[0m\u001B[0;34m.\u001B[0m\u001B[0m_props\u001B[0m \u001B[0;32mis\u001B[0m \u001B[0;32mnot\u001B[0m \u001B[0;32mNone\u001B[0m \u001B[0;32mand\u001B[0m \u001B[0mprop\u001B[0m \u001B[0;32min\u001B[0m \u001B[0mself\u001B[0m\u001B[0;34m.\u001B[0m\u001B[0m_props\u001B[0m\u001B[0;34m:\u001B[0m\u001B[0;34m\u001B[0m\u001B[0;34m\u001B[0m\u001B[0m\n\u001B[0m\u001B[1;32m   4679\u001B[0m                 \u001B[0;32mreturn\u001B[0m \u001B[0mvalidator\u001B[0m\u001B[0;34m.\u001B[0m\u001B[0mpresent\u001B[0m\u001B[0;34m(\u001B[0m\u001B[0mself\u001B[0m\u001B[0;34m.\u001B[0m\u001B[0m_props\u001B[0m\u001B[0;34m[\u001B[0m\u001B[0mprop\u001B[0m\u001B[0;34m]\u001B[0m\u001B[0;34m)\u001B[0m\u001B[0;34m\u001B[0m\u001B[0;34m\u001B[0m\u001B[0m\n\u001B[1;32m   4680\u001B[0m             \u001B[0;32melif\u001B[0m \u001B[0mself\u001B[0m\u001B[0;34m.\u001B[0m\u001B[0m_prop_defaults\u001B[0m \u001B[0;32mis\u001B[0m \u001B[0;32mnot\u001B[0m \u001B[0;32mNone\u001B[0m\u001B[0;34m:\u001B[0m\u001B[0;34m\u001B[0m\u001B[0;34m\u001B[0m\u001B[0m\n",
      "\u001B[0;32m~/development/itba/pf/vectorbt-yaats/venv/lib/python3.7/site-packages/plotly/basedatatypes.py\u001B[0m in \u001B[0;36m_props\u001B[0;34m(self)\u001B[0m\n\u001B[1;32m   4371\u001B[0m         \u001B[0;32melse\u001B[0m\u001B[0;34m:\u001B[0m\u001B[0;34m\u001B[0m\u001B[0;34m\u001B[0m\u001B[0m\n\u001B[1;32m   4372\u001B[0m             \u001B[0;31m# Get data from parent's dict\u001B[0m\u001B[0;34m\u001B[0m\u001B[0;34m\u001B[0m\u001B[0;34m\u001B[0m\u001B[0m\n\u001B[0;32m-> 4373\u001B[0;31m             \u001B[0;32mreturn\u001B[0m \u001B[0mself\u001B[0m\u001B[0;34m.\u001B[0m\u001B[0mparent\u001B[0m\u001B[0;34m.\u001B[0m\u001B[0m_get_child_props\u001B[0m\u001B[0;34m(\u001B[0m\u001B[0mself\u001B[0m\u001B[0;34m)\u001B[0m\u001B[0;34m\u001B[0m\u001B[0;34m\u001B[0m\u001B[0m\n\u001B[0m\u001B[1;32m   4374\u001B[0m \u001B[0;34m\u001B[0m\u001B[0m\n\u001B[1;32m   4375\u001B[0m     \u001B[0;32mdef\u001B[0m \u001B[0m_get_child_props\u001B[0m\u001B[0;34m(\u001B[0m\u001B[0mself\u001B[0m\u001B[0;34m,\u001B[0m \u001B[0mchild\u001B[0m\u001B[0;34m)\u001B[0m\u001B[0;34m:\u001B[0m\u001B[0;34m\u001B[0m\u001B[0;34m\u001B[0m\u001B[0m\n",
      "\u001B[0;32m~/development/itba/pf/vectorbt-yaats/venv/lib/python3.7/site-packages/plotly/basedatatypes.py\u001B[0m in \u001B[0;36m_get_child_props\u001B[0;34m(self, child)\u001B[0m\n\u001B[1;32m   4408\u001B[0m                     \u001B[0;32massert\u001B[0m \u001B[0mchild_ind\u001B[0m \u001B[0;32mis\u001B[0m \u001B[0;32mnot\u001B[0m \u001B[0;32mNone\u001B[0m\u001B[0;34m\u001B[0m\u001B[0;34m\u001B[0m\u001B[0m\n\u001B[1;32m   4409\u001B[0m \u001B[0;34m\u001B[0m\u001B[0m\n\u001B[0;32m-> 4410\u001B[0;31m                     \u001B[0mchildren_props\u001B[0m \u001B[0;34m=\u001B[0m \u001B[0mself\u001B[0m\u001B[0;34m.\u001B[0m\u001B[0m_props\u001B[0m\u001B[0;34m.\u001B[0m\u001B[0mget\u001B[0m\u001B[0;34m(\u001B[0m\u001B[0mchild\u001B[0m\u001B[0;34m.\u001B[0m\u001B[0mplotly_name\u001B[0m\u001B[0;34m,\u001B[0m \u001B[0;32mNone\u001B[0m\u001B[0;34m)\u001B[0m\u001B[0;34m\u001B[0m\u001B[0;34m\u001B[0m\u001B[0m\n\u001B[0m\u001B[1;32m   4411\u001B[0m                     return (\n\u001B[1;32m   4412\u001B[0m                         \u001B[0mchildren_props\u001B[0m\u001B[0;34m[\u001B[0m\u001B[0mchild_ind\u001B[0m\u001B[0;34m]\u001B[0m\u001B[0;34m\u001B[0m\u001B[0;34m\u001B[0m\u001B[0m\n",
      "\u001B[0;32m~/development/itba/pf/vectorbt-yaats/venv/lib/python3.7/site-packages/plotly/basedatatypes.py\u001B[0m in \u001B[0;36m_props\u001B[0;34m(self)\u001B[0m\n\u001B[1;32m   4371\u001B[0m         \u001B[0;32melse\u001B[0m\u001B[0;34m:\u001B[0m\u001B[0;34m\u001B[0m\u001B[0;34m\u001B[0m\u001B[0m\n\u001B[1;32m   4372\u001B[0m             \u001B[0;31m# Get data from parent's dict\u001B[0m\u001B[0;34m\u001B[0m\u001B[0;34m\u001B[0m\u001B[0;34m\u001B[0m\u001B[0m\n\u001B[0;32m-> 4373\u001B[0;31m             \u001B[0;32mreturn\u001B[0m \u001B[0mself\u001B[0m\u001B[0;34m.\u001B[0m\u001B[0mparent\u001B[0m\u001B[0;34m.\u001B[0m\u001B[0m_get_child_props\u001B[0m\u001B[0;34m(\u001B[0m\u001B[0mself\u001B[0m\u001B[0;34m)\u001B[0m\u001B[0;34m\u001B[0m\u001B[0;34m\u001B[0m\u001B[0m\n\u001B[0m\u001B[1;32m   4374\u001B[0m \u001B[0;34m\u001B[0m\u001B[0m\n\u001B[1;32m   4375\u001B[0m     \u001B[0;32mdef\u001B[0m \u001B[0m_get_child_props\u001B[0m\u001B[0;34m(\u001B[0m\u001B[0mself\u001B[0m\u001B[0;34m,\u001B[0m \u001B[0mchild\u001B[0m\u001B[0;34m)\u001B[0m\u001B[0;34m:\u001B[0m\u001B[0;34m\u001B[0m\u001B[0;34m\u001B[0m\u001B[0m\n",
      "\u001B[0;32m~/development/itba/pf/vectorbt-yaats/venv/lib/python3.7/site-packages/plotly/basedatatypes.py\u001B[0m in \u001B[0;36m_get_child_props\u001B[0;34m(self, child)\u001B[0m\n\u001B[1;32m   4385\u001B[0m         \u001B[0mdict\u001B[0m\u001B[0;34m\u001B[0m\u001B[0;34m\u001B[0m\u001B[0m\n\u001B[1;32m   4386\u001B[0m         \"\"\"\n\u001B[0;32m-> 4387\u001B[0;31m         \u001B[0;32mif\u001B[0m \u001B[0mself\u001B[0m\u001B[0;34m.\u001B[0m\u001B[0m_props\u001B[0m \u001B[0;32mis\u001B[0m \u001B[0;32mNone\u001B[0m\u001B[0;34m:\u001B[0m\u001B[0;34m\u001B[0m\u001B[0;34m\u001B[0m\u001B[0m\n\u001B[0m\u001B[1;32m   4388\u001B[0m             \u001B[0;31m# If this node's properties are uninitialized then so are its\u001B[0m\u001B[0;34m\u001B[0m\u001B[0;34m\u001B[0m\u001B[0;34m\u001B[0m\u001B[0m\n\u001B[1;32m   4389\u001B[0m             \u001B[0;31m# child's\u001B[0m\u001B[0;34m\u001B[0m\u001B[0;34m\u001B[0m\u001B[0;34m\u001B[0m\u001B[0m\n",
      "\u001B[0;32m~/development/itba/pf/vectorbt-yaats/venv/lib/python3.7/site-packages/plotly/basedatatypes.py\u001B[0m in \u001B[0;36m_props\u001B[0;34m(self)\u001B[0m\n\u001B[1;32m   4371\u001B[0m         \u001B[0;32melse\u001B[0m\u001B[0;34m:\u001B[0m\u001B[0;34m\u001B[0m\u001B[0;34m\u001B[0m\u001B[0m\n\u001B[1;32m   4372\u001B[0m             \u001B[0;31m# Get data from parent's dict\u001B[0m\u001B[0;34m\u001B[0m\u001B[0;34m\u001B[0m\u001B[0;34m\u001B[0m\u001B[0m\n\u001B[0;32m-> 4373\u001B[0;31m             \u001B[0;32mreturn\u001B[0m \u001B[0mself\u001B[0m\u001B[0;34m.\u001B[0m\u001B[0mparent\u001B[0m\u001B[0;34m.\u001B[0m\u001B[0m_get_child_props\u001B[0m\u001B[0;34m(\u001B[0m\u001B[0mself\u001B[0m\u001B[0;34m)\u001B[0m\u001B[0;34m\u001B[0m\u001B[0;34m\u001B[0m\u001B[0m\n\u001B[0m\u001B[1;32m   4374\u001B[0m \u001B[0;34m\u001B[0m\u001B[0m\n\u001B[1;32m   4375\u001B[0m     \u001B[0;32mdef\u001B[0m \u001B[0m_get_child_props\u001B[0m\u001B[0;34m(\u001B[0m\u001B[0mself\u001B[0m\u001B[0;34m,\u001B[0m \u001B[0mchild\u001B[0m\u001B[0;34m)\u001B[0m\u001B[0;34m:\u001B[0m\u001B[0;34m\u001B[0m\u001B[0;34m\u001B[0m\u001B[0m\n",
      "\u001B[0;32m~/development/itba/pf/vectorbt-yaats/venv/lib/python3.7/site-packages/plotly/basedatatypes.py\u001B[0m in \u001B[0;36m_get_child_props\u001B[0;34m(self, child)\u001B[0m\n\u001B[1;32m   4391\u001B[0m         \u001B[0;32melse\u001B[0m\u001B[0;34m:\u001B[0m\u001B[0;34m\u001B[0m\u001B[0;34m\u001B[0m\u001B[0m\n\u001B[1;32m   4392\u001B[0m             \u001B[0;31m# ### Child a compound property ###\u001B[0m\u001B[0;34m\u001B[0m\u001B[0;34m\u001B[0m\u001B[0;34m\u001B[0m\u001B[0m\n\u001B[0;32m-> 4393\u001B[0;31m             \u001B[0;32mif\u001B[0m \u001B[0mchild\u001B[0m\u001B[0;34m.\u001B[0m\u001B[0mplotly_name\u001B[0m \u001B[0;32min\u001B[0m \u001B[0mself\u001B[0m\u001B[0;34m:\u001B[0m\u001B[0;34m\u001B[0m\u001B[0;34m\u001B[0m\u001B[0m\n\u001B[0m\u001B[1;32m   4394\u001B[0m                 from _plotly_utils.basevalidators import (\n\u001B[1;32m   4395\u001B[0m                     \u001B[0mCompoundValidator\u001B[0m\u001B[0;34m,\u001B[0m\u001B[0;34m\u001B[0m\u001B[0;34m\u001B[0m\u001B[0m\n",
      "\u001B[0;32m~/development/itba/pf/vectorbt-yaats/venv/lib/python3.7/site-packages/plotly/basedatatypes.py\u001B[0m in \u001B[0;36m__contains__\u001B[0;34m(self, prop)\u001B[0m\n\u001B[1;32m   5782\u001B[0m         \"\"\"\n\u001B[1;32m   5783\u001B[0m         \u001B[0mprop\u001B[0m \u001B[0;34m=\u001B[0m \u001B[0mself\u001B[0m\u001B[0;34m.\u001B[0m\u001B[0m_strip_subplot_suffix_of_1\u001B[0m\u001B[0;34m(\u001B[0m\u001B[0mprop\u001B[0m\u001B[0;34m)\u001B[0m\u001B[0;34m\u001B[0m\u001B[0;34m\u001B[0m\u001B[0m\n\u001B[0;32m-> 5784\u001B[0;31m         \u001B[0;32mreturn\u001B[0m \u001B[0msuper\u001B[0m\u001B[0;34m(\u001B[0m\u001B[0mBaseLayoutHierarchyType\u001B[0m\u001B[0;34m,\u001B[0m \u001B[0mself\u001B[0m\u001B[0;34m)\u001B[0m\u001B[0;34m.\u001B[0m\u001B[0m__contains__\u001B[0m\u001B[0;34m(\u001B[0m\u001B[0mprop\u001B[0m\u001B[0;34m)\u001B[0m\u001B[0;34m\u001B[0m\u001B[0;34m\u001B[0m\u001B[0m\n\u001B[0m\u001B[1;32m   5785\u001B[0m \u001B[0;34m\u001B[0m\u001B[0m\n\u001B[1;32m   5786\u001B[0m     \u001B[0;32mdef\u001B[0m \u001B[0m__setitem__\u001B[0m\u001B[0;34m(\u001B[0m\u001B[0mself\u001B[0m\u001B[0;34m,\u001B[0m \u001B[0mprop\u001B[0m\u001B[0;34m,\u001B[0m \u001B[0mvalue\u001B[0m\u001B[0;34m)\u001B[0m\u001B[0;34m:\u001B[0m\u001B[0;34m\u001B[0m\u001B[0;34m\u001B[0m\u001B[0m\n",
      "\u001B[0;32m~/development/itba/pf/vectorbt-yaats/venv/lib/python3.7/site-packages/plotly/basedatatypes.py\u001B[0m in \u001B[0;36m__contains__\u001B[0;34m(self, prop)\u001B[0m\n\u001B[1;32m   4733\u001B[0m             \u001B[0;32melse\u001B[0m\u001B[0;34m:\u001B[0m\u001B[0;34m\u001B[0m\u001B[0;34m\u001B[0m\u001B[0m\n\u001B[1;32m   4734\u001B[0m                 \u001B[0;32mif\u001B[0m \u001B[0mobj\u001B[0m \u001B[0;32mis\u001B[0m \u001B[0;32mnot\u001B[0m \u001B[0;32mNone\u001B[0m \u001B[0;32mand\u001B[0m \u001B[0mp\u001B[0m \u001B[0;32min\u001B[0m \u001B[0mobj\u001B[0m\u001B[0;34m.\u001B[0m\u001B[0m_valid_props\u001B[0m\u001B[0;34m:\u001B[0m\u001B[0;34m\u001B[0m\u001B[0;34m\u001B[0m\u001B[0m\n\u001B[0;32m-> 4735\u001B[0;31m                     \u001B[0mobj\u001B[0m \u001B[0;34m=\u001B[0m \u001B[0mobj\u001B[0m\u001B[0;34m[\u001B[0m\u001B[0mp\u001B[0m\u001B[0;34m]\u001B[0m\u001B[0;34m\u001B[0m\u001B[0;34m\u001B[0m\u001B[0m\n\u001B[0m\u001B[1;32m   4736\u001B[0m                 \u001B[0;32melse\u001B[0m\u001B[0;34m:\u001B[0m\u001B[0;34m\u001B[0m\u001B[0;34m\u001B[0m\u001B[0m\n\u001B[1;32m   4737\u001B[0m                     \u001B[0;32mreturn\u001B[0m \u001B[0;32mFalse\u001B[0m\u001B[0;34m\u001B[0m\u001B[0;34m\u001B[0m\u001B[0m\n",
      "\u001B[0;32m~/development/itba/pf/vectorbt-yaats/venv/lib/python3.7/site-packages/plotly/basedatatypes.py\u001B[0m in \u001B[0;36m__getitem__\u001B[0;34m(self, prop)\u001B[0m\n\u001B[1;32m   5775\u001B[0m         \"\"\"\n\u001B[1;32m   5776\u001B[0m         \u001B[0mprop\u001B[0m \u001B[0;34m=\u001B[0m \u001B[0mself\u001B[0m\u001B[0;34m.\u001B[0m\u001B[0m_strip_subplot_suffix_of_1\u001B[0m\u001B[0;34m(\u001B[0m\u001B[0mprop\u001B[0m\u001B[0;34m)\u001B[0m\u001B[0;34m\u001B[0m\u001B[0;34m\u001B[0m\u001B[0m\n\u001B[0;32m-> 5777\u001B[0;31m         \u001B[0;32mreturn\u001B[0m \u001B[0msuper\u001B[0m\u001B[0;34m(\u001B[0m\u001B[0mBaseLayoutHierarchyType\u001B[0m\u001B[0;34m,\u001B[0m \u001B[0mself\u001B[0m\u001B[0;34m)\u001B[0m\u001B[0;34m.\u001B[0m\u001B[0m__getitem__\u001B[0m\u001B[0;34m(\u001B[0m\u001B[0mprop\u001B[0m\u001B[0;34m)\u001B[0m\u001B[0;34m\u001B[0m\u001B[0;34m\u001B[0m\u001B[0m\n\u001B[0m\u001B[1;32m   5778\u001B[0m \u001B[0;34m\u001B[0m\u001B[0m\n\u001B[1;32m   5779\u001B[0m     \u001B[0;32mdef\u001B[0m \u001B[0m__contains__\u001B[0m\u001B[0;34m(\u001B[0m\u001B[0mself\u001B[0m\u001B[0;34m,\u001B[0m \u001B[0mprop\u001B[0m\u001B[0;34m)\u001B[0m\u001B[0;34m:\u001B[0m\u001B[0;34m\u001B[0m\u001B[0;34m\u001B[0m\u001B[0m\n",
      "\u001B[0;32m~/development/itba/pf/vectorbt-yaats/venv/lib/python3.7/site-packages/plotly/basedatatypes.py\u001B[0m in \u001B[0;36m__getitem__\u001B[0;34m(self, prop)\u001B[0m\n\u001B[1;32m   4651\u001B[0m                 )\n\u001B[1;32m   4652\u001B[0m \u001B[0;34m\u001B[0m\u001B[0m\n\u001B[0;32m-> 4653\u001B[0;31m             \u001B[0mvalidator\u001B[0m \u001B[0;34m=\u001B[0m \u001B[0mself\u001B[0m\u001B[0;34m.\u001B[0m\u001B[0m_get_validator\u001B[0m\u001B[0;34m(\u001B[0m\u001B[0mprop\u001B[0m\u001B[0;34m)\u001B[0m\u001B[0;34m\u001B[0m\u001B[0;34m\u001B[0m\u001B[0m\n\u001B[0m\u001B[1;32m   4654\u001B[0m \u001B[0;34m\u001B[0m\u001B[0m\n\u001B[1;32m   4655\u001B[0m             \u001B[0;32mif\u001B[0m \u001B[0misinstance\u001B[0m\u001B[0;34m(\u001B[0m\u001B[0mvalidator\u001B[0m\u001B[0;34m,\u001B[0m \u001B[0mCompoundValidator\u001B[0m\u001B[0;34m)\u001B[0m\u001B[0;34m:\u001B[0m\u001B[0;34m\u001B[0m\u001B[0;34m\u001B[0m\u001B[0m\n",
      "\u001B[0;31mKeyboardInterrupt\u001B[0m: "
     ]
    }
   ],
   "source": [
    "resps = {}\n",
    "def create_plot(combination):\n",
    "    print(combination)\n",
    "\n",
    "    lag = combination[0]\n",
    "    vol_thld = combination[1]\n",
    "    lr_thld = combination[2] # lr_thld < 0\n",
    "\n",
    "    lr_ma, lr_mstd, vol_ma = ma_mstd(shifted_lr.reshape((shifted_lr.shape[0],1)), shifted_vol.reshape((shifted_vol.shape[0],1)), lag)\n",
    "    signal = ENTRY_SIGNALS.run(lr=lr_ind.lr, shifted_lr=shifted_lr,\n",
    "                                vol=volume, shifted_vol=shifted_vol,\n",
    "                                lag=lag, lr_thld=lr_thld, vol_thld=vol_thld, exit_wait=4,\n",
    "                                short_name=\"signals\")\n",
    "\n",
    "    lr_mstd_th = lr_ma + lr_thld * lr_mstd # lr_thld < 0\n",
    "    lr_mstd_th = lr_mstd_th.reshape((lr_mstd_th.shape[0],))\n",
    "    lr_mstd_th = pd.Series(lr_mstd_th, index=index, copy=True, name=\"lr_mstd_th\")\n",
    "\n",
    "    vol_ma_th = vol_thld * vol_ma\n",
    "    vol_ma_th = vol_ma_th.reshape((vol_ma_th.shape[0],))\n",
    "    vol_ma_th = pd.Series(vol_ma_th, index=index, copy=True, name=\"vol_ma_th\")\n",
    "\n",
    "    entry = pd.Series(signal.entries, index=index, copy=True, name=\"entry\")\n",
    "    exit = pd.Series(signal.exits, index=index, copy=True, name=\"exit\")\n",
    "\n",
    "    del signal, lr_ma, lr_mstd, vol_ma\n",
    "    lr_plot = plot_series_vs_scatters([lr_mstd_th, lr_ind.lr], [entry, exit], index=index)\n",
    "    vol_plot = plot_series_vs_scatters([vol_ma_th, volume], [entry, exit], index=index)\n",
    "    close_plot = plot_series_vs_scatters([close], [entry, exit], index=index)\n",
    "    fig = make_subplots(rows=3, cols=1, shared_xaxes=True, vertical_spacing=0.02)\n",
    "\n",
    "    add_all_subplots(fig, 1, 1, lr_plot.data)\n",
    "    add_all_subplots(fig, 2, 1, vol_plot.data)\n",
    "    add_all_subplots(fig, 3, 1, close_plot.data)\n",
    "\n",
    "\n",
    "    fig.update_layout(height=700, legend=dict(\n",
    "        orientation=\"h\",\n",
    "        yanchor=\"bottom\",\n",
    "        y=1.02,\n",
    "        xanchor=\"right\",\n",
    "        x=1,\n",
    "        title= f\"lag={lag} lr_thld={lr_thld} vol_thld={vol_thld}\"\n",
    "    ))\n",
    "    filename = f\"lag_{lag}-lr_thld_{lr_thld}-vol_thld_{vol_thld}\"\n",
    "    fig.write_html(f\"/Users/pilo/development/itba/pf/vectorbt-yaats/strategies/SellOff/plots/{filename}.html\")\n",
    "\n",
    "p_tqdm.p_map(create_plot, combinations)"
   ]
  },
  {
   "cell_type": "code",
   "execution_count": null,
   "outputs": [],
   "source": [],
   "metadata": {
    "collapsed": false,
    "pycharm": {
     "name": "#%%\n"
    }
   }
  }
 ],
 "metadata": {
  "kernelspec": {
   "name": "python3",
   "language": "python",
   "display_name": "Python 3"
  },
  "language_info": {
   "codemirror_mode": {
    "name": "ipython",
    "version": 3
   },
   "file_extension": ".py",
   "mimetype": "text/x-python",
   "name": "python",
   "nbconvert_exporter": "python",
   "pygments_lexer": "ipython3",
   "version": "3.7.9"
  }
 },
 "nbformat": 4,
 "nbformat_minor": 1
}