{
 "cells": [
  {
   "cell_type": "code",
   "execution_count": null,
   "metadata": {
    "pycharm": {
     "name": "#%%\n"
    }
   },
   "outputs": [],
   "source": [
    "import itertools\n",
    "import os\n",
    "import sys\n",
    "\n",
    "import numpy as np\n",
    "import pandas as pd\n",
    "from numba import njit\n",
    "from plotly.subplots import make_subplots\n",
    "from vectorbt.generic import nb as generic_nb\n",
    "module_path = os.path.abspath(os.path.join('../..'))\n",
    "if module_path not in sys.path:\n",
    "    sys.path.append(module_path)\n",
    "import vectorbt as vbt\n",
    "from lib.utils import file_to_data_frame, LR, ExtendedPortfolio, plot_series_vs_scatters, dropnaninf, get_best_index, \\\n",
    "    where_true_set_series"
   ]
  },
  {
   "cell_type": "code",
   "execution_count": null,
   "metadata": {
    "pycharm": {
     "name": "#%%\n"
    }
   },
   "outputs": [],
   "source": [
    "file = \"/Users/pilo/development/itba/pf/Binance_Minute_OHLC_CSVs/3000/Binance_ADAUSDT_minute_3000.csv\"\n",
    "_, ohlcv = file_to_data_frame(file)\n",
    "ohlcv. head()"
   ]
  },
  {
   "cell_type": "code",
   "execution_count": null,
   "metadata": {
    "pycharm": {
     "name": "#%%\n"
    }
   },
   "outputs": [],
   "source": [
    "close = ohlcv[\"Close\"]\n",
    "volume = ohlcv[\"Volume\"]\n",
    "lr_ind = LR.run(close)\n",
    "print(lr_ind.lr.shape)"
   ]
  },
  {
   "cell_type": "code",
   "execution_count": null,
   "metadata": {
    "pycharm": {
     "name": "#%%\n"
    }
   },
   "outputs": [],
   "source": [
    "@njit\n",
    "def signal_calculations(lr, lr_ma, lr_mstd, vol, vol_mstd, lr_thld, vol_thld):\n",
    "    lr_thld_std = lr_thld * lr_mstd\n",
    "    ups = lr_ma - lr_thld_std # lr_thld < 0\n",
    "    downs = lr_ma + lr_thld_std\n",
    "    lr_entries = np.where(lr < downs, True, False)\n",
    "    lr_exits = np.where(lr > ups, True, False)\n",
    "    vol_thld_std = vol_thld * vol_mstd\n",
    "    vol_entries = np.where(vol > vol_thld_std, True, False)\n",
    "    return ups, downs, lr_entries, lr_exits, vol_thld_std, vol_entries\n",
    "\n",
    "@njit\n",
    "def ma_mstd(lr, volume, lag):\n",
    "    lr_ma = generic_nb.rolling_mean_nb(lr, lag)\n",
    "    lr_mstd = generic_nb.rolling_std_nb(lr, lag)\n",
    "    vol_mstd = generic_nb.rolling_std_nb(volume, lag)\n",
    "    return lr_ma, lr_mstd, vol_mstd\n",
    "\n",
    "@njit\n",
    "def signals_nb(lr, volume, lr_thld, vol_thld, lag):\n",
    "    lr_ma, lr_mstd, vol_mstd = ma_mstd(lr, volume, lag)\n",
    "    _, _, lr_entries, lr_exits, _, vol_entries = signal_calculations(lr, lr_ma, lr_mstd, volume, vol_mstd, lr_thld, vol_thld)\n",
    "    final_entries = lr_entries & vol_entries\n",
    "    return final_entries, lr_exits\n",
    "\n",
    "ENTRY_SIGNALS = vbt.IndicatorFactory(\n",
    "    input_names=['lr', 'volume'],\n",
    "    param_names=['lr_thld', 'vol_thld', 'lag'],\n",
    "    output_names=['entries','exits']\n",
    ").from_apply_func(signals_nb, use_ray=True)\n",
    "lr_thld = -np.linspace(0,5, 30, endpoint=True)\n",
    "vol_thld = np.linspace(0,10, 30, endpoint=True)\n",
    "lag = list(range(5,50))\n",
    "signals = ENTRY_SIGNALS.run(lr_ind.lr, volume, lr_thld, vol_thld, lag,\n",
    "                            param_product=True, short_name=\"signals\")\n",
    "signals.entries.head()"
   ]
  },
  {
   "cell_type": "code",
   "execution_count": null,
   "metadata": {
    "pycharm": {
     "name": "#%%\n"
    }
   },
   "outputs": [],
   "source": [
    "entries = np.where(signals.entries == True, 1, np.nan)\n",
    "all_signals = pd.DataFrame(np.where(signals.exits == True, -1, entries), columns=signals.entries.columns)"
   ]
  },
  {
   "cell_type": "code",
   "execution_count": null,
   "metadata": {
    "pycharm": {
     "name": "#%%\n"
    }
   },
   "outputs": [],
   "source": [
    "@njit\n",
    "def k_mean(col, arr, *args):\n",
    "    indexes = np.where(np.isfinite(arr))[0]\n",
    "    lr = args[0]\n",
    "    n = 1\n",
    "    adder = 0\n",
    "    counter = 0\n",
    "    while n < len(indexes):\n",
    "        i = indexes[n]\n",
    "        prev = indexes[n-1]\n",
    "        if arr[prev] == 1 and arr[i] == -1:\n",
    "            adder += lr[i] - lr[prev]\n",
    "            counter += 1\n",
    "        n +=1\n",
    "    return adder / counter if counter != 0 else 0\n",
    "entry_exit_lr_avg = all_signals.vbt.reduce(k_mean, lr_ind.lr.to_numpy())\n",
    "entry_exit_lr_avg.vbt.volume().write_html(f\"{module_path}/ADA-mean-optimization.html\")"
   ]
  },
  {
   "cell_type": "code",
   "execution_count": null,
   "metadata": {
    "pycharm": {
     "name": "#%%\n"
    }
   },
   "outputs": [],
   "source": [
    "#volume.write_html(f\"{module_path}/lag-thlds-optimization.html\")\n",
    "\n"
   ]
  },
  {
   "cell_type": "code",
   "execution_count": null,
   "outputs": [],
   "source": [
    "@njit\n",
    "def positive_return_prob(col, arr, *args):\n",
    "    indexes = np.where(np.isfinite(arr))[0]\n",
    "    lr = args[0]\n",
    "    n = 1\n",
    "    adder = 0\n",
    "    counter = 0\n",
    "    while n < len(indexes):\n",
    "        i = indexes[n]\n",
    "        prev = indexes[n-1]\n",
    "        #if entry then exit\n",
    "        if arr[prev] == 1 and arr[i] == -1:\n",
    "            # if positive return\n",
    "            if lr[i] > lr[prev]:\n",
    "                adder += 1\n",
    "            counter += 1\n",
    "        n +=1\n",
    "    return adder / counter if counter != 0 else 0\n",
    "entry_exit_prob_avg = all_signals.vbt.reduce(positive_return_prob, lr_ind.lr.to_numpy())\n",
    "entry_exit_prob_avg.vbt.volume().write_html(f\"{module_path}/ADA-return_prob-optimization.html\")"
   ],
   "metadata": {
    "collapsed": false,
    "pycharm": {
     "name": "#%%\n"
    }
   }
  },
  {
   "cell_type": "code",
   "execution_count": null,
   "outputs": [],
   "source": [
    "@njit\n",
    "def trades_count(col, arr):\n",
    "    indexes = np.where(np.isfinite(arr))[0]\n",
    "    n = 1\n",
    "    counter = 0\n",
    "    while n < len(indexes):\n",
    "        i = indexes[n]\n",
    "        prev = indexes[n-1]\n",
    "        if arr[prev] == 1 and arr[i] == -1:\n",
    "            counter += 1\n",
    "        n +=1\n",
    "    return counter\n",
    "entry_exit_trades_count = all_signals.vbt.reduce(trades_count)\n",
    "entry_exit_trades_count.vbt.volume().write_html(f\"{module_path}/ADA-trade_count-optimization.html\")"
   ],
   "metadata": {
    "collapsed": false,
    "pycharm": {
     "name": "#%%\n"
    }
   }
  },
  {
   "cell_type": "code",
   "execution_count": null,
   "metadata": {
    "pycharm": {
     "is_executing": true,
     "name": "#%%\n"
    }
   },
   "outputs": [],
   "source": [
    "best_indexes = entry_exit_prob_avg.nlargest(20, keep=\"all\")"
   ]
  },
  {
   "cell_type": "code",
   "execution_count": null,
   "metadata": {
    "pycharm": {
     "name": "#%%\n"
    }
   },
   "outputs": [],
   "source": [
    "# graficamos con el mejor de los resultados de la optimización\n",
    "best_idx = best_indexes[-1]\n",
    "best_lr_thld, best_vol_thld, best_lag = best_idx"
   ]
  },
  {
   "cell_type": "code",
   "execution_count": null,
   "metadata": {
    "pycharm": {
     "name": "#%%\n"
    }
   },
   "outputs": [],
   "source": [
    "# recalculamos algunas cosas para graficar y entender lo que está pasando\n",
    "ups, downs, lr_entries, lr_exits, vol_thld_std, vol_entries = signal_calculations(\n",
    "    lr_ind.lr.to_numpy(),\n",
    "    ma_mstd.lr_ma[best_lag].to_numpy(),\n",
    "    ma_mstd.lr_mstd[best_lag].to_numpy(),\n",
    "    volume.to_numpy(),\n",
    "    ma_mstd.vol_mstd[best_lag].to_numpy(),\n",
    "    best_lr_thld,\n",
    "    best_vol_thld)"
   ]
  },
  {
   "cell_type": "code",
   "execution_count": null,
   "metadata": {
    "pycharm": {
     "name": "#%%\n"
    }
   },
   "outputs": [],
   "source": [
    "def plot_series_vs_scatters(series_list: list, booleans_list):\n",
    "    index = None\n",
    "    series = series_list.pop(0)\n",
    "    fig = series.vbt.plot()\n",
    "    while len(series_list):\n",
    "        series = series_list.pop(0)\n",
    "        if not isinstance(series, pd.Series):\n",
    "            series = pd.Series(series, index=index, copy=True)\n",
    "        elif index is None:\n",
    "            index = series.index\n",
    "        series.vbt.plot(fig=fig)\n",
    "    i = 1\n",
    "    for scatter in booleans_list:\n",
    "        if not isinstance(scatter, pd.Series):\n",
    "            scatter = pd.Series(scatter, index=index, copy=True)\n",
    "        elif index is None:\n",
    "            index = series.index\n",
    "        scatter = where_true_set_series(series, scatter)\n",
    "        scatter.name = i\n",
    "        i += 1\n",
    "        fig = scatter.vbt.scatterplot(fig=fig)\n",
    "    return fig\n",
    "\n",
    "entries = signals.entries[best_idx]\n",
    "plot_series_vs_scatters([lr_ind.lr, downs], []).show()"
   ]
  },
  {
   "cell_type": "code",
   "execution_count": null,
   "metadata": {
    "pycharm": {
     "name": "#%%\n"
    }
   },
   "outputs": [],
   "source": [
    "plots = [\n",
    "    plot_series_vs_scatters([lr_ind.lr, downs.T], []) #, downs, ups], [lr_entries, lr_exits]),\n",
    "    #plot_series_vs_scatters([volume, vol_thld_std], [vol_entries]),\n",
    "    #(entries.where(entries == True, np.nan)).vbt.scatterplot()\n",
    "]"
   ]
  },
  {
   "cell_type": "code",
   "execution_count": null,
   "metadata": {
    "pycharm": {
     "name": "#%%\n"
    }
   },
   "outputs": [],
   "source": [
    "def add_all_subplots(fig, row, col, list):\n",
    "    for a in list:\n",
    "        fig.add_trace(a, row=row, col=col)\n",
    "\n",
    "fig = make_subplots(rows=3, cols=1, shared_xaxes=True,\n",
    "                    vertical_spacing=0.02)\n",
    "for i in range(len(plots)):\n",
    "    add_all_subplots(fig, i+1, 1, plots[i].data)\n",
    "\n",
    "fig.update_layout(height=700, legend=dict(\n",
    "    orientation=\"h\",\n",
    "    yanchor=\"bottom\",\n",
    "    y=1.02,\n",
    "    xanchor=\"right\",\n",
    "    x=1\n",
    "))\n",
    "fig.show()"
   ]
  },
  {
   "cell_type": "code",
   "execution_count": null,
   "metadata": {
    "pycharm": {
     "name": "#%%\n"
    }
   },
   "outputs": [],
   "source": [
    "@njit\n",
    "def double_multiplier_nb(values, x, y):\n",
    "    return values*x, values*y\n",
    "\n",
    "DOUBLE_MULTIPLIER = vbt.IndicatorFactory(\n",
    "    input_names=['values'],\n",
    "    param_names=['x', 'y'],\n",
    "    output_names=['x_mu','y_mu']\n",
    ").from_apply_func(double_multiplier_nb)\n",
    "x = np.linspace(0,2,5, endpoint=True)\n",
    "y = -np.linspace(0,2,5, endpoint=True)\n",
    "tp_sl = DOUBLE_MULTIPLIER.run(mstd_ind.mstd, x, y, param_product=True, short_name=\"tp_sl\")"
   ]
  },
  {
   "cell_type": "code",
   "execution_count": null,
   "metadata": {
    "pycharm": {
     "name": "#%%\n"
    }
   },
   "outputs": [],
   "source": [
    "tp_exits = lr_ind.lr_above(tp_sl.x_mu)\n",
    "sl_exits = lr_ind.lr_below(tp_sl.y_mu)\n",
    "final_exits = tp_exits.vbt | sl_exits.vbt\n",
    "final_exits.columns = final_exits.columns.rename(\"lag\", level=-1)\n",
    "final_exits.head()"
   ]
  },
  {
   "cell_type": "code",
   "execution_count": null,
   "metadata": {
    "pycharm": {
     "name": "#%%\n"
    }
   },
   "outputs": [],
   "source": []
  }
 ],
 "metadata": {
  "kernelspec": {
   "display_name": "Python 3",
   "language": "python",
   "name": "python3"
  },
  "language_info": {
   "codemirror_mode": {
    "name": "ipython",
    "version": 3
   },
   "file_extension": ".py",
   "mimetype": "text/x-python",
   "name": "python",
   "nbconvert_exporter": "python",
   "pygments_lexer": "ipython3",
   "version": "3.7.9"
  }
 },
 "nbformat": 4,
 "nbformat_minor": 1
}