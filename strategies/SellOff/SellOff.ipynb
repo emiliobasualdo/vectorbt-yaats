{
 "cells": [
  {
   "cell_type": "code",
   "execution_count": null,
   "metadata": {
    "pycharm": {
     "name": "#%%\n"
    }
   },
   "outputs": [],
   "source": [
    "import itertools\n",
    "import math\n",
    "import os\n",
    "import sys\n",
    "\n",
    "import numpy as np\n",
    "import pandas as pd\n",
    "from numba import njit\n",
    "from plotly.subplots import make_subplots\n",
    "from vectorbt import FigureWidget\n",
    "from vectorbt.generic import nb as generic_nb\n",
    "module_path = os.path.abspath(os.path.join('../..'))\n",
    "if module_path not in sys.path:\n",
    "    sys.path.append(module_path)\n",
    "import vectorbt as vbt\n",
    "from lib.utils import file_to_data_frame, LR, ExtendedPortfolio, plot_series_vs_scatters, dropnaninf, get_best_index, \\\n",
    "    where_true_set_series, shift_np, positive_return_prob, trades_count, k_mean, signals_to_ones"
   ]
  },
  {
   "cell_type": "code",
   "execution_count": null,
   "metadata": {
    "pycharm": {
     "name": "#%%\n"
    }
   },
   "outputs": [],
   "source": [
    "symbol = \"ADA\"\n",
    "candles = \"_25000\"\n",
    "file = f\"/Users/pilo/development/itba/pf/Binance_Minute_OHLC_CSVs/{candles[1:]}/Binance_{symbol}USDT_minute{candles}.csv\"\n",
    "_, ohlcv = file_to_data_frame(file)\n",
    "\n",
    "fee = 0.001\n",
    "min_trades = 500\n",
    "save_html = True\n",
    "close = ohlcv[\"Close\"]\n",
    "volume = ohlcv[\"Volume\"]\n",
    "lr_ind = LR.run(close)\n",
    "print(lr_ind.lr.shape)"
   ]
  },
  {
   "cell_type": "code",
   "execution_count": null,
   "metadata": {
    "pycharm": {
     "name": "#%%\n"
    }
   },
   "outputs": [],
   "source": [
    "@njit\n",
    "def signal_calculations(lr, lr_ma, lr_mstd, vol, vol_mstd, lr_thld, vol_thld):\n",
    "    lr_thld_std = lr_thld * lr_mstd\n",
    "    ups = lr_ma - lr_thld_std # lr_thld < 0\n",
    "    downs = lr_ma + lr_thld_std\n",
    "    lr_entries = np.where(lr < downs, True, False)\n",
    "    lr_exits = np.where(lr > ups, True, False)\n",
    "    vol_thld_std = vol_thld * vol_mstd\n",
    "    vol_entries = np.where(vol > vol_thld_std, True, False)\n",
    "    return ups, downs, lr_entries, lr_exits, vol_thld_std, vol_entries\n",
    "\n",
    "@njit\n",
    "def ma_mstd(shifted_lr, shifted_volume, lag):\n",
    "    lr_ma = generic_nb.rolling_mean_nb(shifted_lr, lag)\n",
    "    lr_mstd = generic_nb.rolling_std_nb(shifted_lr, lag)\n",
    "    vol_mstd = generic_nb.rolling_std_nb(shifted_volume, lag)\n",
    "    return lr_ma, lr_mstd, vol_mstd\n",
    "\n",
    "@njit\n",
    "def signals_nb(lr, shifted_lr, vol, shifted_vol, lr_thld, vol_thld, lag):\n",
    "    lr_ma, lr_mstd, vol_mstd = ma_mstd(shifted_lr, shifted_vol, lag)\n",
    "    _, _, lr_entries, lr_exits, _, vol_entries = signal_calculations(lr, lr_ma, lr_mstd, vol, vol_mstd, lr_thld, vol_thld)\n",
    "    final_entries = lr_entries & vol_entries\n",
    "    return final_entries, lr_exits"
   ]
  },
  {
   "cell_type": "code",
   "execution_count": null,
   "metadata": {
    "pycharm": {
     "name": "#%%\n"
    }
   },
   "outputs": [],
   "source": [
    "ENTRY_SIGNALS = vbt.IndicatorFactory(\n",
    "    input_names=['lr', 'shifted_lr', 'vol', 'shifted_vol'],\n",
    "    param_names=['lr_thld', 'vol_thld', 'lag'],\n",
    "    output_names=['entries','exits']\n",
    ").from_apply_func(signals_nb, use_ray=True)\n",
    "lr_thld = -np.linspace(0,5, 30, endpoint=True)\n",
    "vol_thld = np.linspace(0,10, 30, endpoint=True)\n",
    "lag = list(range(6,100, 2))\n",
    "signals = ENTRY_SIGNALS.run(lr=lr_ind.lr, shifted_lr=shift_np(lr_ind.lr.to_numpy(), 1),\n",
    "                            vol=volume, shifted_vol=shift_np(volume.to_numpy(), 1),\n",
    "                            lr_thld=lr_thld, vol_thld=vol_thld, lag=lag,\n",
    "                            param_product=True, short_name=\"signals\")\n",
    "signals.entries.head()"
   ]
  },
  {
   "cell_type": "code",
   "execution_count": null,
   "metadata": {
    "pycharm": {
     "name": "#%%\n"
    }
   },
   "outputs": [],
   "source": [
    "portfolio_kwargs = dict(\n",
    "    direction='longonly',\n",
    "    freq='m',\n",
    "    size=np.inf,\n",
    "    fees=fee,\n",
    "    init_cash=100\n",
    ")\n",
    "port = ExtendedPortfolio.from_signals(close, signals.entries, signals.exits, **portfolio_kwargs, max_logs=0)"
   ]
  },
  {
   "cell_type": "code",
   "execution_count": null,
   "metadata": {
    "pycharm": {
     "is_executing": true,
     "name": "#%%\n"
    }
   },
   "outputs": [],
   "source": [
    "port.expected_log_returns().vbt.volume().show()"
   ]
  },
  {
   "cell_type": "code",
   "execution_count": null,
   "metadata": {
    "pycharm": {
     "is_executing": true,
     "name": "#%%\n"
    }
   },
   "outputs": [],
   "source": [
    "wr.vbt.volume().show()"
   ]
  },
  {
   "cell_type": "code",
   "execution_count": null,
   "metadata": {
    "pycharm": {
     "name": "#%%\n"
    }
   },
   "outputs": [],
   "source": [
    "\n",
    "all_signals = signals_to_ones(signals.entries, signals.exits)"
   ]
  },
  {
   "cell_type": "code",
   "execution_count": null,
   "metadata": {
    "pycharm": {
     "name": "#%%\n"
    }
   },
   "outputs": [],
   "source": [
    "vol_plots = []"
   ]
  },
  {
   "cell_type": "code",
   "execution_count": null,
   "metadata": {
    "pycharm": {
     "name": "#%%\n"
    }
   },
   "outputs": [],
   "source": [
    "res_lr_avg = all_signals.vbt.reduce(k_mean, close.to_numpy(), fee, min_trades)\n",
    "vol_plots.append({\n",
    "    \"data\": dropnaninf(res_lr_avg),\n",
    "    \"title\": \"sum(log(p_exit/p_entry),..., )/ #Trades\"\n",
    "})\n",
    "vol_plots.append({\n",
    "    \"data\": dropnaninf(res_lr_avg[res_lr_avg>0]),\n",
    "    \"title\": \"(sum(log(p_exit/p_entry),..., )/ #Trades) > 0\"\n",
    "})"
   ]
  },
  {
   "cell_type": "code",
   "execution_count": null,
   "metadata": {
    "pycharm": {
     "name": "#%%\n"
    }
   },
   "outputs": [],
   "source": [
    "res_prob_avg = all_signals.vbt.reduce(positive_return_prob, close.to_numpy(), fee, min_trades)\n",
    "vol_plots.append({\n",
    "    \"data\": dropnaninf(res_prob_avg),\n",
    "    \"title\": \"#Positive_trades / #Trades\"\n",
    "})"
   ]
  },
  {
   "cell_type": "code",
   "execution_count": null,
   "metadata": {
    "pycharm": {
     "name": "#%%\n"
    }
   },
   "outputs": [],
   "source": [
    "res_trades_count = all_signals.vbt.reduce(trades_count)\n",
    "vol_plots.append({\n",
    "    \"data\": dropnaninf(res_trades_count),\n",
    "    \"title\": \"#Trades\"\n",
    "})"
   ]
  },
  {
   "cell_type": "code",
   "execution_count": null,
   "metadata": {
    "pycharm": {
     "name": "#%%\n"
    }
   },
   "outputs": [],
   "source": [
    "res_median = all_signals.vbt.median()\n",
    "res_median"
   ]
  },
  {
   "cell_type": "code",
   "execution_count": null,
   "metadata": {
    "pycharm": {
     "name": "#%%\n"
    }
   },
   "outputs": [],
   "source": [
    "vol_plots.append({\n",
    "    \"data\": dropnaninf(res_median),\n",
    "    \"title\": \"Median\"\n",
    "})\n",
    "vol_plots.append({\n",
    "    \"data\": dropnaninf(res_median[res_median>0]),\n",
    "    \"title\": \"Median > 0\"\n",
    "})"
   ]
  },
  {
   "cell_type": "code",
   "execution_count": null,
   "metadata": {
    "pycharm": {
     "name": "#%%\n"
    }
   },
   "outputs": [],
   "source": [
    "for i in range(len(vol_plots)):\n",
    "    vol_plots[i][\"data\"].vbt.volume(title=vol_plots[i][\"title\"]).show()"
   ]
  },
  {
   "cell_type": "code",
   "execution_count": null,
   "metadata": {
    "pycharm": {
     "name": "#%%\n"
    }
   },
   "outputs": [],
   "source": [
    "best_indexes = entry_exit_prob_avg.nlargest(20, keep=\"all\")"
   ]
  },
  {
   "cell_type": "code",
   "execution_count": null,
   "metadata": {
    "pycharm": {
     "name": "#%%\n"
    }
   },
   "outputs": [],
   "source": [
    "# graficamos con el mejor de los resultados de la optimización\n",
    "best_idx = best_indexes[-1]\n",
    "best_lr_thld, best_vol_thld, best_lag = best_idx"
   ]
  },
  {
   "cell_type": "code",
   "execution_count": null,
   "metadata": {
    "pycharm": {
     "name": "#%%\n"
    }
   },
   "outputs": [],
   "source": [
    "# recalculamos algunas cosas para graficar y entender lo que está pasando\n",
    "ups, downs, lr_entries, lr_exits, vol_thld_std, vol_entries = signal_calculations(\n",
    "    lr_ind.lr.to_numpy(),\n",
    "    ma_mstd.lr_ma[best_lag].to_numpy(),\n",
    "    ma_mstd.lr_mstd[best_lag].to_numpy(),\n",
    "    volume.to_numpy(),\n",
    "    ma_mstd.vol_mstd[best_lag].to_numpy(),\n",
    "    best_lr_thld,\n",
    "    best_vol_thld)"
   ]
  },
  {
   "cell_type": "code",
   "execution_count": null,
   "metadata": {
    "pycharm": {
     "name": "#%%\n"
    }
   },
   "outputs": [],
   "source": [
    "def plot_series_vs_scatters(series_list: list, booleans_list):\n",
    "    index = None\n",
    "    series = series_list.pop(0)\n",
    "    fig = series.vbt.plot()\n",
    "    while len(series_list):\n",
    "        series = series_list.pop(0)\n",
    "        if not isinstance(series, pd.Series):\n",
    "            series = pd.Series(series, index=index, copy=True)\n",
    "        elif index is None:\n",
    "            index = series.index\n",
    "        series.vbt.plot(fig=fig)\n",
    "    i = 1\n",
    "    for scatter in booleans_list:\n",
    "        if not isinstance(scatter, pd.Series):\n",
    "            scatter = pd.Series(scatter, index=index, copy=True)\n",
    "        elif index is None:\n",
    "            index = series.index\n",
    "        scatter = where_true_set_series(series, scatter)\n",
    "        scatter.name = i\n",
    "        i += 1\n",
    "        fig = scatter.vbt.scatterplot(fig=fig)\n",
    "    return fig\n",
    "\n",
    "entries = signals.entries[best_idx]\n",
    "plot_series_vs_scatters([lr_ind.lr, downs], []).show()"
   ]
  },
  {
   "cell_type": "code",
   "execution_count": null,
   "metadata": {
    "pycharm": {
     "name": "#%%\n"
    }
   },
   "outputs": [],
   "source": [
    "plots = [\n",
    "    plot_series_vs_scatters([lr_ind.lr, downs.T], []) #, downs, ups], [lr_entries, lr_exits]),\n",
    "    #plot_series_vs_scatters([volume, vol_thld_std], [vol_entries]),\n",
    "    #(entries.where(entries == True, np.nan)).vbt.scatterplot()\n",
    "]"
   ]
  },
  {
   "cell_type": "code",
   "execution_count": null,
   "metadata": {
    "pycharm": {
     "name": "#%%\n"
    }
   },
   "outputs": [],
   "source": [
    "def add_all_subplots(fig, row, col, list):\n",
    "    for a in list:\n",
    "        fig.add_trace(a, row=row, col=col)\n",
    "\n",
    "fig = make_subplots(rows=3, cols=1, shared_xaxes=True,\n",
    "                    vertical_spacing=0.02)\n",
    "for i in range(len(plots)):\n",
    "    add_all_subplots(fig, i+1, 1, plots[i].data)\n",
    "\n",
    "fig.update_layout(height=700, legend=dict(\n",
    "    orientation=\"h\",\n",
    "    yanchor=\"bottom\",\n",
    "    y=1.02,\n",
    "    xanchor=\"right\",\n",
    "    x=1\n",
    "))\n",
    "fig.show()"
   ]
  },
  {
   "cell_type": "code",
   "execution_count": null,
   "metadata": {
    "pycharm": {
     "name": "#%%\n"
    }
   },
   "outputs": [],
   "source": [
    "@njit\n",
    "def double_multiplier_nb(values, x, y):\n",
    "    return values*x, values*y\n",
    "\n",
    "DOUBLE_MULTIPLIER = vbt.IndicatorFactory(\n",
    "    input_names=['values'],\n",
    "    param_names=['x', 'y'],\n",
    "    output_names=['x_mu','y_mu']\n",
    ").from_apply_func(double_multiplier_nb)\n",
    "x = np.linspace(0,2,5, endpoint=True)\n",
    "y = -np.linspace(0,2,5, endpoint=True)\n",
    "tp_sl = DOUBLE_MULTIPLIER.run(mstd_ind.mstd, x, y, param_product=True, short_name=\"tp_sl\")"
   ]
  },
  {
   "cell_type": "code",
   "execution_count": null,
   "metadata": {
    "pycharm": {
     "name": "#%%\n"
    }
   },
   "outputs": [],
   "source": [
    "tp_exits = lr_ind.lr_above(tp_sl.x_mu)\n",
    "sl_exits = lr_ind.lr_below(tp_sl.y_mu)\n",
    "final_exits = tp_exits.vbt | sl_exits.vbt\n",
    "final_exits.columns = final_exits.columns.rename(\"lag\", level=-1)\n",
    "final_exits.head()"
   ]
  },
  {
   "cell_type": "code",
   "execution_count": null,
   "metadata": {
    "pycharm": {
     "name": "#%%\n"
    }
   },
   "outputs": [],
   "source": []
  },
  {
   "cell_type": "code",
   "execution_count": null,
   "metadata": {
    "pycharm": {
     "name": "#%%\n"
    }
   },
   "outputs": [],
   "source": [
    "lag = 2\n",
    "p = math.e ** np.array([[5],[6],[6],[3],[2],[4],[7],[8],[6],[5],[4]])\n",
    "v = np.array([[5.],[6.],[6.],[3.],[2.],[4.],[7.],[8.],[6.],[5.],[4.]])\n",
    "e_ln = np.log(p)\n",
    "e_lr = np.array([[np.nan],[1],[0],[-3],[-1],[2],[3],[1],[-2],[-1],[-1]])\n",
    "e_shifted_lr = np.array([[np.nan],[np.nan],[1],[0],[-3],[-1],[2],[3],[1],[-2], [-1]])\n",
    "e_lr_ma = np.array([[np.nan], [np.nan],[np.nan],[ 1/2], [-3/2], [-2],[ 1/2],[ 5/2], [2], [-1/2], [-3/2]])\n",
    "e_lr_mstd = np.array([[np.nan], [np.nan],[np.nan], [0.5], [1.5], [1. ], [1.5], [0.5], [1. ], [1.5], [0.5]])\n",
    "lr = LR.run(p).lr.to_numpy()\n",
    "shifted_lr = shift_np(lr, 1)\n",
    "shifted_vol = shift_np(v, 1)\n",
    "e_vol_mstd = np.array([[np.nan], [np.nan], [0.5], [0. ], [1.5], [0.5], [1. ], [1.5], [0.5], [1. ], [0.5]])\n",
    "lr_ma, lr_mstd, vol_mstd = ma_mstd(shifted_lr, shifted_vol, 2)\n",
    "assert (np.isclose(lr, e_lr, equal_nan=True).all())\n",
    "assert (np.isclose(shifted_lr, e_shifted_lr, equal_nan=True).all())\n",
    "assert (np.isclose(lr_ma, e_lr_ma, equal_nan=True).all())\n",
    "assert (np.isclose(lr_mstd, e_lr_mstd, equal_nan=True).all())\n",
    "assert (np.isclose(vol_mstd, e_vol_mstd, equal_nan=True).all())\n",
    "\n",
    "thld = -2\n",
    "e_lr_entries = e_lr < e_lr_ma + thld * e_lr_mstd\n",
    "e_lr_exits = e_lr > e_lr_ma - thld * e_lr_mstd\n",
    "e_vol_entries = v > -thld * vol_mstd\n",
    "e_final_entries = e_lr_entries & e_vol_entries\n",
    "_, _, lr_entries, lr_exits, _, vol_entries = signal_calculations(lr, lr_ma, lr_mstd, v, vol_mstd, thld, -thld)\n",
    "final_entries,_ = signals_nb(lr, shifted_lr, v, shifted_vol, thld, thld, lag)\n",
    "assert (np.array_equal(lr_entries, e_lr_entries))\n",
    "assert (np.array_equal(lr_exits, e_lr_exits))\n",
    "assert (np.array_equal(vol_entries, e_vol_entries))\n",
    "assert (np.array_equal(final_entries, e_final_entries))\n",
    "\n",
    "e_all_signals_in_ones = np.array([[np.nan],[np.nan],[np.nan],[1],[np.nan],[-1],[np.nan],[1],[1],[np.nan],[np.nan]])\n",
    "all_signals_in_ones = signals_to_ones(final_entries, lr_exits, columns=[(lag, thld)])\n",
    "assert (np.array_equal(all_signals_in_ones, e_all_signals_in_ones, equal_nan=True))\n",
    "\n",
    "e_trade_count = 1\n",
    "e_positive_return = 1\n",
    "e_avg_lr = math.log(math.e**4/math.e**3)\n",
    "avg_lr = k_mean(\"\", all_signals_in_ones.to_numpy().flatten(), p.flatten())\n",
    "positive_return = positive_return_prob(\"\", all_signals_in_ones.to_numpy().flatten(), p.flatten(), fee)\n",
    "trade_count = trades_count(\"\", all_signals_in_ones.to_numpy().flatten())\n",
    "assert (avg_lr == e_avg_lr)\n",
    "assert (positive_return == e_positive_return)\n",
    "assert (trade_count == e_trade_count)"
   ]
  },
  {
   "cell_type": "code",
   "execution_count": null,
   "metadata": {
    "pycharm": {
     "name": "#%%\n"
    }
   },
   "outputs": [],
   "source": []
  }
 ],
 "metadata": {
  "kernelspec": {
   "display_name": "Python 3",
   "language": "python",
   "name": "python3"
  },
  "language_info": {
   "codemirror_mode": {
    "name": "ipython",
    "version": 3
   },
   "file_extension": ".py",
   "mimetype": "text/x-python",
   "name": "python",
   "nbconvert_exporter": "python",
   "pygments_lexer": "ipython3",
   "version": "3.7.9"
  }
 },
 "nbformat": 4,
 "nbformat_minor": 1
}