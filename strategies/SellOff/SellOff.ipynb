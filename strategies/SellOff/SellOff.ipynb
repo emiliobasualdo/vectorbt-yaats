{
 "cells": [
  {
   "cell_type": "code",
   "execution_count": 1,
   "outputs": [],
   "source": [
    "import vectorbt as vbt\n",
    "import os\n",
    "import sys\n",
    "import numpy as np\n",
    "import pandas as pd\n",
    "from numba import njit\n",
    "from plotly.subplots import make_subplots\n",
    "\n",
    "from strategies.SellOff.SellOff import create_portfolio, plots_from_portfolio\n",
    "\n",
    "module_path = os.path.abspath(os.path.join('../..'))\n",
    "if module_path not in sys.path:\n",
    "    sys.path.append(module_path)\n",
    "\n",
    "from lib.utils import where_true_set_series"
   ],
   "metadata": {
    "collapsed": false,
    "pycharm": {
     "name": "#%%\n"
    }
   }
  },
  {
   "cell_type": "code",
   "execution_count": null,
   "metadata": {
    "pycharm": {
     "name": "#%%\n"
    }
   },
   "outputs": [],
   "source": [
    "#vbt.settings.caching['enabled'] = False\n",
    "symbol = \"ADA\"\n",
    "candles = \"_25000\"\n",
    "file = f\"/Users/pilo/development/itba/pf/Binance_Minute_OHLC_CSVs/{candles[1:]}/Binance_{symbol}USDT_minute{candles}.csv\"\n",
    "\n",
    "lr_thld = -np.linspace(0, 3, 30, endpoint=True)\n",
    "vol_thld = np.linspace(0, 4, 30, endpoint=True)\n",
    "lag = list(range(6, 100, 2))\n",
    "\n",
    "fee = 0.001\n",
    "\n",
    "port = create_portfolio(file, fee, lr_thld, vol_thld, lag)"
   ]
  },
  {
   "cell_type": "code",
   "execution_count": null,
   "outputs": [],
   "source": [
    "min_trades = 500\n",
    "min_lr = 0.0\n",
    "parameters_to_save = {\n",
    "    \"lr_thld\": f\"[{lr_thld[0]},{lr_thld[-1]}]\",\n",
    "    \"vol_thld\": f\"[{vol_thld[0]},{vol_thld[-1]}]\",\n",
    "    \"lag\": f\"[{lag[0]},{lag[-1]}]\",\n",
    "    \"fee\": fee,\n",
    "    \"min_trades\":min_trades,\n",
    "    \"min_lr = 0.0\": min_lr\n",
    "}\n",
    "save_dir = f\"{symbol}{candles}\"\n",
    "plots_from_portfolio(port, min_trades=min_trades, min_lr=min_lr, save_dir=save_dir, parameters_to_save=parameters_to_save)\n"
   ],
   "metadata": {
    "collapsed": false,
    "pycharm": {
     "name": "#%%\n"
    }
   }
  },
  {
   "cell_type": "code",
   "execution_count": null,
   "metadata": {
    "pycharm": {
     "name": "#%%\n"
    }
   },
   "outputs": [],
   "source": [
    "best_indexes = entry_exit_prob_avg.nlargest(20, keep=\"all\")\n",
    "\n",
    "# graficamos con el mejor de los resultados de la optimización\n",
    "best_idx = best_indexes[-1]\n",
    "best_lr_thld, best_vol_thld, best_lag = best_idx"
   ]
  },
  {
   "cell_type": "code",
   "execution_count": null,
   "metadata": {
    "pycharm": {
     "name": "#%%\n"
    }
   },
   "outputs": [],
   "source": [
    "# recalculamos algunas cosas para graficar y entender lo que está pasando\n",
    "ups, downs, lr_entries, lr_exits, vol_thld_std, vol_entries = signal_calculations(\n",
    "    lr_ind.lr.to_numpy(),\n",
    "    ma_mstd.lr_ma[best_lag].to_numpy(),\n",
    "    ma_mstd.lr_mstd[best_lag].to_numpy(),\n",
    "    volume.to_numpy(),\n",
    "    ma_mstd.vol_mstd[best_lag].to_numpy(),\n",
    "    best_lr_thld,\n",
    "    best_vol_thld)"
   ]
  },
  {
   "cell_type": "code",
   "execution_count": null,
   "metadata": {
    "pycharm": {
     "name": "#%%\n"
    }
   },
   "outputs": [],
   "source": [
    "def plot_series_vs_scatters(series_list: list, booleans_list):\n",
    "    index = None\n",
    "    series = series_list.pop(0)\n",
    "    fig = series.vbt.plot()\n",
    "    while len(series_list):\n",
    "        series = series_list.pop(0)\n",
    "        if not isinstance(series, pd.Series):\n",
    "            series = pd.Series(series, index=index, copy=True)\n",
    "        elif index is None:\n",
    "            index = series.index\n",
    "        series.vbt.plot(fig=fig)\n",
    "    i = 1\n",
    "    for scatter in booleans_list:\n",
    "        if not isinstance(scatter, pd.Series):\n",
    "            scatter = pd.Series(scatter, index=index, copy=True)\n",
    "        elif index is None:\n",
    "            index = series.index\n",
    "        scatter = where_true_set_series(series, scatter)\n",
    "        scatter.name = i\n",
    "        i += 1\n",
    "        fig = scatter.vbt.scatterplot(fig=fig)\n",
    "    return fig\n",
    "\n",
    "entries = signals.entries[best_idx]\n",
    "plot_series_vs_scatters([lr_ind.lr, downs], []).show()"
   ]
  },
  {
   "cell_type": "code",
   "execution_count": null,
   "metadata": {
    "pycharm": {
     "name": "#%%\n"
    }
   },
   "outputs": [],
   "source": [
    "plots = [\n",
    "    plot_series_vs_scatters([lr_ind.lr, downs.T], []) #, downs, ups], [lr_entries, lr_exits]),\n",
    "    #plot_series_vs_scatters([volume, vol_thld_std], [vol_entries]),\n",
    "    #(entries.where(entries == True, np.nan)).vbt.scatterplot()\n",
    "]"
   ]
  },
  {
   "cell_type": "code",
   "execution_count": null,
   "metadata": {
    "pycharm": {
     "name": "#%%\n"
    }
   },
   "outputs": [],
   "source": [
    "def add_all_subplots(fig, row, col, list):\n",
    "    for a in list:\n",
    "        fig.add_trace(a, row=row, col=col)\n",
    "\n",
    "fig = make_subplots(rows=3, cols=1, shared_xaxes=True,\n",
    "                    vertical_spacing=0.02)\n",
    "for i in range(len(plots)):\n",
    "    add_all_subplots(fig, i+1, 1, plots[i].data)\n",
    "\n",
    "fig.update_layout(height=700, legend=dict(\n",
    "    orientation=\"h\",\n",
    "    yanchor=\"bottom\",\n",
    "    y=1.02,\n",
    "    xanchor=\"right\",\n",
    "    x=1\n",
    "))\n",
    "fig.show()"
   ]
  },
  {
   "cell_type": "code",
   "execution_count": null,
   "metadata": {
    "pycharm": {
     "name": "#%%\n"
    }
   },
   "outputs": [],
   "source": [
    "@njit\n",
    "def double_multiplier_nb(values, x, y):\n",
    "    return values*x, values*y\n",
    "\n",
    "DOUBLE_MULTIPLIER = vbt.IndicatorFactory(\n",
    "    input_names=['values'],\n",
    "    param_names=['x', 'y'],\n",
    "    output_names=['x_mu','y_mu']\n",
    ").from_apply_func(double_multiplier_nb)\n",
    "x = np.linspace(0,2,5, endpoint=True)\n",
    "y = -np.linspace(0,2,5, endpoint=True)\n",
    "tp_sl = DOUBLE_MULTIPLIER.run(mstd_ind.mstd, x, y, param_product=True, short_name=\"tp_sl\")"
   ]
  },
  {
   "cell_type": "code",
   "execution_count": null,
   "metadata": {
    "pycharm": {
     "name": "#%%\n"
    }
   },
   "outputs": [],
   "source": [
    "tp_exits = lr_ind.lr_above(tp_sl.x_mu)\n",
    "sl_exits = lr_ind.lr_below(tp_sl.y_mu)\n",
    "final_exits = tp_exits.vbt | sl_exits.vbt\n",
    "final_exits.columns = final_exits.columns.rename(\"lag\", level=-1)\n",
    "final_exits.head()\n"
   ]
  },
  {
   "cell_type": "code",
   "execution_count": null,
   "outputs": [],
   "source": [],
   "metadata": {
    "collapsed": false,
    "pycharm": {
     "name": "#%%\n"
    }
   }
  }
 ],
 "metadata": {
  "kernelspec": {
   "display_name": "Python 3",
   "language": "python",
   "name": "python3"
  },
  "language_info": {
   "codemirror_mode": {
    "name": "ipython",
    "version": 3
   },
   "file_extension": ".py",
   "mimetype": "text/x-python",
   "name": "python",
   "nbconvert_exporter": "python",
   "pygments_lexer": "ipython3",
   "version": "3.7.9"
  }
 },
 "nbformat": 4,
 "nbformat_minor": 1
}