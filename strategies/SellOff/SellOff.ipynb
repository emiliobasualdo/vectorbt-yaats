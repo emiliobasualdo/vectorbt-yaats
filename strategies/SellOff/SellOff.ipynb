{
 "cells": [
  {
   "cell_type": "code",
   "execution_count": 1,
   "metadata": {
    "pycharm": {
     "name": "#%%\n"
    }
   },
   "outputs": [],
   "source": [
    "import vectorbt as vbt\n",
    "import os\n",
    "import sys\n",
    "import numpy as np\n",
    "import pandas as pd\n",
    "from numba import njit\n",
    "from plotly.subplots import make_subplots\n",
    "\n",
    "from strategies.SellOff.SellOff import simulate_lrs, ENTRY_SIGNALS\n",
    "\n",
    "module_path = os.path.abspath(os.path.join('../..'))\n",
    "if module_path not in sys.path:\n",
    "    sys.path.append(module_path)\n",
    "\n",
    "from lib.utils import where_true_set_series, ohlcv_csv_to_df, LR, shift_np"
   ]
  },
  {
   "cell_type": "code",
   "execution_count": 2,
   "metadata": {
    "pycharm": {
     "name": "#%%\n"
    }
   },
   "outputs": [],
   "source": [
    "file = f\"/Users/pilo/development/itba/pf/Binance_Minute_OHLC_CSVs/270000/Binance_ADAUSDT_minute.csv\"\n",
    "_, ohlcv = ohlcv_csv_to_df(file)\n",
    "# Tomamos el close como precio.\n",
    "close = ohlcv[\"Close\"]\n",
    "volume = ohlcv[\"Volume\"]\n",
    "del ohlcv\n",
    "\n",
    "portfolio_kwargs = dict(\n",
    "    direction='longonly',  # Solo long, no se shortea\n",
    "    freq='m',\n",
    "    size=np.inf,  # Se compra y vende toda la caja en cada operación.\n",
    "    fees=0.001,\n",
    "    max_logs=0,\n",
    ")\n",
    "thlds = np.linspace(0.5, 1.5, 3, endpoint=True)\n",
    "lag = 10\n",
    "\n",
    "lr_ind = LR.run(close)\n",
    "\n",
    "# multi-procesamos\n",
    "shifted_lr=shift_np(lr_ind.lr.to_numpy(), 1)\n",
    "shifted_vol=shift_np(volume.to_numpy(), 1)"
   ]
  },
  {
   "cell_type": "code",
   "execution_count": 3,
   "outputs": [],
   "source": [
    "resps = {}\n",
    "for thld in thlds:\n",
    "    resps[thld] = ENTRY_SIGNALS.run(lr=lr_ind.lr, shifted_lr=shifted_lr,\n",
    "                                vol=volume, shifted_vol=shifted_vol,\n",
    "                                lag=lag, lr_thld=-thld, vol_thld=thld,\n",
    "                                short_name=\"signals\")"
   ],
   "metadata": {
    "collapsed": false,
    "pycharm": {
     "name": "#%%\n"
    }
   }
  },
  {
   "cell_type": "code",
   "execution_count": 4,
   "metadata": {
    "pycharm": {
     "name": "#%%\n"
    }
   },
   "outputs": [],
   "source": [
    "def plot_series_vs_scatters(series_list: list, booleans_list):\n",
    "    index = None\n",
    "    series = series_list.pop(0)\n",
    "    fig = series.vbt.plot()\n",
    "    while len(series_list):\n",
    "        series = series_list.pop(0)\n",
    "        if not isinstance(series, pd.Series):\n",
    "            series = pd.Series(series, index=index, copy=True)\n",
    "        elif index is None:\n",
    "            index = series.index\n",
    "        series.vbt.plot(fig=fig)\n",
    "    i = 1\n",
    "    for scatter in booleans_list:\n",
    "        if not isinstance(scatter, pd.Series):\n",
    "            scatter = pd.Series(scatter, index=index, copy=True)\n",
    "        elif index is None:\n",
    "            index = series.index\n",
    "        scatter = where_true_set_series(series, scatter)\n",
    "        scatter.name = i\n",
    "        i += 1\n",
    "        fig = scatter.vbt.scatterplot(fig=fig)\n",
    "    return fig"
   ]
  },
  {
   "cell_type": "code",
   "execution_count": 5,
   "outputs": [],
   "source": [
    "for k, signals in resps.items():\n",
    "    firsts = 5000\n",
    "    plot_series_vs_scatters(\n",
    "        [lr_ind.lr.head(firsts)],\n",
    "        [signals.entries.head(firsts), signals.exits.head(firsts)]\n",
    "    ).write_html(f\"/Users/pilo/development/itba/pf/vectorbt-yaats/strategies/SellOff/plots/{k}.html\")"
   ],
   "metadata": {
    "collapsed": false,
    "pycharm": {
     "name": "#%%\n"
    }
   }
  },
  {
   "cell_type": "code",
   "execution_count": null,
   "outputs": [],
   "source": [],
   "metadata": {
    "collapsed": false,
    "pycharm": {
     "name": "#%%\n"
    }
   }
  }
 ],
 "metadata": {
  "kernelspec": {
   "display_name": "Python 3",
   "language": "python",
   "name": "python3"
  },
  "language_info": {
   "codemirror_mode": {
    "name": "ipython",
    "version": 3
   },
   "file_extension": ".py",
   "mimetype": "text/x-python",
   "name": "python",
   "nbconvert_exporter": "python",
   "pygments_lexer": "ipython3",
   "version": "3.7.9"
  }
 },
 "nbformat": 4,
 "nbformat_minor": 1
}