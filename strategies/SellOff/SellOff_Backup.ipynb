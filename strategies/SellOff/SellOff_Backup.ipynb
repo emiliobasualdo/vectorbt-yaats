{
 "cells": [
  {
   "cell_type": "code",
   "execution_count": 1,
   "metadata": {
    "pycharm": {
     "name": "#%%\n"
    }
   },
   "outputs": [],
   "source": [
    "import itertools\n",
    "import os\n",
    "import sys\n",
    "from itertools import combinations_with_replacement\n",
    "from math import e\n",
    "import gc\n",
    "\n",
    "import numpy as np\n",
    "import pandas as pd\n",
    "from numba import njit\n",
    "from plotly.subplots import make_subplots\n",
    "from vectorbt.indicators import nb\n",
    "module_path = os.path.abspath(os.path.join('../..'))\n",
    "if module_path not in sys.path:\n",
    "    sys.path.append(module_path)\n",
    "import vectorbt as vbt\n",
    "from lib.utils import file_to_data_frame, LR, ExtendedPortfolio, plot_series_vs_scatters, dropnaninf, get_best_index"
   ]
  },
  {
   "cell_type": "code",
   "execution_count": 2,
   "metadata": {
    "pycharm": {
     "name": "#%%\n"
    }
   },
   "outputs": [
    {
     "data": {
      "text/plain": "                         Open      High       Low     Close  Volume BTC  \\\ndate                                                                      \n2021-03-16 22:08:00  56669.99  56700.00  56666.32  56676.18   44.050583   \n2021-03-16 22:09:00  56676.18  56713.70  56624.73  56699.99   47.402111   \n2021-03-16 22:10:00  56699.99  56740.57  56680.69  56732.66   60.198143   \n2021-03-16 22:11:00  56732.66  56739.83  56658.45  56700.00   47.334721   \n2021-03-16 22:12:00  56700.01  56751.50  56700.00  56748.48   27.110728   \n\n                           Volume  Tradecount  \ndate                                           \n2021-03-16 22:08:00  2.497137e+06        1532  \n2021-03-16 22:09:00  2.686370e+06        1380  \n2021-03-16 22:10:00  3.413590e+06        1476  \n2021-03-16 22:11:00  2.683621e+06        1329  \n2021-03-16 22:12:00  1.538395e+06        1107  ",
      "text/html": "<div>\n<style scoped>\n    .dataframe tbody tr th:only-of-type {\n        vertical-align: middle;\n    }\n\n    .dataframe tbody tr th {\n        vertical-align: top;\n    }\n\n    .dataframe thead th {\n        text-align: right;\n    }\n</style>\n<table border=\"1\" class=\"dataframe\">\n  <thead>\n    <tr style=\"text-align: right;\">\n      <th></th>\n      <th>Open</th>\n      <th>High</th>\n      <th>Low</th>\n      <th>Close</th>\n      <th>Volume BTC</th>\n      <th>Volume</th>\n      <th>Tradecount</th>\n    </tr>\n    <tr>\n      <th>date</th>\n      <th></th>\n      <th></th>\n      <th></th>\n      <th></th>\n      <th></th>\n      <th></th>\n      <th></th>\n    </tr>\n  </thead>\n  <tbody>\n    <tr>\n      <th>2021-03-16 22:08:00</th>\n      <td>56669.99</td>\n      <td>56700.00</td>\n      <td>56666.32</td>\n      <td>56676.18</td>\n      <td>44.050583</td>\n      <td>2.497137e+06</td>\n      <td>1532</td>\n    </tr>\n    <tr>\n      <th>2021-03-16 22:09:00</th>\n      <td>56676.18</td>\n      <td>56713.70</td>\n      <td>56624.73</td>\n      <td>56699.99</td>\n      <td>47.402111</td>\n      <td>2.686370e+06</td>\n      <td>1380</td>\n    </tr>\n    <tr>\n      <th>2021-03-16 22:10:00</th>\n      <td>56699.99</td>\n      <td>56740.57</td>\n      <td>56680.69</td>\n      <td>56732.66</td>\n      <td>60.198143</td>\n      <td>3.413590e+06</td>\n      <td>1476</td>\n    </tr>\n    <tr>\n      <th>2021-03-16 22:11:00</th>\n      <td>56732.66</td>\n      <td>56739.83</td>\n      <td>56658.45</td>\n      <td>56700.00</td>\n      <td>47.334721</td>\n      <td>2.683621e+06</td>\n      <td>1329</td>\n    </tr>\n    <tr>\n      <th>2021-03-16 22:12:00</th>\n      <td>56700.01</td>\n      <td>56751.50</td>\n      <td>56700.00</td>\n      <td>56748.48</td>\n      <td>27.110728</td>\n      <td>1.538395e+06</td>\n      <td>1107</td>\n    </tr>\n  </tbody>\n</table>\n</div>"
     },
     "execution_count": 2,
     "metadata": {},
     "output_type": "execute_result"
    }
   ],
   "source": [
    "file = \"/Users/pilo/development/itba/pf/Binance_Minute_OHLC_CSVs/shorts/Binance_BTCUSDT_minute_3000.csv\"\n",
    "_, ohlcv = file_to_data_frame(file)\n",
    "ohlcv. head()"
   ]
  },
  {
   "cell_type": "code",
   "execution_count": 3,
   "metadata": {
    "pycharm": {
     "name": "#%%\n"
    }
   },
   "outputs": [
    {
     "name": "stdout",
     "output_type": "stream",
     "text": [
      "(2999,)\n"
     ]
    }
   ],
   "source": [
    "close = ohlcv[\"Close\"]\n",
    "volume = ohlcv[\"Volume\"]\n",
    "lr_ind = LR.run(close)\n",
    "print(lr_ind.lr.shape)"
   ]
  },
  {
   "cell_type": "code",
   "execution_count": 4,
   "metadata": {
    "pycharm": {
     "name": "#%%\n"
    }
   },
   "outputs": [],
   "source": [
    "lag = list(range(10,12))\n",
    "ma_ind = vbt.MA.run(lr_ind.lr, lag, short_name=\"lr_ma\")\n",
    "mstd_ind = vbt.MSTD.run(lr_ind.lr, lag)"
   ]
  },
  {
   "cell_type": "code",
   "execution_count": 5,
   "metadata": {
    "pycharm": {
     "name": "#%%\n"
    }
   },
   "outputs": [
    {
     "data": {
      "text/plain": "pitfalls_mu_thld    -0.000000     -0.388889     -0.777778     -1.166667      \\\nmstd_window                10  11        10  11        10  11        10  11   \ndate                                                                          \n2021-03-16 22:08:00       NaN NaN       NaN NaN       NaN NaN       NaN NaN   \n2021-03-16 22:09:00       NaN NaN       NaN NaN       NaN NaN       NaN NaN   \n2021-03-16 22:10:00       NaN NaN       NaN NaN       NaN NaN       NaN NaN   \n2021-03-16 22:11:00       NaN NaN       NaN NaN       NaN NaN       NaN NaN   \n2021-03-16 22:12:00       NaN NaN       NaN NaN       NaN NaN       NaN NaN   \n\npitfalls_mu_thld    -1.555556     -1.944444     -2.333333     -2.722222      \\\nmstd_window                10  11        10  11        10  11        10  11   \ndate                                                                          \n2021-03-16 22:08:00       NaN NaN       NaN NaN       NaN NaN       NaN NaN   \n2021-03-16 22:09:00       NaN NaN       NaN NaN       NaN NaN       NaN NaN   \n2021-03-16 22:10:00       NaN NaN       NaN NaN       NaN NaN       NaN NaN   \n2021-03-16 22:11:00       NaN NaN       NaN NaN       NaN NaN       NaN NaN   \n2021-03-16 22:12:00       NaN NaN       NaN NaN       NaN NaN       NaN NaN   \n\npitfalls_mu_thld    -3.111111     -3.500000      \nmstd_window                10  11        10  11  \ndate                                             \n2021-03-16 22:08:00       NaN NaN       NaN NaN  \n2021-03-16 22:09:00       NaN NaN       NaN NaN  \n2021-03-16 22:10:00       NaN NaN       NaN NaN  \n2021-03-16 22:11:00       NaN NaN       NaN NaN  \n2021-03-16 22:12:00       NaN NaN       NaN NaN  ",
      "text/html": "<div>\n<style scoped>\n    .dataframe tbody tr th:only-of-type {\n        vertical-align: middle;\n    }\n\n    .dataframe tbody tr th {\n        vertical-align: top;\n    }\n\n    .dataframe thead tr th {\n        text-align: left;\n    }\n\n    .dataframe thead tr:last-of-type th {\n        text-align: right;\n    }\n</style>\n<table border=\"1\" class=\"dataframe\">\n  <thead>\n    <tr>\n      <th>pitfalls_mu_thld</th>\n      <th colspan=\"2\" halign=\"left\">-0.000000</th>\n      <th colspan=\"2\" halign=\"left\">-0.388889</th>\n      <th colspan=\"2\" halign=\"left\">-0.777778</th>\n      <th colspan=\"2\" halign=\"left\">-1.166667</th>\n      <th colspan=\"2\" halign=\"left\">-1.555556</th>\n      <th colspan=\"2\" halign=\"left\">-1.944444</th>\n      <th colspan=\"2\" halign=\"left\">-2.333333</th>\n      <th colspan=\"2\" halign=\"left\">-2.722222</th>\n      <th colspan=\"2\" halign=\"left\">-3.111111</th>\n      <th colspan=\"2\" halign=\"left\">-3.500000</th>\n    </tr>\n    <tr>\n      <th>mstd_window</th>\n      <th>10</th>\n      <th>11</th>\n      <th>10</th>\n      <th>11</th>\n      <th>10</th>\n      <th>11</th>\n      <th>10</th>\n      <th>11</th>\n      <th>10</th>\n      <th>11</th>\n      <th>10</th>\n      <th>11</th>\n      <th>10</th>\n      <th>11</th>\n      <th>10</th>\n      <th>11</th>\n      <th>10</th>\n      <th>11</th>\n      <th>10</th>\n      <th>11</th>\n    </tr>\n    <tr>\n      <th>date</th>\n      <th></th>\n      <th></th>\n      <th></th>\n      <th></th>\n      <th></th>\n      <th></th>\n      <th></th>\n      <th></th>\n      <th></th>\n      <th></th>\n      <th></th>\n      <th></th>\n      <th></th>\n      <th></th>\n      <th></th>\n      <th></th>\n      <th></th>\n      <th></th>\n      <th></th>\n      <th></th>\n    </tr>\n  </thead>\n  <tbody>\n    <tr>\n      <th>2021-03-16 22:08:00</th>\n      <td>NaN</td>\n      <td>NaN</td>\n      <td>NaN</td>\n      <td>NaN</td>\n      <td>NaN</td>\n      <td>NaN</td>\n      <td>NaN</td>\n      <td>NaN</td>\n      <td>NaN</td>\n      <td>NaN</td>\n      <td>NaN</td>\n      <td>NaN</td>\n      <td>NaN</td>\n      <td>NaN</td>\n      <td>NaN</td>\n      <td>NaN</td>\n      <td>NaN</td>\n      <td>NaN</td>\n      <td>NaN</td>\n      <td>NaN</td>\n    </tr>\n    <tr>\n      <th>2021-03-16 22:09:00</th>\n      <td>NaN</td>\n      <td>NaN</td>\n      <td>NaN</td>\n      <td>NaN</td>\n      <td>NaN</td>\n      <td>NaN</td>\n      <td>NaN</td>\n      <td>NaN</td>\n      <td>NaN</td>\n      <td>NaN</td>\n      <td>NaN</td>\n      <td>NaN</td>\n      <td>NaN</td>\n      <td>NaN</td>\n      <td>NaN</td>\n      <td>NaN</td>\n      <td>NaN</td>\n      <td>NaN</td>\n      <td>NaN</td>\n      <td>NaN</td>\n    </tr>\n    <tr>\n      <th>2021-03-16 22:10:00</th>\n      <td>NaN</td>\n      <td>NaN</td>\n      <td>NaN</td>\n      <td>NaN</td>\n      <td>NaN</td>\n      <td>NaN</td>\n      <td>NaN</td>\n      <td>NaN</td>\n      <td>NaN</td>\n      <td>NaN</td>\n      <td>NaN</td>\n      <td>NaN</td>\n      <td>NaN</td>\n      <td>NaN</td>\n      <td>NaN</td>\n      <td>NaN</td>\n      <td>NaN</td>\n      <td>NaN</td>\n      <td>NaN</td>\n      <td>NaN</td>\n    </tr>\n    <tr>\n      <th>2021-03-16 22:11:00</th>\n      <td>NaN</td>\n      <td>NaN</td>\n      <td>NaN</td>\n      <td>NaN</td>\n      <td>NaN</td>\n      <td>NaN</td>\n      <td>NaN</td>\n      <td>NaN</td>\n      <td>NaN</td>\n      <td>NaN</td>\n      <td>NaN</td>\n      <td>NaN</td>\n      <td>NaN</td>\n      <td>NaN</td>\n      <td>NaN</td>\n      <td>NaN</td>\n      <td>NaN</td>\n      <td>NaN</td>\n      <td>NaN</td>\n      <td>NaN</td>\n    </tr>\n    <tr>\n      <th>2021-03-16 22:12:00</th>\n      <td>NaN</td>\n      <td>NaN</td>\n      <td>NaN</td>\n      <td>NaN</td>\n      <td>NaN</td>\n      <td>NaN</td>\n      <td>NaN</td>\n      <td>NaN</td>\n      <td>NaN</td>\n      <td>NaN</td>\n      <td>NaN</td>\n      <td>NaN</td>\n      <td>NaN</td>\n      <td>NaN</td>\n      <td>NaN</td>\n      <td>NaN</td>\n      <td>NaN</td>\n      <td>NaN</td>\n      <td>NaN</td>\n      <td>NaN</td>\n    </tr>\n  </tbody>\n</table>\n</div>"
     },
     "execution_count": 5,
     "metadata": {},
     "output_type": "execute_result"
    }
   ],
   "source": [
    "@njit\n",
    "def combination_nb(ma, std, thld):\n",
    "    return ma + thld * std\n",
    "\n",
    "LR_MULTIPLIER = vbt.IndicatorFactory(\n",
    "    input_names=['ma', 'std'],\n",
    "    param_names=['thld'],\n",
    "    output_names=['mu']\n",
    ").from_apply_func(combination_nb, use_ray=True)\n",
    "thld_granularity = 10\n",
    "thld = np.linspace(0,3.5, thld_granularity, endpoint=True)\n",
    "ups = LR_MULTIPLIER.run(ma_ind.ma, mstd_ind.mstd, thld=thld, short_name=\"ups_mu\")\n",
    "pitfalls = LR_MULTIPLIER.run(ma_ind.ma, mstd_ind.mstd, thld=-thld, short_name=\"pitfalls_mu\")\n",
    "pitfalls.mu.head()"
   ]
  },
  {
   "cell_type": "code",
   "execution_count": 6,
   "metadata": {
    "pycharm": {
     "name": "#%%\n"
    }
   },
   "outputs": [
    {
     "data": {
      "text/plain": "(2999, 20)"
     },
     "execution_count": 6,
     "metadata": {},
     "output_type": "execute_result"
    }
   ],
   "source": [
    "lr_entries = lr_ind.lr_below(pitfalls.mu)\n",
    "lr_exits = lr_ind.lr_above(ups.mu)\n",
    "lr_entries.shape"
   ]
  },
  {
   "cell_type": "code",
   "execution_count": 7,
   "metadata": {
    "pycharm": {
     "name": "#%%\n"
    }
   },
   "outputs": [],
   "source": [
    "@njit\n",
    "def multiplier_nb(values, m):\n",
    "    return m * values\n",
    "\n",
    "MULTIPLIER = vbt.IndicatorFactory(\n",
    "    input_names=['values'],\n",
    "    param_names=['m'],\n",
    "    output_names=['mu']\n",
    ").from_apply_func(multiplier_nb)"
   ]
  },
  {
   "cell_type": "code",
   "execution_count": 8,
   "metadata": {
    "pycharm": {
     "name": "#%%\n"
    }
   },
   "outputs": [
    {
     "name": "stdout",
     "output_type": "stream",
     "text": [
      "vol_mu_m  ma_window\n",
      "0.000000  10           2990\n",
      "          11           2989\n",
      "0.388889  10           2913\n",
      "          11           2902\n",
      "0.777778  10           1868\n",
      "          11           1857\n",
      "1.166667  10            797\n",
      "          11            790\n",
      "1.555556  10            365\n",
      "          11            366\n",
      "1.944444  10            176\n",
      "          11            187\n",
      "2.333333  10             94\n",
      "          11            101\n",
      "2.722222  10             53\n",
      "          11             54\n",
      "3.111111  10             27\n",
      "          11             29\n",
      "3.500000  10             17\n",
      "          11             19\n",
      "dtype: int64\n",
      "shape (2999, 20)\n"
     ]
    }
   ],
   "source": [
    "# Volume part:\n",
    "vol_ma = vbt.MA.run(volume, lag)\n",
    "vol_multiplier = MULTIPLIER.run(vol_ma.ma, thld, short_name=\"vol_mu\")\n",
    "vol_entries = vol_multiplier.mu_below(volume)\n",
    "print(vol_entries.sum(axis=0))\n",
    "print(\"shape\", vol_entries.shape)"
   ]
  },
  {
   "cell_type": "code",
   "execution_count": 9,
   "metadata": {
    "pycharm": {
     "name": "#%%\n"
    }
   },
   "outputs": [],
   "source": [
    "if len(lr_entries.shape) > 1:\n",
    "    lr_entries.columns = lr_entries.columns.rename(\"lag\", level=-1)\n",
    "    lr_entries.columns = lr_entries.columns.reorder_levels([-1, 0])\n",
    "    vol_entries.columns = vol_entries.columns.rename(\"lag\", level=-1)\n",
    "    vol_entries.columns = vol_entries.columns.reorder_levels([-1, 0])"
   ]
  },
  {
   "cell_type": "code",
   "execution_count": 17,
   "outputs": [
    {
     "data": {
      "text/plain": "vol_mu_m                  0.0                                          \\\nlag                        10        11        10        11        10   \npitfalls_mu_thld    -0.000000 -0.000000 -0.388889 -0.388889 -0.777778   \ndate                                                                    \n2021-03-16 22:08:00     False     False     False     False     False   \n2021-03-16 22:09:00     False     False     False     False     False   \n2021-03-16 22:10:00     False     False     False     False     False   \n2021-03-16 22:11:00     False     False     False     False     False   \n2021-03-16 22:12:00     False     False     False     False     False   \n\nvol_mu_m                                                               ...  \\\nlag                        11        10        11        10        11  ...   \npitfalls_mu_thld    -0.777778 -1.166667 -1.166667 -1.555556 -1.555556  ...   \ndate                                                                   ...   \n2021-03-16 22:08:00     False     False     False     False     False  ...   \n2021-03-16 22:09:00     False     False     False     False     False  ...   \n2021-03-16 22:10:00     False     False     False     False     False  ...   \n2021-03-16 22:11:00     False     False     False     False     False  ...   \n2021-03-16 22:12:00     False     False     False     False     False  ...   \n\nvol_mu_m                  3.5                                          \\\nlag                        10        11        10        11        10   \npitfalls_mu_thld    -1.944444 -1.944444 -2.333333 -2.333333 -2.722222   \ndate                                                                    \n2021-03-16 22:08:00     False     False     False     False     False   \n2021-03-16 22:09:00     False     False     False     False     False   \n2021-03-16 22:10:00     False     False     False     False     False   \n2021-03-16 22:11:00     False     False     False     False     False   \n2021-03-16 22:12:00     False     False     False     False     False   \n\nvol_mu_m                                                               \nlag                        11        10        11        10        11  \npitfalls_mu_thld    -2.722222 -3.111111 -3.111111 -3.500000 -3.500000  \ndate                                                                   \n2021-03-16 22:08:00     False     False     False     False     False  \n2021-03-16 22:09:00     False     False     False     False     False  \n2021-03-16 22:10:00     False     False     False     False     False  \n2021-03-16 22:11:00     False     False     False     False     False  \n2021-03-16 22:12:00     False     False     False     False     False  \n\n[5 rows x 200 columns]",
      "text/html": "<div>\n<style scoped>\n    .dataframe tbody tr th:only-of-type {\n        vertical-align: middle;\n    }\n\n    .dataframe tbody tr th {\n        vertical-align: top;\n    }\n\n    .dataframe thead tr th {\n        text-align: left;\n    }\n\n    .dataframe thead tr:last-of-type th {\n        text-align: right;\n    }\n</style>\n<table border=\"1\" class=\"dataframe\">\n  <thead>\n    <tr>\n      <th>vol_mu_m</th>\n      <th colspan=\"10\" halign=\"left\">0.0</th>\n      <th>...</th>\n      <th colspan=\"10\" halign=\"left\">3.5</th>\n    </tr>\n    <tr>\n      <th>lag</th>\n      <th>10</th>\n      <th>11</th>\n      <th>10</th>\n      <th>11</th>\n      <th>10</th>\n      <th>11</th>\n      <th>10</th>\n      <th>11</th>\n      <th>10</th>\n      <th>11</th>\n      <th>...</th>\n      <th>10</th>\n      <th>11</th>\n      <th>10</th>\n      <th>11</th>\n      <th>10</th>\n      <th>11</th>\n      <th>10</th>\n      <th>11</th>\n      <th>10</th>\n      <th>11</th>\n    </tr>\n    <tr>\n      <th>pitfalls_mu_thld</th>\n      <th>-0.000000</th>\n      <th>-0.000000</th>\n      <th>-0.388889</th>\n      <th>-0.388889</th>\n      <th>-0.777778</th>\n      <th>-0.777778</th>\n      <th>-1.166667</th>\n      <th>-1.166667</th>\n      <th>-1.555556</th>\n      <th>-1.555556</th>\n      <th>...</th>\n      <th>-1.944444</th>\n      <th>-1.944444</th>\n      <th>-2.333333</th>\n      <th>-2.333333</th>\n      <th>-2.722222</th>\n      <th>-2.722222</th>\n      <th>-3.111111</th>\n      <th>-3.111111</th>\n      <th>-3.500000</th>\n      <th>-3.500000</th>\n    </tr>\n    <tr>\n      <th>date</th>\n      <th></th>\n      <th></th>\n      <th></th>\n      <th></th>\n      <th></th>\n      <th></th>\n      <th></th>\n      <th></th>\n      <th></th>\n      <th></th>\n      <th></th>\n      <th></th>\n      <th></th>\n      <th></th>\n      <th></th>\n      <th></th>\n      <th></th>\n      <th></th>\n      <th></th>\n      <th></th>\n      <th></th>\n    </tr>\n  </thead>\n  <tbody>\n    <tr>\n      <th>2021-03-16 22:08:00</th>\n      <td>False</td>\n      <td>False</td>\n      <td>False</td>\n      <td>False</td>\n      <td>False</td>\n      <td>False</td>\n      <td>False</td>\n      <td>False</td>\n      <td>False</td>\n      <td>False</td>\n      <td>...</td>\n      <td>False</td>\n      <td>False</td>\n      <td>False</td>\n      <td>False</td>\n      <td>False</td>\n      <td>False</td>\n      <td>False</td>\n      <td>False</td>\n      <td>False</td>\n      <td>False</td>\n    </tr>\n    <tr>\n      <th>2021-03-16 22:09:00</th>\n      <td>False</td>\n      <td>False</td>\n      <td>False</td>\n      <td>False</td>\n      <td>False</td>\n      <td>False</td>\n      <td>False</td>\n      <td>False</td>\n      <td>False</td>\n      <td>False</td>\n      <td>...</td>\n      <td>False</td>\n      <td>False</td>\n      <td>False</td>\n      <td>False</td>\n      <td>False</td>\n      <td>False</td>\n      <td>False</td>\n      <td>False</td>\n      <td>False</td>\n      <td>False</td>\n    </tr>\n    <tr>\n      <th>2021-03-16 22:10:00</th>\n      <td>False</td>\n      <td>False</td>\n      <td>False</td>\n      <td>False</td>\n      <td>False</td>\n      <td>False</td>\n      <td>False</td>\n      <td>False</td>\n      <td>False</td>\n      <td>False</td>\n      <td>...</td>\n      <td>False</td>\n      <td>False</td>\n      <td>False</td>\n      <td>False</td>\n      <td>False</td>\n      <td>False</td>\n      <td>False</td>\n      <td>False</td>\n      <td>False</td>\n      <td>False</td>\n    </tr>\n    <tr>\n      <th>2021-03-16 22:11:00</th>\n      <td>False</td>\n      <td>False</td>\n      <td>False</td>\n      <td>False</td>\n      <td>False</td>\n      <td>False</td>\n      <td>False</td>\n      <td>False</td>\n      <td>False</td>\n      <td>False</td>\n      <td>...</td>\n      <td>False</td>\n      <td>False</td>\n      <td>False</td>\n      <td>False</td>\n      <td>False</td>\n      <td>False</td>\n      <td>False</td>\n      <td>False</td>\n      <td>False</td>\n      <td>False</td>\n    </tr>\n    <tr>\n      <th>2021-03-16 22:12:00</th>\n      <td>False</td>\n      <td>False</td>\n      <td>False</td>\n      <td>False</td>\n      <td>False</td>\n      <td>False</td>\n      <td>False</td>\n      <td>False</td>\n      <td>False</td>\n      <td>False</td>\n      <td>...</td>\n      <td>False</td>\n      <td>False</td>\n      <td>False</td>\n      <td>False</td>\n      <td>False</td>\n      <td>False</td>\n      <td>False</td>\n      <td>False</td>\n      <td>False</td>\n      <td>False</td>\n    </tr>\n  </tbody>\n</table>\n<p>5 rows × 200 columns</p>\n</div>"
     },
     "execution_count": 17,
     "metadata": {},
     "output_type": "execute_result"
    }
   ],
   "source": [
    "vol_col = vol_entries.columns.get_level_values(\"vol_mu_m\").unique()\n",
    "lr_col = lr_entries.columns.get_level_values(\"pitfalls_mu_thld\").unique()\n",
    "new_lr_entries= lr_entries.vbt.tile(n=len(vol_col), keys=vol_col)\n",
    "new_lr_entries.head()"
   ],
   "metadata": {
    "collapsed": false,
    "pycharm": {
     "name": "#%%\n"
    }
   }
  },
  {
   "cell_type": "code",
   "execution_count": 18,
   "outputs": [
    {
     "data": {
      "text/plain": "pitfalls_mu_thld        -0.0                                               \\\nlag                       10       11       10       11       10       11   \nvol_mu_m            0.000000 0.000000 0.388889 0.388889 0.777778 0.777778   \ndate                                                                        \n2021-03-16 22:08:00    False    False    False    False    False    False   \n2021-03-16 22:09:00    False    False    False    False    False    False   \n2021-03-16 22:10:00    False    False    False    False    False    False   \n2021-03-16 22:11:00    False    False    False    False    False    False   \n2021-03-16 22:12:00    False    False    False    False    False    False   \n2021-03-16 22:13:00    False    False    False    False    False    False   \n2021-03-16 22:14:00    False    False    False    False    False    False   \n2021-03-16 22:15:00    False    False    False    False    False    False   \n2021-03-16 22:16:00    False    False    False    False    False    False   \n2021-03-16 22:17:00     True    False     True    False    False    False   \n2021-03-16 22:18:00     True     True     True     True     True     True   \n2021-03-16 22:19:00     True     True     True     True     True     True   \n2021-03-16 22:20:00     True     True     True     True     True     True   \n2021-03-16 22:21:00     True     True     True     True     True     True   \n2021-03-16 22:22:00     True     True     True     True    False    False   \n2021-03-16 22:23:00     True     True     True     True     True     True   \n2021-03-16 22:24:00     True     True     True     True     True     True   \n2021-03-16 22:25:00     True     True     True     True     True     True   \n2021-03-16 22:26:00     True     True     True     True    False    False   \n2021-03-16 22:27:00     True     True     True     True    False    False   \n\npitfalls_mu_thld                                         ...     -3.5  \\\nlag                       10       11       10       11  ...       10   \nvol_mu_m            1.166667 1.166667 1.555556 1.555556  ... 1.944444   \ndate                                                     ...            \n2021-03-16 22:08:00    False    False    False    False  ...    False   \n2021-03-16 22:09:00    False    False    False    False  ...    False   \n2021-03-16 22:10:00    False    False    False    False  ...    False   \n2021-03-16 22:11:00    False    False    False    False  ...    False   \n2021-03-16 22:12:00    False    False    False    False  ...    False   \n2021-03-16 22:13:00    False    False    False    False  ...    False   \n2021-03-16 22:14:00    False    False    False    False  ...    False   \n2021-03-16 22:15:00    False    False    False    False  ...    False   \n2021-03-16 22:16:00    False    False    False    False  ...    False   \n2021-03-16 22:17:00    False    False    False    False  ...    False   \n2021-03-16 22:18:00    False    False    False    False  ...    False   \n2021-03-16 22:19:00    False    False    False    False  ...    False   \n2021-03-16 22:20:00    False    False    False    False  ...    False   \n2021-03-16 22:21:00    False    False    False    False  ...    False   \n2021-03-16 22:22:00    False    False    False    False  ...    False   \n2021-03-16 22:23:00     True     True    False    False  ...    False   \n2021-03-16 22:24:00     True     True     True     True  ...    False   \n2021-03-16 22:25:00     True     True     True     True  ...    False   \n2021-03-16 22:26:00    False    False    False    False  ...    False   \n2021-03-16 22:27:00    False    False    False    False  ...    False   \n\npitfalls_mu_thld                                                           \\\nlag                       11       10       11       10       11       10   \nvol_mu_m            1.944444 2.333333 2.333333 2.722222 2.722222 3.111111   \ndate                                                                        \n2021-03-16 22:08:00    False    False    False    False    False    False   \n2021-03-16 22:09:00    False    False    False    False    False    False   \n2021-03-16 22:10:00    False    False    False    False    False    False   \n2021-03-16 22:11:00    False    False    False    False    False    False   \n2021-03-16 22:12:00    False    False    False    False    False    False   \n2021-03-16 22:13:00    False    False    False    False    False    False   \n2021-03-16 22:14:00    False    False    False    False    False    False   \n2021-03-16 22:15:00    False    False    False    False    False    False   \n2021-03-16 22:16:00    False    False    False    False    False    False   \n2021-03-16 22:17:00    False    False    False    False    False    False   \n2021-03-16 22:18:00    False    False    False    False    False    False   \n2021-03-16 22:19:00    False    False    False    False    False    False   \n2021-03-16 22:20:00    False    False    False    False    False    False   \n2021-03-16 22:21:00    False    False    False    False    False    False   \n2021-03-16 22:22:00    False    False    False    False    False    False   \n2021-03-16 22:23:00    False    False    False    False    False    False   \n2021-03-16 22:24:00    False    False    False    False    False    False   \n2021-03-16 22:25:00    False    False    False    False    False    False   \n2021-03-16 22:26:00    False    False    False    False    False    False   \n2021-03-16 22:27:00    False    False    False    False    False    False   \n\npitfalls_mu_thld                                \nlag                       11       10       11  \nvol_mu_m            3.111111 3.500000 3.500000  \ndate                                            \n2021-03-16 22:08:00    False    False    False  \n2021-03-16 22:09:00    False    False    False  \n2021-03-16 22:10:00    False    False    False  \n2021-03-16 22:11:00    False    False    False  \n2021-03-16 22:12:00    False    False    False  \n2021-03-16 22:13:00    False    False    False  \n2021-03-16 22:14:00    False    False    False  \n2021-03-16 22:15:00    False    False    False  \n2021-03-16 22:16:00    False    False    False  \n2021-03-16 22:17:00    False    False    False  \n2021-03-16 22:18:00    False    False    False  \n2021-03-16 22:19:00    False    False    False  \n2021-03-16 22:20:00    False    False    False  \n2021-03-16 22:21:00    False    False    False  \n2021-03-16 22:22:00    False    False    False  \n2021-03-16 22:23:00    False    False    False  \n2021-03-16 22:24:00    False    False    False  \n2021-03-16 22:25:00    False    False    False  \n2021-03-16 22:26:00    False    False    False  \n2021-03-16 22:27:00    False    False    False  \n\n[20 rows x 200 columns]",
      "text/html": "<div>\n<style scoped>\n    .dataframe tbody tr th:only-of-type {\n        vertical-align: middle;\n    }\n\n    .dataframe tbody tr th {\n        vertical-align: top;\n    }\n\n    .dataframe thead tr th {\n        text-align: left;\n    }\n\n    .dataframe thead tr:last-of-type th {\n        text-align: right;\n    }\n</style>\n<table border=\"1\" class=\"dataframe\">\n  <thead>\n    <tr>\n      <th>pitfalls_mu_thld</th>\n      <th colspan=\"10\" halign=\"left\">-0.0</th>\n      <th>...</th>\n      <th colspan=\"10\" halign=\"left\">-3.5</th>\n    </tr>\n    <tr>\n      <th>lag</th>\n      <th>10</th>\n      <th>11</th>\n      <th>10</th>\n      <th>11</th>\n      <th>10</th>\n      <th>11</th>\n      <th>10</th>\n      <th>11</th>\n      <th>10</th>\n      <th>11</th>\n      <th>...</th>\n      <th>10</th>\n      <th>11</th>\n      <th>10</th>\n      <th>11</th>\n      <th>10</th>\n      <th>11</th>\n      <th>10</th>\n      <th>11</th>\n      <th>10</th>\n      <th>11</th>\n    </tr>\n    <tr>\n      <th>vol_mu_m</th>\n      <th>0.000000</th>\n      <th>0.000000</th>\n      <th>0.388889</th>\n      <th>0.388889</th>\n      <th>0.777778</th>\n      <th>0.777778</th>\n      <th>1.166667</th>\n      <th>1.166667</th>\n      <th>1.555556</th>\n      <th>1.555556</th>\n      <th>...</th>\n      <th>1.944444</th>\n      <th>1.944444</th>\n      <th>2.333333</th>\n      <th>2.333333</th>\n      <th>2.722222</th>\n      <th>2.722222</th>\n      <th>3.111111</th>\n      <th>3.111111</th>\n      <th>3.500000</th>\n      <th>3.500000</th>\n    </tr>\n    <tr>\n      <th>date</th>\n      <th></th>\n      <th></th>\n      <th></th>\n      <th></th>\n      <th></th>\n      <th></th>\n      <th></th>\n      <th></th>\n      <th></th>\n      <th></th>\n      <th></th>\n      <th></th>\n      <th></th>\n      <th></th>\n      <th></th>\n      <th></th>\n      <th></th>\n      <th></th>\n      <th></th>\n      <th></th>\n      <th></th>\n    </tr>\n  </thead>\n  <tbody>\n    <tr>\n      <th>2021-03-16 22:08:00</th>\n      <td>False</td>\n      <td>False</td>\n      <td>False</td>\n      <td>False</td>\n      <td>False</td>\n      <td>False</td>\n      <td>False</td>\n      <td>False</td>\n      <td>False</td>\n      <td>False</td>\n      <td>...</td>\n      <td>False</td>\n      <td>False</td>\n      <td>False</td>\n      <td>False</td>\n      <td>False</td>\n      <td>False</td>\n      <td>False</td>\n      <td>False</td>\n      <td>False</td>\n      <td>False</td>\n    </tr>\n    <tr>\n      <th>2021-03-16 22:09:00</th>\n      <td>False</td>\n      <td>False</td>\n      <td>False</td>\n      <td>False</td>\n      <td>False</td>\n      <td>False</td>\n      <td>False</td>\n      <td>False</td>\n      <td>False</td>\n      <td>False</td>\n      <td>...</td>\n      <td>False</td>\n      <td>False</td>\n      <td>False</td>\n      <td>False</td>\n      <td>False</td>\n      <td>False</td>\n      <td>False</td>\n      <td>False</td>\n      <td>False</td>\n      <td>False</td>\n    </tr>\n    <tr>\n      <th>2021-03-16 22:10:00</th>\n      <td>False</td>\n      <td>False</td>\n      <td>False</td>\n      <td>False</td>\n      <td>False</td>\n      <td>False</td>\n      <td>False</td>\n      <td>False</td>\n      <td>False</td>\n      <td>False</td>\n      <td>...</td>\n      <td>False</td>\n      <td>False</td>\n      <td>False</td>\n      <td>False</td>\n      <td>False</td>\n      <td>False</td>\n      <td>False</td>\n      <td>False</td>\n      <td>False</td>\n      <td>False</td>\n    </tr>\n    <tr>\n      <th>2021-03-16 22:11:00</th>\n      <td>False</td>\n      <td>False</td>\n      <td>False</td>\n      <td>False</td>\n      <td>False</td>\n      <td>False</td>\n      <td>False</td>\n      <td>False</td>\n      <td>False</td>\n      <td>False</td>\n      <td>...</td>\n      <td>False</td>\n      <td>False</td>\n      <td>False</td>\n      <td>False</td>\n      <td>False</td>\n      <td>False</td>\n      <td>False</td>\n      <td>False</td>\n      <td>False</td>\n      <td>False</td>\n    </tr>\n    <tr>\n      <th>2021-03-16 22:12:00</th>\n      <td>False</td>\n      <td>False</td>\n      <td>False</td>\n      <td>False</td>\n      <td>False</td>\n      <td>False</td>\n      <td>False</td>\n      <td>False</td>\n      <td>False</td>\n      <td>False</td>\n      <td>...</td>\n      <td>False</td>\n      <td>False</td>\n      <td>False</td>\n      <td>False</td>\n      <td>False</td>\n      <td>False</td>\n      <td>False</td>\n      <td>False</td>\n      <td>False</td>\n      <td>False</td>\n    </tr>\n    <tr>\n      <th>2021-03-16 22:13:00</th>\n      <td>False</td>\n      <td>False</td>\n      <td>False</td>\n      <td>False</td>\n      <td>False</td>\n      <td>False</td>\n      <td>False</td>\n      <td>False</td>\n      <td>False</td>\n      <td>False</td>\n      <td>...</td>\n      <td>False</td>\n      <td>False</td>\n      <td>False</td>\n      <td>False</td>\n      <td>False</td>\n      <td>False</td>\n      <td>False</td>\n      <td>False</td>\n      <td>False</td>\n      <td>False</td>\n    </tr>\n    <tr>\n      <th>2021-03-16 22:14:00</th>\n      <td>False</td>\n      <td>False</td>\n      <td>False</td>\n      <td>False</td>\n      <td>False</td>\n      <td>False</td>\n      <td>False</td>\n      <td>False</td>\n      <td>False</td>\n      <td>False</td>\n      <td>...</td>\n      <td>False</td>\n      <td>False</td>\n      <td>False</td>\n      <td>False</td>\n      <td>False</td>\n      <td>False</td>\n      <td>False</td>\n      <td>False</td>\n      <td>False</td>\n      <td>False</td>\n    </tr>\n    <tr>\n      <th>2021-03-16 22:15:00</th>\n      <td>False</td>\n      <td>False</td>\n      <td>False</td>\n      <td>False</td>\n      <td>False</td>\n      <td>False</td>\n      <td>False</td>\n      <td>False</td>\n      <td>False</td>\n      <td>False</td>\n      <td>...</td>\n      <td>False</td>\n      <td>False</td>\n      <td>False</td>\n      <td>False</td>\n      <td>False</td>\n      <td>False</td>\n      <td>False</td>\n      <td>False</td>\n      <td>False</td>\n      <td>False</td>\n    </tr>\n    <tr>\n      <th>2021-03-16 22:16:00</th>\n      <td>False</td>\n      <td>False</td>\n      <td>False</td>\n      <td>False</td>\n      <td>False</td>\n      <td>False</td>\n      <td>False</td>\n      <td>False</td>\n      <td>False</td>\n      <td>False</td>\n      <td>...</td>\n      <td>False</td>\n      <td>False</td>\n      <td>False</td>\n      <td>False</td>\n      <td>False</td>\n      <td>False</td>\n      <td>False</td>\n      <td>False</td>\n      <td>False</td>\n      <td>False</td>\n    </tr>\n    <tr>\n      <th>2021-03-16 22:17:00</th>\n      <td>True</td>\n      <td>False</td>\n      <td>True</td>\n      <td>False</td>\n      <td>False</td>\n      <td>False</td>\n      <td>False</td>\n      <td>False</td>\n      <td>False</td>\n      <td>False</td>\n      <td>...</td>\n      <td>False</td>\n      <td>False</td>\n      <td>False</td>\n      <td>False</td>\n      <td>False</td>\n      <td>False</td>\n      <td>False</td>\n      <td>False</td>\n      <td>False</td>\n      <td>False</td>\n    </tr>\n    <tr>\n      <th>2021-03-16 22:18:00</th>\n      <td>True</td>\n      <td>True</td>\n      <td>True</td>\n      <td>True</td>\n      <td>True</td>\n      <td>True</td>\n      <td>False</td>\n      <td>False</td>\n      <td>False</td>\n      <td>False</td>\n      <td>...</td>\n      <td>False</td>\n      <td>False</td>\n      <td>False</td>\n      <td>False</td>\n      <td>False</td>\n      <td>False</td>\n      <td>False</td>\n      <td>False</td>\n      <td>False</td>\n      <td>False</td>\n    </tr>\n    <tr>\n      <th>2021-03-16 22:19:00</th>\n      <td>True</td>\n      <td>True</td>\n      <td>True</td>\n      <td>True</td>\n      <td>True</td>\n      <td>True</td>\n      <td>False</td>\n      <td>False</td>\n      <td>False</td>\n      <td>False</td>\n      <td>...</td>\n      <td>False</td>\n      <td>False</td>\n      <td>False</td>\n      <td>False</td>\n      <td>False</td>\n      <td>False</td>\n      <td>False</td>\n      <td>False</td>\n      <td>False</td>\n      <td>False</td>\n    </tr>\n    <tr>\n      <th>2021-03-16 22:20:00</th>\n      <td>True</td>\n      <td>True</td>\n      <td>True</td>\n      <td>True</td>\n      <td>True</td>\n      <td>True</td>\n      <td>False</td>\n      <td>False</td>\n      <td>False</td>\n      <td>False</td>\n      <td>...</td>\n      <td>False</td>\n      <td>False</td>\n      <td>False</td>\n      <td>False</td>\n      <td>False</td>\n      <td>False</td>\n      <td>False</td>\n      <td>False</td>\n      <td>False</td>\n      <td>False</td>\n    </tr>\n    <tr>\n      <th>2021-03-16 22:21:00</th>\n      <td>True</td>\n      <td>True</td>\n      <td>True</td>\n      <td>True</td>\n      <td>True</td>\n      <td>True</td>\n      <td>False</td>\n      <td>False</td>\n      <td>False</td>\n      <td>False</td>\n      <td>...</td>\n      <td>False</td>\n      <td>False</td>\n      <td>False</td>\n      <td>False</td>\n      <td>False</td>\n      <td>False</td>\n      <td>False</td>\n      <td>False</td>\n      <td>False</td>\n      <td>False</td>\n    </tr>\n    <tr>\n      <th>2021-03-16 22:22:00</th>\n      <td>True</td>\n      <td>True</td>\n      <td>True</td>\n      <td>True</td>\n      <td>False</td>\n      <td>False</td>\n      <td>False</td>\n      <td>False</td>\n      <td>False</td>\n      <td>False</td>\n      <td>...</td>\n      <td>False</td>\n      <td>False</td>\n      <td>False</td>\n      <td>False</td>\n      <td>False</td>\n      <td>False</td>\n      <td>False</td>\n      <td>False</td>\n      <td>False</td>\n      <td>False</td>\n    </tr>\n    <tr>\n      <th>2021-03-16 22:23:00</th>\n      <td>True</td>\n      <td>True</td>\n      <td>True</td>\n      <td>True</td>\n      <td>True</td>\n      <td>True</td>\n      <td>True</td>\n      <td>True</td>\n      <td>False</td>\n      <td>False</td>\n      <td>...</td>\n      <td>False</td>\n      <td>False</td>\n      <td>False</td>\n      <td>False</td>\n      <td>False</td>\n      <td>False</td>\n      <td>False</td>\n      <td>False</td>\n      <td>False</td>\n      <td>False</td>\n    </tr>\n    <tr>\n      <th>2021-03-16 22:24:00</th>\n      <td>True</td>\n      <td>True</td>\n      <td>True</td>\n      <td>True</td>\n      <td>True</td>\n      <td>True</td>\n      <td>True</td>\n      <td>True</td>\n      <td>True</td>\n      <td>True</td>\n      <td>...</td>\n      <td>False</td>\n      <td>False</td>\n      <td>False</td>\n      <td>False</td>\n      <td>False</td>\n      <td>False</td>\n      <td>False</td>\n      <td>False</td>\n      <td>False</td>\n      <td>False</td>\n    </tr>\n    <tr>\n      <th>2021-03-16 22:25:00</th>\n      <td>True</td>\n      <td>True</td>\n      <td>True</td>\n      <td>True</td>\n      <td>True</td>\n      <td>True</td>\n      <td>True</td>\n      <td>True</td>\n      <td>True</td>\n      <td>True</td>\n      <td>...</td>\n      <td>False</td>\n      <td>False</td>\n      <td>False</td>\n      <td>False</td>\n      <td>False</td>\n      <td>False</td>\n      <td>False</td>\n      <td>False</td>\n      <td>False</td>\n      <td>False</td>\n    </tr>\n    <tr>\n      <th>2021-03-16 22:26:00</th>\n      <td>True</td>\n      <td>True</td>\n      <td>True</td>\n      <td>True</td>\n      <td>False</td>\n      <td>False</td>\n      <td>False</td>\n      <td>False</td>\n      <td>False</td>\n      <td>False</td>\n      <td>...</td>\n      <td>False</td>\n      <td>False</td>\n      <td>False</td>\n      <td>False</td>\n      <td>False</td>\n      <td>False</td>\n      <td>False</td>\n      <td>False</td>\n      <td>False</td>\n      <td>False</td>\n    </tr>\n    <tr>\n      <th>2021-03-16 22:27:00</th>\n      <td>True</td>\n      <td>True</td>\n      <td>True</td>\n      <td>True</td>\n      <td>False</td>\n      <td>False</td>\n      <td>False</td>\n      <td>False</td>\n      <td>False</td>\n      <td>False</td>\n      <td>...</td>\n      <td>False</td>\n      <td>False</td>\n      <td>False</td>\n      <td>False</td>\n      <td>False</td>\n      <td>False</td>\n      <td>False</td>\n      <td>False</td>\n      <td>False</td>\n      <td>False</td>\n    </tr>\n  </tbody>\n</table>\n<p>20 rows × 200 columns</p>\n</div>"
     },
     "execution_count": 18,
     "metadata": {},
     "output_type": "execute_result"
    }
   ],
   "source": [
    "new_vol_entries = vol_entries.vbt.tile(n=len(lr_col), keys=lr_col)\n",
    "new_vol_entries[:20]"
   ],
   "metadata": {
    "collapsed": false,
    "pycharm": {
     "name": "#%%\n"
    }
   }
  },
  {
   "cell_type": "code",
   "execution_count": 19,
   "outputs": [
    {
     "data": {
      "text/plain": "MultiIndex([(               0.0,                -0.0, ...),\n            (               0.0,                -0.0, ...),\n            (               0.0, -0.3888888888888889, ...),\n            (               0.0, -0.3888888888888889, ...),\n            (               0.0, -0.7777777777777778, ...),\n            (               0.0, -0.7777777777777778, ...),\n            (               0.0, -1.1666666666666667, ...),\n            (               0.0, -1.1666666666666667, ...),\n            (               0.0, -1.5555555555555556, ...),\n            (               0.0, -1.5555555555555556, ...),\n            (               0.0, -1.9444444444444444, ...),\n            (               0.0, -1.9444444444444444, ...),\n            (               0.0, -2.3333333333333335, ...),\n            (               0.0, -2.3333333333333335, ...),\n            (               0.0, -2.7222222222222223, ...),\n            (               0.0, -2.7222222222222223, ...),\n            (               0.0,  -3.111111111111111, ...),\n            (               0.0,  -3.111111111111111, ...),\n            (               0.0,                -3.5, ...),\n            (               0.0,                -3.5, ...),\n            (0.3888888888888889,                -0.0, ...),\n            (0.3888888888888889,                -0.0, ...),\n            (0.3888888888888889, -0.3888888888888889, ...),\n            (0.3888888888888889, -0.3888888888888889, ...),\n            (0.3888888888888889, -0.7777777777777778, ...),\n            (0.3888888888888889, -0.7777777777777778, ...),\n            (0.3888888888888889, -1.1666666666666667, ...),\n            (0.3888888888888889, -1.1666666666666667, ...),\n            (0.3888888888888889, -1.5555555555555556, ...),\n            (0.3888888888888889, -1.5555555555555556, ...),\n            (0.3888888888888889, -1.9444444444444444, ...),\n            (0.3888888888888889, -1.9444444444444444, ...),\n            (0.3888888888888889, -2.3333333333333335, ...),\n            (0.3888888888888889, -2.3333333333333335, ...),\n            (0.3888888888888889, -2.7222222222222223, ...),\n            (0.3888888888888889, -2.7222222222222223, ...),\n            (0.3888888888888889,  -3.111111111111111, ...),\n            (0.3888888888888889,  -3.111111111111111, ...),\n            (0.3888888888888889,                -3.5, ...),\n            (0.3888888888888889,                -3.5, ...),\n            (0.7777777777777778,                -0.0, ...),\n            (0.7777777777777778,                -0.0, ...),\n            (0.7777777777777778, -0.3888888888888889, ...),\n            (0.7777777777777778, -0.3888888888888889, ...),\n            (0.7777777777777778, -0.7777777777777778, ...),\n            (0.7777777777777778, -0.7777777777777778, ...),\n            (0.7777777777777778, -1.1666666666666667, ...),\n            (0.7777777777777778, -1.1666666666666667, ...),\n            (0.7777777777777778, -1.5555555555555556, ...),\n            (0.7777777777777778, -1.5555555555555556, ...)],\n           names=['vol_mu_m', 'pitfalls_mu_thld', 'pitfalls_mu_thld', 'lag', 'vol_mu_m'])"
     },
     "execution_count": 19,
     "metadata": {},
     "output_type": "execute_result"
    }
   ],
   "source": [
    "final_entries = new_lr_entries.vbt & new_vol_entries\n",
    "final_entries.columns[:50]"
   ],
   "metadata": {
    "collapsed": false,
    "pycharm": {
     "name": "#%%\n"
    }
   }
  },
  {
   "cell_type": "code",
   "execution_count": null,
   "outputs": [],
   "source": [
    "new_lr_exits = lr_exits.vbt.repeat(n=len(lr_col))"
   ],
   "metadata": {
    "collapsed": false,
    "pycharm": {
     "name": "#%%\n"
    }
   }
  },
  {
   "cell_type": "code",
   "execution_count": null,
   "metadata": {
    "pycharm": {
     "name": "#%%\n"
    }
   },
   "outputs": [],
   "source": [
    "int_final_entries = pd.DataFrame(np.where(final_entries == True, 1, np.nan))\n",
    "_all_signals =  pd.DataFrame(np.where(new_lr_exits == True, -1, int_final_entries), index=final_entries.index, columns=final_entries.columns)\n",
    "del int_final_entries\n",
    "_all_signals.shape"
   ]
  },
  {
   "cell_type": "code",
   "execution_count": null,
   "metadata": {
    "pycharm": {
     "name": "#%%\n"
    }
   },
   "outputs": [],
   "source": [
    "@njit\n",
    "def k_mean(col, arr, *args):\n",
    "    indexes = np.where(np.isfinite(arr))[0]\n",
    "    lr = args[0]\n",
    "    n = 1\n",
    "    adder = 0\n",
    "    counter = 0\n",
    "    while n < len(indexes):\n",
    "        i = indexes[n]\n",
    "        prev = indexes[n-1]\n",
    "        if arr[prev] == 1 and arr[i] == -1:\n",
    "            adder += np.mean(lr[prev+1:i +1])\n",
    "            counter += 1\n",
    "        n +=1\n",
    "    return adder / counter if counter != 0 else 0\n",
    "entry_exit_lr_avg = _all_signals.vbt.reduce(k_mean, lr_ind.lr.to_numpy())\n",
    "entry_exit_lr_avg.head()"
   ]
  },
  {
   "cell_type": "code",
   "execution_count": null,
   "metadata": {
    "pycharm": {
     "name": "#%%\n"
    }
   },
   "outputs": [],
   "source": [
    "entry_exit_lr_avg.vbt.volume().show()"
   ]
  },
  {
   "cell_type": "code",
   "execution_count": null,
   "metadata": {
    "pycharm": {
     "name": "#%%\n"
    }
   },
   "outputs": [],
   "source": [
    "@njit\n",
    "def double_multiplier_nb(values, x, y):\n",
    "    return values*x, values*y\n",
    "\n",
    "DOUBLE_MULTIPLIER = vbt.IndicatorFactory(\n",
    "    input_names=['values'],\n",
    "    param_names=['x', 'y'],\n",
    "    output_names=['x_mu','y_mu']\n",
    ").from_apply_func(double_multiplier_nb)\n",
    "x = np.linspace(0,2,5, endpoint=True)\n",
    "y = -np.linspace(0,2,5, endpoint=True)\n",
    "tp_sl = DOUBLE_MULTIPLIER.run(mstd_ind.mstd, x, y, param_product=True, short_name=\"tp_sl\")"
   ]
  },
  {
   "cell_type": "code",
   "execution_count": null,
   "metadata": {
    "pycharm": {
     "name": "#%%\n"
    }
   },
   "outputs": [],
   "source": [
    "tp_exits = lr_ind.lr_above(tp_sl.x_mu)\n",
    "sl_exits = lr_ind.lr_below(tp_sl.y_mu)\n",
    "final_exits = tp_exits.vbt | sl_exits.vbt\n",
    "final_exits.columns = final_exits.columns.rename(\"lag\", level=-1)\n",
    "final_exits.head()"
   ]
  },
  {
   "cell_type": "code",
   "execution_count": null,
   "metadata": {
    "pycharm": {
     "name": "#%%\n"
    }
   },
   "outputs": [],
   "source": [
    "portfolio_kwargs = dict(\n",
    "    direction='longonly',\n",
    "    freq='m',\n",
    ")\n",
    "port = ExtendedPortfolio.from_signals(close, entries=final_entries, exits=final_exits, **portfolio_kwargs, max_logs=0)"
   ]
  },
  {
   "cell_type": "code",
   "execution_count": null,
   "metadata": {
    "pycharm": {
     "name": "#%%\n"
    }
   },
   "outputs": [],
   "source": [
    "elr = port.expected_log_returns()\n",
    "top_elr = elr.nlargest(25, keep=\"all\")"
   ]
  },
  {
   "cell_type": "code",
   "execution_count": null,
   "metadata": {
    "pycharm": {
     "name": "#%%\n"
    }
   },
   "outputs": [],
   "source": [
    "sharpe = dropnaninf(port.sharpe_ratio())\n",
    "top_sharpe = sharpe.nlargest(25, keep=\"all\")"
   ]
  },
  {
   "cell_type": "code",
   "execution_count": null,
   "metadata": {
    "pycharm": {
     "name": "#%%\n"
    }
   },
   "outputs": [],
   "source": [
    "top_elr.index.intersection(top_sharpe.index)"
   ]
  },
  {
   "cell_type": "code",
   "execution_count": null,
   "metadata": {
    "pycharm": {
     "name": "#%%\n"
    }
   },
   "outputs": [],
   "source": [
    "port.stats(column=top_elr.index[0])"
   ]
  },
  {
   "cell_type": "code",
   "execution_count": null,
   "metadata": {
    "pycharm": {
     "name": "#%%\n"
    }
   },
   "outputs": [],
   "source": [
    "port.stats(column=top_sharpe.index[0])"
   ]
  },
  {
   "cell_type": "code",
   "execution_count": null,
   "metadata": {
    "pycharm": {
     "name": "#%%\n"
    }
   },
   "outputs": [],
   "source": [
    "final_entries_plot = (final_entries.where(final_entries == True, np.nan)).vbt.scatterplot()\n",
    "lr_plot = plot_series_vs_scatters([lr_ind.lr, pitfalls.mu], [lr_entries, lr_exits])\n",
    "vol_plot = plot_series_vs_scatters([vol_multiplier.mu, volume], [vol_entries])"
   ]
  },
  {
   "cell_type": "code",
   "execution_count": null,
   "metadata": {
    "pycharm": {
     "name": "#%%\n"
    }
   },
   "outputs": [],
   "source": [
    "def add_all_subplots(fig, row, col, list):\n",
    "    for a in list:\n",
    "        fig.add_trace(a, row=row, col=col)"
   ]
  },
  {
   "cell_type": "code",
   "execution_count": null,
   "metadata": {
    "pycharm": {
     "name": "#%%\n"
    }
   },
   "outputs": [],
   "source": [
    "fig = make_subplots(rows=3, cols=1, shared_xaxes=True,\n",
    "                    vertical_spacing=0.02)\n",
    "add_all_subplots(fig, 1, 1, lr_plot.data)\n",
    "add_all_subplots(fig, 2, 1, vol_plot.data)\n",
    "add_all_subplots(fig, 3, 1, final_entries_plot.data)\n",
    "fig.update_layout(height=700, legend=dict(\n",
    "    orientation=\"h\",\n",
    "    yanchor=\"bottom\",\n",
    "    y=1.02,\n",
    "    xanchor=\"right\",\n",
    "    x=1\n",
    "))\n",
    "fig.show()"
   ]
  },
  {
   "cell_type": "code",
   "execution_count": null,
   "metadata": {
    "pycharm": {
     "name": "#%%\n"
    }
   },
   "outputs": [],
   "source": []
  }
 ],
 "metadata": {
  "kernelspec": {
   "display_name": "Python 3",
   "language": "python",
   "name": "python3"
  },
  "language_info": {
   "codemirror_mode": {
    "name": "ipython",
    "version": 3
   },
   "file_extension": ".py",
   "mimetype": "text/x-python",
   "name": "python",
   "nbconvert_exporter": "python",
   "pygments_lexer": "ipython3",
   "version": "3.7.9"
  }
 },
 "nbformat": 4,
 "nbformat_minor": 1
}