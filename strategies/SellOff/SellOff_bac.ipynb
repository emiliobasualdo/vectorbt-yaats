{
 "cells": [
  {
   "cell_type": "code",
   "execution_count": 1,
   "outputs": [],
   "source": [
    "import vectorbt as vbt\n",
    "import math\n",
    "import os\n",
    "import sys\n",
    "import numpy as np\n",
    "import pandas as pd\n",
    "from numba import njit\n",
    "from plotly.subplots import make_subplots\n",
    "from vectorbt.generic import nb as generic_nb\n",
    "module_path = os.path.abspath(os.path.join('../..'))\n",
    "if module_path not in sys.path:\n",
    "    sys.path.append(module_path)\n",
    "\n",
    "from lib.utils import file_to_data_frame, LR, ExtendedPortfolio, where_true_set_series, shift_np"
   ],
   "metadata": {
    "collapsed": false,
    "pycharm": {
     "name": "#%%\n"
    }
   }
  },
  {
   "cell_type": "code",
   "execution_count": null,
   "metadata": {
    "pycharm": {
     "name": "#%%\n"
    }
   },
   "outputs": [],
   "source": [
    "#vbt.settings.caching['enabled'] = False\n",
    "symbol = \"ADA\"\n",
    "candles = \"_3000\"\n",
    "file = f\"/Users/pilo/development/itba/pf/Binance_Minute_OHLC_CSVs/{candles[1:]}/Binance_{symbol}USDT_minute{candles}.csv\"\n",
    "_, ohlcv = file_to_data_frame(file)\n",
    "\n",
    "fee = 0.001\n",
    "min_trades = 10\n",
    "min_lr = 0.0\n",
    "save_html = True\n",
    "close = ohlcv[\"Close\"]\n",
    "volume = ohlcv[\"Volume\"]\n",
    "lr_ind = LR.run(close)\n",
    "print(lr_ind.lr.shape)"
   ]
  },
  {
   "cell_type": "code",
   "execution_count": 3,
   "metadata": {
    "pycharm": {
     "name": "#%%\n"
    }
   },
   "outputs": [],
   "source": [
    "@njit\n",
    "def signal_calculations(lr, lr_ma, lr_mstd, vol, vol_mstd, lr_thld, vol_thld):\n",
    "    lr_thld_std = lr_thld * lr_mstd\n",
    "    ups = lr_ma - lr_thld_std # lr_thld < 0\n",
    "    downs = lr_ma + lr_thld_std\n",
    "    lr_entries = np.where(lr < downs, True, False)\n",
    "    lr_exits = np.where(lr > ups, True, False)\n",
    "    vol_thld_std = vol_thld * vol_mstd\n",
    "    vol_entries = np.where(vol > vol_thld_std, True, False)\n",
    "    return ups, downs, lr_entries, lr_exits, vol_thld_std, vol_entries\n",
    "\n",
    "@njit\n",
    "def ma_mstd(shifted_lr, shifted_volume, lag):\n",
    "    lr_ma = generic_nb.rolling_mean_nb(shifted_lr, lag)\n",
    "    lr_mstd = generic_nb.rolling_std_nb(shifted_lr, lag)\n",
    "    vol_mstd = generic_nb.rolling_std_nb(shifted_volume, lag)\n",
    "    return lr_ma, lr_mstd, vol_mstd\n",
    "\n",
    "@njit\n",
    "def signals_nb(lr, shifted_lr, vol, shifted_vol, lr_thld, vol_thld, lag):\n",
    "    lr_ma, lr_mstd, vol_mstd = ma_mstd(shifted_lr, shifted_vol, lag)\n",
    "    _, _, lr_entries, lr_exits, _, vol_entries = signal_calculations(lr, lr_ma, lr_mstd, vol, vol_mstd, lr_thld, vol_thld)\n",
    "    final_entries = lr_entries & vol_entries\n",
    "    return final_entries, lr_exits"
   ]
  },
  {
   "cell_type": "code",
   "execution_count": null,
   "metadata": {
    "pycharm": {
     "name": "#%%\n"
    }
   },
   "outputs": [],
   "source": [
    "ENTRY_SIGNALS = vbt.IndicatorFactory(\n",
    "    input_names=['lr', 'shifted_lr', 'vol', 'shifted_vol'],\n",
    "    param_names=['lr_thld', 'vol_thld', 'lag'],\n",
    "    output_names=['entries','exits']\n",
    ").from_apply_func(signals_nb, use_ray=True)\n",
    "lr_thld = -np.linspace(0,3, 30, endpoint=True)\n",
    "vol_thld = np.linspace(0,4, 30, endpoint=True)\n",
    "lag = list(range(6,100, 2))\n",
    "signals = ENTRY_SIGNALS.run(lr=lr_ind.lr, shifted_lr=shift_np(lr_ind.lr.to_numpy(), 1),\n",
    "                            vol=volume, shifted_vol=shift_np(volume.to_numpy(), 1),\n",
    "                            lr_thld=lr_thld, vol_thld=vol_thld, lag=lag,\n",
    "                            param_product=True, short_name=\"signals\")\n",
    "signals.entries.head()"
   ]
  },
  {
   "cell_type": "code",
   "execution_count": null,
   "metadata": {
    "pycharm": {
     "name": "#%%\n"
    }
   },
   "outputs": [],
   "source": [
    "portfolio_kwargs = dict(\n",
    "    direction='longonly',\n",
    "    freq='m',\n",
    "    size=np.inf,\n",
    "    fees=fee,\n",
    ")\n",
    "port = ExtendedPortfolio.from_signals(close, signals.entries, signals.exits, **portfolio_kwargs, max_logs=0)"
   ]
  },
  {
   "cell_type": "code",
   "execution_count": null,
   "outputs": [],
   "source": [
    "vol_plots = []"
   ],
   "metadata": {
    "collapsed": false,
    "pycharm": {
     "name": "#%%\n"
    }
   }
  },
  {
   "cell_type": "code",
   "execution_count": null,
   "metadata": {
    "pycharm": {
     "name": "#%%\n"
    }
   },
   "outputs": [],
   "source": [
    "elr = port.trades.expected_log_returns(min_trades=min_trades)\n",
    "vol_plots.append({\n",
    "    \"data\": elr[elr>0],\n",
    "    \"title\": f\"AVG(log(p_exit/p_entry * (1-fee)**2)), AVG > 0, #Trades > {min_trades}\"\n",
    "})"
   ]
  },
  {
   "cell_type": "code",
   "execution_count": null,
   "outputs": [],
   "source": [
    "elr = port.trades.expected_log_returns(min_trades=min_trades, min_lr=min_lr)\n",
    "vol_plots.append({\n",
    "    \"data\": elr[elr>0],\n",
    "    \"title\": f\"AVG(log(p_exit/p_entry * (1-fee)**2)), log(...) > 0, AVG > 0, #Trades > {min_trades}\"\n",
    "})"
   ],
   "metadata": {
    "collapsed": false,
    "pycharm": {
     "name": "#%%\n"
    }
   }
  },
  {
   "cell_type": "code",
   "execution_count": null,
   "metadata": {
    "pycharm": {
     "name": "#%%\n"
    }
   },
   "outputs": [],
   "source": [
    "mlr = port.trades.median_log_returns(min_trades=min_trades)\n",
    "vol_plots.append({\n",
    "    \"data\": mlr[mlr>0],\n",
    "    \"title\": f\"Median(log(p_exit/p_entry * (1-fee)**2)), Median > 0, #Trades > {min_trades}\"\n",
    "})"
   ]
  },
  {
   "cell_type": "code",
   "execution_count": null,
   "metadata": {
    "pycharm": {
     "name": "#%%\n"
    }
   },
   "outputs": [],
   "source": [
    "for i in range(len(vol_plots)):\n",
    "    if vol_plots[i][\"data\"].size:\n",
    "        vol_plots[i][\"data\"].vbt.volume(title=vol_plots[i][\"title\"]).show()"
   ]
  },
  {
   "cell_type": "code",
   "execution_count": null,
   "metadata": {
    "pycharm": {
     "name": "#%%\n"
    }
   },
   "outputs": [],
   "source": [
    "best_indexes = entry_exit_prob_avg.nlargest(20, keep=\"all\")\n",
    "\n",
    "# graficamos con el mejor de los resultados de la optimización\n",
    "best_idx = best_indexes[-1]\n",
    "best_lr_thld, best_vol_thld, best_lag = best_idx"
   ]
  },
  {
   "cell_type": "code",
   "execution_count": null,
   "metadata": {
    "pycharm": {
     "name": "#%%\n"
    }
   },
   "outputs": [],
   "source": [
    "# recalculamos algunas cosas para graficar y entender lo que está pasando\n",
    "ups, downs, lr_entries, lr_exits, vol_thld_std, vol_entries = signal_calculations(\n",
    "    lr_ind.lr.to_numpy(),\n",
    "    ma_mstd.lr_ma[best_lag].to_numpy(),\n",
    "    ma_mstd.lr_mstd[best_lag].to_numpy(),\n",
    "    volume.to_numpy(),\n",
    "    ma_mstd.vol_mstd[best_lag].to_numpy(),\n",
    "    best_lr_thld,\n",
    "    best_vol_thld)"
   ]
  },
  {
   "cell_type": "code",
   "execution_count": null,
   "metadata": {
    "pycharm": {
     "name": "#%%\n"
    }
   },
   "outputs": [],
   "source": [
    "def plot_series_vs_scatters(series_list: list, booleans_list):\n",
    "    index = None\n",
    "    series = series_list.pop(0)\n",
    "    fig = series.vbt.plot()\n",
    "    while len(series_list):\n",
    "        series = series_list.pop(0)\n",
    "        if not isinstance(series, pd.Series):\n",
    "            series = pd.Series(series, index=index, copy=True)\n",
    "        elif index is None:\n",
    "            index = series.index\n",
    "        series.vbt.plot(fig=fig)\n",
    "    i = 1\n",
    "    for scatter in booleans_list:\n",
    "        if not isinstance(scatter, pd.Series):\n",
    "            scatter = pd.Series(scatter, index=index, copy=True)\n",
    "        elif index is None:\n",
    "            index = series.index\n",
    "        scatter = where_true_set_series(series, scatter)\n",
    "        scatter.name = i\n",
    "        i += 1\n",
    "        fig = scatter.vbt.scatterplot(fig=fig)\n",
    "    return fig\n",
    "\n",
    "entries = signals.entries[best_idx]\n",
    "plot_series_vs_scatters([lr_ind.lr, downs], []).show()"
   ]
  },
  {
   "cell_type": "code",
   "execution_count": null,
   "metadata": {
    "pycharm": {
     "name": "#%%\n"
    }
   },
   "outputs": [],
   "source": [
    "plots = [\n",
    "    plot_series_vs_scatters([lr_ind.lr, downs.T], []) #, downs, ups], [lr_entries, lr_exits]),\n",
    "    #plot_series_vs_scatters([volume, vol_thld_std], [vol_entries]),\n",
    "    #(entries.where(entries == True, np.nan)).vbt.scatterplot()\n",
    "]"
   ]
  },
  {
   "cell_type": "code",
   "execution_count": null,
   "metadata": {
    "pycharm": {
     "name": "#%%\n"
    }
   },
   "outputs": [],
   "source": [
    "def add_all_subplots(fig, row, col, list):\n",
    "    for a in list:\n",
    "        fig.add_trace(a, row=row, col=col)\n",
    "\n",
    "fig = make_subplots(rows=3, cols=1, shared_xaxes=True,\n",
    "                    vertical_spacing=0.02)\n",
    "for i in range(len(plots)):\n",
    "    add_all_subplots(fig, i+1, 1, plots[i].data)\n",
    "\n",
    "fig.update_layout(height=700, legend=dict(\n",
    "    orientation=\"h\",\n",
    "    yanchor=\"bottom\",\n",
    "    y=1.02,\n",
    "    xanchor=\"right\",\n",
    "    x=1\n",
    "))\n",
    "fig.show()"
   ]
  },
  {
   "cell_type": "code",
   "execution_count": null,
   "metadata": {
    "pycharm": {
     "name": "#%%\n"
    }
   },
   "outputs": [],
   "source": [
    "@njit\n",
    "def double_multiplier_nb(values, x, y):\n",
    "    return values*x, values*y\n",
    "\n",
    "DOUBLE_MULTIPLIER = vbt.IndicatorFactory(\n",
    "    input_names=['values'],\n",
    "    param_names=['x', 'y'],\n",
    "    output_names=['x_mu','y_mu']\n",
    ").from_apply_func(double_multiplier_nb)\n",
    "x = np.linspace(0,2,5, endpoint=True)\n",
    "y = -np.linspace(0,2,5, endpoint=True)\n",
    "tp_sl = DOUBLE_MULTIPLIER.run(mstd_ind.mstd, x, y, param_product=True, short_name=\"tp_sl\")"
   ]
  },
  {
   "cell_type": "code",
   "execution_count": null,
   "metadata": {
    "pycharm": {
     "name": "#%%\n"
    }
   },
   "outputs": [],
   "source": [
    "tp_exits = lr_ind.lr_above(tp_sl.x_mu)\n",
    "sl_exits = lr_ind.lr_below(tp_sl.y_mu)\n",
    "final_exits = tp_exits.vbt | sl_exits.vbt\n",
    "final_exits.columns = final_exits.columns.rename(\"lag\", level=-1)\n",
    "final_exits.head()\n"
   ]
  },
  {
   "cell_type": "code",
   "execution_count": 22,
   "metadata": {
    "pycharm": {
     "name": "#%%\n"
    }
   },
   "outputs": [],
   "source": [
    "lag = 2\n",
    "p = math.e ** np.array([[5],[6],[6],[3],[2],[4],[7],[8],[6],[5],[4]])\n",
    "v = np.array([[5.],[6.],[6.],[3.],[2.],[4.],[7.],[8.],[6.],[5.],[4.]])\n",
    "e_ln = np.log(p)\n",
    "e_lr = np.array([[np.nan],[1],[0],[-3],[-1],[2],[3],[1],[-2],[-1],[-1]])\n",
    "e_shifted_lr = np.array([[np.nan],[np.nan],[1],[0],[-3],[-1],[2],[3],[1],[-2], [-1]])\n",
    "e_lr_ma = np.array([[np.nan], [np.nan],[np.nan],[ 1/2], [-3/2], [-2],[ 1/2],[ 5/2], [2], [-1/2], [-3/2]])\n",
    "e_lr_mstd = np.array([[np.nan], [np.nan],[np.nan], [0.5], [1.5], [1. ], [1.5], [0.5], [1. ], [1.5], [0.5]])\n",
    "lr = LR.run(p).lr.to_numpy()\n",
    "shifted_lr = shift_np(lr, 1)\n",
    "shifted_vol = shift_np(v, 1)\n",
    "e_vol_mstd = np.array([[np.nan], [np.nan], [0.5], [0. ], [1.5], [0.5], [1. ], [1.5], [0.5], [1. ], [0.5]])\n",
    "lr_ma, lr_mstd, vol_mstd = ma_mstd(shifted_lr, shifted_vol, 2)\n",
    "assert (np.isclose(lr, e_lr, equal_nan=True).all())\n",
    "assert (np.isclose(shifted_lr, e_shifted_lr, equal_nan=True).all())\n",
    "assert (np.isclose(lr_ma, e_lr_ma, equal_nan=True).all())\n",
    "assert (np.isclose(lr_mstd, e_lr_mstd, equal_nan=True).all())\n",
    "assert (np.isclose(vol_mstd, e_vol_mstd, equal_nan=True).all())\n",
    "\n",
    "thld = -2\n",
    "e_lr_entries = e_lr < e_lr_ma + thld * e_lr_mstd\n",
    "e_lr_exits = e_lr > e_lr_ma - thld * e_lr_mstd\n",
    "e_vol_entries = v > -thld * vol_mstd\n",
    "e_final_entries = e_lr_entries & e_vol_entries\n",
    "_, _, lr_entries, lr_exits, _, vol_entries = signal_calculations(lr, lr_ma, lr_mstd, v, vol_mstd, thld, -thld)\n",
    "final_entries, _ = signals_nb(lr, shifted_lr, v, shifted_vol, thld, thld, lag)\n",
    "assert (np.array_equal(lr_entries, e_lr_entries))\n",
    "assert (np.array_equal(lr_exits, e_lr_exits))\n",
    "assert (np.array_equal(vol_entries, e_vol_entries))\n",
    "assert (np.array_equal(final_entries, e_final_entries))\n",
    "_portfolio_kwargs = dict(\n",
    "    direction='longonly',\n",
    "    size=np.inf,\n",
    "    freq='m',\n",
    "    fees=0.001,\n",
    ")\n",
    "port = ExtendedPortfolio.from_signals(p, e_final_entries, lr_exits, **_portfolio_kwargs)\n",
    "e_elr = (np.log(1.714564 +1 ) + np.log(-0.982684 +1 )) / 2\n",
    "assert (np.isclose(e_elr, port.trades.expected_log_returns()[0], equal_nan=True))\n",
    "e_mlr = e_elr\n",
    "assert (np.isclose(e_elr, port.trades.median_log_returns()[0], equal_nan=True))\n",
    "e_filtered_elr = np.log(1.714564 +1 )\n",
    "assert (np.isclose(e_filtered_elr, port.trades.expected_log_returns(min_lr=0)[0], equal_nan=True))"
   ]
  },
  {
   "cell_type": "code",
   "execution_count": null,
   "outputs": [],
   "source": [],
   "metadata": {
    "collapsed": false,
    "pycharm": {
     "name": "#%%\n"
    }
   }
  }
 ],
 "metadata": {
  "kernelspec": {
   "display_name": "Python 3",
   "language": "python",
   "name": "python3"
  },
  "language_info": {
   "codemirror_mode": {
    "name": "ipython",
    "version": 3
   },
   "file_extension": ".py",
   "mimetype": "text/x-python",
   "name": "python",
   "nbconvert_exporter": "python",
   "pygments_lexer": "ipython3",
   "version": "3.7.9"
  }
 },
 "nbformat": 4,
 "nbformat_minor": 1
}