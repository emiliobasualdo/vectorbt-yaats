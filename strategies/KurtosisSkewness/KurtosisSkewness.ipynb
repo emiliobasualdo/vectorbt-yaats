{
 "cells": [
  {
   "cell_type": "code",
   "execution_count": null,
   "metadata": {
    "pycharm": {
     "name": "#%%\n"
    }
   },
   "outputs": [],
   "source": [
    "import gc\n",
    "import os\n",
    "import sys\n",
    "module_path = os.path.abspath(os.path.join('../..'))\n",
    "if module_path not in sys.path:\n",
    "    sys.path.append(module_path)\n",
    "import numpy as np\n",
    "import pandas as pd\n",
    "import vectorbt as vbt\n",
    "from scipy.stats import skew, kurtosis\n",
    "from numba import njit\n"
   ]
  },
  {
   "cell_type": "code",
   "execution_count": null,
   "metadata": {
    "pycharm": {
     "name": "#%%\n"
    }
   },
   "outputs": [],
   "source": [
    "portfolio_kwargs = dict(\n",
    "    direction='longonly',\n",
    "    freq='m',\n",
    ")\n",
    "# creamos el indicador para el lr y otro para el wlr\n",
    "# lo hago por separado para poder calcular el mlr\n",
    "# con data de varios activos #del mercado\n",
    "# y luego solo utiliza lr con los que me interesa\n",
    "@njit\n",
    "def skew_kurtosis_nb(close):\n",
    "    return skew(close, axis=1), kurtosis(close, axis=1)\n",
    "\n",
    "SKEW_KURT = vbt.IndicatorFactory(\n",
    "    input_names=['close'],\n",
    "    output_names=['skew', 'kurtosis']\n",
    ").from_apply_func(skew_kurtosis_nb, use_ray=True)\n",
    "\n",
    " #creamos el indicador para las bandas\n",
    "@njit\n",
    "def signals(skew, kurtosis, s_threshold, k_threshold ):\n",
    "    signal = np.where(skew >= k_threshold and kurtosis <= -s_threshold, 1, 0)\n",
    "    signal = np.where(skew <= k_threshold and kurtosis >= -s_threshold, -1, signal)\n",
    "    return signal\n",
    "\n",
    "SK_SIGNAL = vbt.IndicatorFactory(\n",
    "    input_names=['skew', 'kurtosis'],\n",
    "    param_names=['s_threshold', 'k_threshold'],\n",
    "    output_names=['signal']\n",
    ").from_apply_func(signals, use_ray=True)"
   ]
  },
  {
   "cell_type": "code",
   "execution_count": null,
   "metadata": {
    "pycharm": {
     "name": "#%%\n"
    }
   },
   "outputs": [],
   "source": []
  }
 ],
 "metadata": {
  "kernelspec": {
   "display_name": "Python 3",
   "language": "python",
   "name": "python3"
  },
  "language_info": {
   "codemirror_mode": {
    "name": "ipython",
    "version": 3
   },
   "file_extension": ".py",
   "mimetype": "text/x-python",
   "name": "python",
   "nbconvert_exporter": "python",
   "pygments_lexer": "ipython3",
   "version": "3.7.9"
  }
 },
 "nbformat": 4,
 "nbformat_minor": 1
}
