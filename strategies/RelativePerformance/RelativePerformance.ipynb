{
 "cells": [
  {
   "cell_type": "code",
   "execution_count": null,
   "metadata": {
    "pycharm": {
     "name": "#%%\n"
    }
   },
   "outputs": [],
   "source": [
    "import gc\n",
    "import os\n",
    "import sys\n",
    "module_path = os.path.abspath(os.path.join('../..'))\n",
    "if module_path not in sys.path:\n",
    "    sys.path.append(module_path)\n",
    "import numpy as np\n",
    "import pandas as pd\n",
    "import vectorbt as vbt\n",
    "from numba import njit\n",
    "from math import e\n",
    "\n",
    "from vectorbt.generic.nb import diff_nb\n",
    "from lib.utils import directory_to_data_frame_list, ExtendedPortfolio"
   ]
  },
  {
   "cell_type": "code",
   "execution_count": null,
   "metadata": {},
   "outputs": [],
   "source": [
    "current_dir = os.path.dirname(os.path.realpath(__file__))\n",
    "directory = \"/home/ec2-user/data/long/\"\n",
    "ohlcv_series_list = directory_to_data_frame_list(directory)\n",
    "# concatenamos los dfs\n",
    "names = list(map(lambda t: t[0], ohlcv_series_list))\n",
    "dfs = list(map(lambda t: t[1].get([\"Close\", \"Volume\"]), ohlcv_series_list))\n",
    "ov_df = pd.concat(dfs, axis=1, keys=names)\n",
    "# borramos las filas que tengan nan(parece que algunos pueden estar desalineados)\n",
    "ov_df.dropna(inplace=True)\n",
    "ov_df.columns.set_names([\"symbol\", \"value\"], inplace=True)\n",
    "close = ov_df.xs('Close', level='value', axis=1)\n",
    "volume = ov_df.xs('Volume', level='value', axis=1)\n",
    "del ohlcv_series_list, names, ov_df\n",
    "gc.collect()\n",
    "close.head()"
   ]
  },
  {
   "cell_type": "code",
   "execution_count": null,
   "metadata": {
    "pycharm": {
     "name": "#%%\n"
    }
   },
   "outputs": [],
   "source": [
    "# creamos el indicador para el lr y otro para el wlr\n",
    "# lo hago por separado para poder calcular el mlr\n",
    "# con data de varios activos del mercado\n",
    "# y luego solo utiliza lr con los que me interesa\n",
    "@njit\n",
    "def lr_nb(close):\n",
    "    c_log = np.log(close)\n",
    "    lr = diff_nb(c_log)\n",
    "    return lr\n",
    "\n",
    "LR = vbt.IndicatorFactory(\n",
    "    input_names=['close'],\n",
    "    output_names=['lr']\n",
    ").from_apply_func(lr_nb, use_ray=True)\n",
    "\n",
    "@njit\n",
    "def wlr_nb(volume, lr):\n",
    "    mkt_vol = volume.sum(axis=1)\n",
    "    mkt_ratio = (volume.T / mkt_vol).T\n",
    "    wrl =  lr * mkt_ratio\n",
    "    return wrl\n",
    "\n",
    "WLR = vbt.IndicatorFactory(\n",
    "    input_names=['volume', 'lr'],\n",
    "    output_names=['wlr']\n",
    ").from_apply_func(wlr_nb, use_ray=True)\n",
    "print(\"hasta acá todo joya1\")"
   ]
  },
  {
   "cell_type": "code",
   "execution_count": null,
   "metadata": {
    "pycharm": {
     "name": "#%%\n"
    }
   },
   "outputs": [],
   "source": [
    "lr_ind = LR.run(close)\n",
    "wlr_ind = WLR.run(volume, lr_ind.lr)\n",
    "mkt_lr = wlr_ind.wlr.sum(axis=1, skipna=False)"
   ]
  },
  {
   "cell_type": "code",
   "execution_count": null,
   "metadata": {
    "pycharm": {
     "name": "#%%\n"
    }
   },
   "outputs": [],
   "source": [
    "# plotear todos los assests hace un gráfico muy feo, entonces solo muestro algunos\n",
    "#fig = mkt_lr.vbt.plot(trace_names=[\"MKT_LR\"])\n",
    "#lr_ind.lr[[\"ADA\", \"BTC\"]].vbt.plot(fig=fig).show()"
   ]
  },
  {
   "cell_type": "code",
   "execution_count": null,
   "metadata": {
    "pycharm": {
     "name": "#%%\n"
    }
   },
   "outputs": [],
   "source": [
    " #creamos el indicador para las bandas\n",
    "@njit\n",
    "def mkt_band_nb(mkt_lr, upper_filter, lower_filter):\n",
    "    upper = np.where(mkt_lr >= upper_filter, mkt_lr, np.nan)\n",
    "    lower = np.where(mkt_lr <= -lower_filter, mkt_lr, np.nan)\n",
    "    return upper, lower\n",
    "\n",
    "MKT_BANDS = vbt.IndicatorFactory(\n",
    "    input_names=['mkt_lr'],\n",
    "    param_names=['upper_filter', 'lower_filter'],\n",
    "    output_names=['upper', 'lower']\n",
    ").from_apply_func(mkt_band_nb, use_ray=True)"
   ]
  },
  {
   "cell_type": "code",
   "execution_count": null,
   "metadata": {
    "pycharm": {
     "name": "#%%\n"
    }
   },
   "outputs": [],
   "source": [
    "filters = np.linspace(0.00001, 0.005, 50, endpoint=False)\n",
    "mkt_bands_ind = MKT_BANDS.run(mkt_lr=mkt_lr, upper_filter=filters , lower_filter=filters,\n",
    "                        per_column=False,\n",
    "                        param_product=True,\n",
    "                        short_name=\"mkt\")\n",
    "print(\"hasta acá todo joya2\")\n",
    "del filters"
   ]
  },
  {
   "cell_type": "code",
   "execution_count": null,
   "metadata": {
    "pycharm": {
     "name": "#%%\n"
    }
   },
   "outputs": [],
   "source": [
    "portfolio_kwargs = dict(\n",
    "    direction='longonly',\n",
    "    freq='m',\n",
    ")\n",
    "ada_lr = lr_ind.lr[\"ADA\"]\n",
    "ada_close = close[\"ADA\"]\n",
    "btc_lr = lr_ind.lr[\"BTC\"]\n",
    "btc_close = close[\"BTC\"]\n",
    "del close\n",
    "gc.collect()"
   ]
  },
  {
   "cell_type": "code",
   "execution_count": null,
   "metadata": {
    "pycharm": {
     "name": "#%%\n"
    }
   },
   "outputs": [],
   "source": [
    "print(\"hasta acá todo joya3\")\n",
    "entries =  mkt_bands_ind.upper_above(ada_lr, crossover=True)\n",
    "exits = mkt_bands_ind.lower_below(ada_lr, crossover=True)\n",
    "ada_port = ExtendedPortfolio.from_signals(ada_close, entries, exits, **portfolio_kwargs,  max_logs=0)\n",
    "del entries, exits, ada_close\n",
    "gc.collect()"
   ]
  },
  {
   "cell_type": "code",
   "execution_count": 1,
   "metadata": {},
   "outputs": [
    {
     "name": "stdout",
     "output_type": "stream",
     "text": [
      "hasta acá todo joya4\n"
     ]
    },
    {
     "ename": "NameError",
     "evalue": "name 'mkt_bands_ind' is not defined",
     "output_type": "error",
     "traceback": [
      "\u001b[0;31m---------------------------------------------------------------------------\u001b[0m",
      "\u001b[0;31mNameError\u001b[0m                                 Traceback (most recent call last)",
      "\u001b[0;32m<ipython-input-1-8fc5a5bdd4f4>\u001b[0m in \u001b[0;36m<module>\u001b[0;34m\u001b[0m\n\u001b[1;32m      1\u001b[0m \u001b[0mprint\u001b[0m\u001b[0;34m(\u001b[0m\u001b[0;34m\"hasta acá todo joya4\"\u001b[0m\u001b[0;34m)\u001b[0m\u001b[0;34m\u001b[0m\u001b[0;34m\u001b[0m\u001b[0m\n\u001b[0;32m----> 2\u001b[0;31m \u001b[0mentries\u001b[0m \u001b[0;34m=\u001b[0m  \u001b[0mmkt_bands_ind\u001b[0m\u001b[0;34m.\u001b[0m\u001b[0mupper_above\u001b[0m\u001b[0;34m(\u001b[0m\u001b[0mbtc_lr\u001b[0m\u001b[0;34m,\u001b[0m \u001b[0mcrossover\u001b[0m\u001b[0;34m=\u001b[0m\u001b[0;32mTrue\u001b[0m\u001b[0;34m)\u001b[0m\u001b[0;34m\u001b[0m\u001b[0;34m\u001b[0m\u001b[0m\n\u001b[0m\u001b[1;32m      3\u001b[0m \u001b[0mexits\u001b[0m \u001b[0;34m=\u001b[0m \u001b[0mmkt_bands_ind\u001b[0m\u001b[0;34m.\u001b[0m\u001b[0mlower_below\u001b[0m\u001b[0;34m(\u001b[0m\u001b[0mbtc_lr\u001b[0m\u001b[0;34m,\u001b[0m \u001b[0mcrossover\u001b[0m\u001b[0;34m=\u001b[0m\u001b[0;32mTrue\u001b[0m\u001b[0;34m)\u001b[0m\u001b[0;34m\u001b[0m\u001b[0;34m\u001b[0m\u001b[0m\n\u001b[1;32m      4\u001b[0m \u001b[0mbtc_port\u001b[0m \u001b[0;34m=\u001b[0m \u001b[0mExtendedPortfolio\u001b[0m\u001b[0;34m.\u001b[0m\u001b[0mfrom_signals\u001b[0m\u001b[0;34m(\u001b[0m\u001b[0mbtc_close\u001b[0m\u001b[0;34m,\u001b[0m \u001b[0mentries\u001b[0m\u001b[0;34m,\u001b[0m \u001b[0mexits\u001b[0m\u001b[0;34m,\u001b[0m \u001b[0;34m**\u001b[0m\u001b[0mportfolio_kwargs\u001b[0m\u001b[0;34m,\u001b[0m  \u001b[0mmax_logs\u001b[0m\u001b[0;34m=\u001b[0m\u001b[0;36m0\u001b[0m\u001b[0;34m)\u001b[0m\u001b[0;34m\u001b[0m\u001b[0;34m\u001b[0m\u001b[0m\n\u001b[1;32m      5\u001b[0m \u001b[0;32mdel\u001b[0m \u001b[0mentries\u001b[0m\u001b[0;34m,\u001b[0m \u001b[0mexits\u001b[0m\u001b[0;34m\u001b[0m\u001b[0;34m\u001b[0m\u001b[0m\n",
      "\u001b[0;31mNameError\u001b[0m: name 'mkt_bands_ind' is not defined"
     ]
    }
   ],
   "source": [
    "print(\"hasta acá todo joya4\")\n",
    "ada_port.expected_log_returns().vbt.heatmap(title=\"ADA's Expected Log Return\").write_html(f\"{current_dir}/ADA_exp_log_ret.html\")\n",
    "ada_port.sharpe_ratio().vbt.heatmap(title=\"ADA's Sharpe Ratio\").write_html(f\"{current_dir}/ADA_sharpe-ratio.html\")\n",
    "del ada_port\n",
    "gc.collect()"
   ]
  },
  {
   "cell_type": "code",
   "execution_count": null,
   "metadata": {
    "pycharm": {
     "name": "#%%\n"
    }
   },
   "outputs": [],
   "source": [
    "print(\"hasta acá todo joya5\")\n",
    "entries =  mkt_bands_ind.upper_above(btc_lr, crossover=True)\n",
    "exits = mkt_bands_ind.lower_below(btc_lr, crossover=True)\n",
    "btc_port = ExtendedPortfolio.from_signals(btc_close, entries, exits, **portfolio_kwargs,  max_logs=0)\n",
    "del entries, exits, btc_close\n",
    "gc.collect()"
   ]
  },
  {
   "cell_type": "code",
   "execution_count": null,
   "metadata": {
    "pycharm": {
     "name": "#%%\n"
    }
   },
   "outputs": [],
   "source": [
    "print(\"hasta acá todo joya6\")\n",
    "btc_port.expected_log_returns().vbt.heatmap(title=\"BTC's Expected Log Return\").write_html(f\"{current_dir}/BTC_exp_log_ret.html\")\n",
    "btc_port.sharpe_ratio().vbt.heatmap(title=\"BTC's Sharpe Ratio\").write_html(f\"{current_dir}/BTC_sharpe-ratio.html\")\n",
    "del btc_port\n",
    "gc.collect()"
   ]
  },
  {
   "cell_type": "code",
   "execution_count": null,
   "metadata": {
    "pycharm": {
     "name": "#%%\n"
    }
   },
   "outputs": [],
   "source": [
    "# un pequeño test para asegurarnos que todas las cuentas den\n",
    "_py = pd.DataFrame({\n",
    "    'Close': [1,e,e**2],\n",
    "    'Volume': [1,2,1]\n",
    "})\n",
    "_thon = pd.DataFrame({\n",
    "    'Close': [e**2,e,1],\n",
    "    'Volume': [1,4,10]\n",
    "})\n",
    "_test_df = pd.concat([_py,_thon], axis=1, keys=[\"Py\", \"Thon\"])\n",
    "_test_df.columns.set_names([\"asset\", \"value\"], inplace=True)\n",
    "\n",
    "close = _test_df.xs('Close', level='value', axis=1)\n",
    "volume = _test_df.xs('Volume', level='value', axis=1)\n",
    "_test_lrInd = LR.run(close)\n",
    "_test_wlrInd = WLR.run(volume, _test_lrInd.lr)\n",
    "\n",
    "exp_py_lr = np.array([np.nan, 1, 1])\n",
    "exp_thon_lr = np.array([np.nan, -1, -1])\n",
    "assert (np.allclose(exp_py_lr, _test_lrInd.lr[\"Py\"], equal_nan=True))\n",
    "assert (np.allclose(exp_thon_lr, _test_lrInd.lr[\"Thon\"], equal_nan=True))\n",
    "exp_py_vr = np.array([0.5, 1/3, 1/11])\n",
    "exp_thon_vr = np.array([0.5, 2/3, 10/11])\n",
    "exp_py_wlr = exp_py_lr * exp_py_vr\n",
    "exp_thon_wlr = exp_thon_lr * exp_thon_vr\n",
    "assert (np.allclose(exp_py_wlr, _test_wlrInd.wlr[\"Py\"], equal_nan=True))\n",
    "assert (np.allclose(exp_thon_wlr, _test_wlrInd.wlr[\"Thon\"], equal_nan=True))\n",
    "# falta testear el cálculo de mkt_lr\n",
    "_test_mkt_lr = _test_wlrInd.wlr.sum(axis=1, skipna=False)\n",
    "exp_mkt_lr = exp_py_wlr + exp_thon_wlr\n",
    "assert (np.allclose(exp_mkt_lr,_test_mkt_lr, equal_nan=True))"
   ]
  },
  {
   "cell_type": "code",
   "execution_count": null,
   "metadata": {
    "pycharm": {
     "name": "#%%\n"
    }
   },
   "outputs": [],
   "source": []
  }
 ],
 "metadata": {
  "kernelspec": {
   "display_name": "Python 3",
   "language": "python",
   "name": "python3"
  },
  "language_info": {
   "codemirror_mode": {
    "name": "ipython",
    "version": 3
   },
   "file_extension": ".py",
   "mimetype": "text/x-python",
   "name": "python",
   "nbconvert_exporter": "python",
   "pygments_lexer": "ipython3",
   "version": "3.7.9"
  }
 },
 "nbformat": 4,
 "nbformat_minor": 1
}
