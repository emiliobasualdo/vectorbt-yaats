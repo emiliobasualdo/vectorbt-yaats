{
 "cells": [
  {
   "cell_type": "code",
   "execution_count": null,
   "metadata": {
    "pycharm": {
     "name": "#%%\n"
    }
   },
   "outputs": [],
   "source": [
    "import numpy as np\n",
    "import pandas as pd\n",
    "import vectorbt as vbt\n",
    "from numba import njit\n",
    "from math import e\n",
    "\n",
    "from vectorbt.generic.nb import diff_nb\n",
    "from vectorbt.signals.factory import SignalFactory\n",
    "from lib.utils import directory_to_data_frame_list, ExtendedPortfolio"
   ]
  },
  {
   "cell_type": "code",
   "execution_count": null,
   "metadata": {},
   "outputs": [],
   "source": [
    "directory = \"/Users/pilo/development/itba/pf/Binance_Minute_OHLC_CSVs/shorts/\"\n",
    "ohlcv_series_list = directory_to_data_frame_list(directory)\n",
    "\n",
    "# concatenamos los dfs\n",
    "names = list(map(lambda t: t[0], ohlcv_series_list))\n",
    "dfs = list(map(lambda t: t[1].get([\"Close\", \"Volume\"]), ohlcv_series_list))\n",
    "ov_df = pd.concat(dfs, axis=1, keys=names)\n",
    "# borramos las filas que tengan nan(parece que algunos pueden estar desalineados)\n",
    "ov_df.dropna(inplace=True)\n",
    "ov_df.columns.set_names([\"symbol\", \"value\"], inplace=True)\n",
    "ov_df.head()\n"
   ]
  },
  {
   "cell_type": "code",
   "execution_count": null,
   "metadata": {
    "pycharm": {
     "name": "#%%\n"
    }
   },
   "outputs": [],
   "source": [
    "# creamos el indicador para el lr y otro para el wlr\n",
    "# lo hago por separado para poder calcular el mlr\n",
    "# con data de varios activos del mercado\n",
    "# y luego solo utiliza lr con los que me interesa\n",
    "@njit\n",
    "def lr_nb(close):\n",
    "    c_log = np.log(close)\n",
    "    lr = diff_nb(c_log)\n",
    "    return lr\n",
    "\n",
    "LR = vbt.IndicatorFactory(\n",
    "    input_names=['close'],\n",
    "    output_names=['lr']\n",
    ").from_apply_func(lr_nb, use_ray=True)\n",
    "\n",
    "@njit\n",
    "def wlr_nb(volume, lr):\n",
    "    mkt_vol = volume.sum(axis=1)\n",
    "    mkt_ratio = (volume.T / mkt_vol).T\n",
    "    wrl =  lr * mkt_ratio\n",
    "    return wrl\n",
    "\n",
    "WLR = vbt.IndicatorFactory(\n",
    "    input_names=['volume', 'lr'],\n",
    "    output_names=['wlr']\n",
    ").from_apply_func(wlr_nb, use_ray=True)"
   ]
  },
  {
   "cell_type": "code",
   "execution_count": null,
   "metadata": {
    "pycharm": {
     "name": "#%%\n"
    }
   },
   "outputs": [],
   "source": [
    "close = ov_df.xs('Close', level='value', axis=1)\n",
    "volume = ov_df.xs('Volume', level='value', axis=1)\n",
    "lr_ind = LR.run(close)\n",
    "wlr_ind = WLR.run(volume, lr_ind.lr)\n",
    "mkt_lr = wlr_ind.wlr.sum(axis=1, skipna=False)\n",
    "fig = mkt_lr.vbt.plot(trace_names=[\"MKT_LR\"])"
   ]
  },
  {
   "cell_type": "code",
   "execution_count": null,
   "metadata": {
    "pycharm": {
     "name": "#%%\n"
    }
   },
   "outputs": [],
   "source": [
    "lr_ind.lr.head()"
   ]
  },
  {
   "cell_type": "code",
   "execution_count": null,
   "metadata": {
    "pycharm": {
     "name": "#%%\n"
    }
   },
   "outputs": [],
   "source": [
    "lr_ind.lr.vbt.plot(fig=fig).show()"
   ]
  },
  {
   "cell_type": "code",
   "execution_count": null,
   "metadata": {
    "pycharm": {
     "name": "#%%\n"
    }
   },
   "outputs": [],
   "source": [
    "ada_ov_df = ov_df.xs('ADA', level='symbol', axis=1)\n",
    "ada_ov_df[\"Close\"].vbt.plot(trace_names=[\"ADA\"]).show()"
   ]
  },
  {
   "cell_type": "code",
   "execution_count": null,
   "metadata": {
    "pycharm": {
     "name": "#%%\n"
    }
   },
   "outputs": [],
   "source": [
    " #creamos el indicador para las bandas\n",
    "@njit\n",
    "def mkt_banda_nb(mkt_lr, upper_filter, lower_filter):\n",
    "    upper = np.where(mkt_lr >= upper_filter, mkt_lr, np.nan)\n",
    "    lower = np.where(mkt_lr <= -lower_filter, mkt_lr, np.nan)\n",
    "    return upper, lower\n",
    "\n",
    "MKT_BANDS = vbt.IndicatorFactory(\n",
    "    input_names=['mkt_lr'],\n",
    "    param_names=['upper_filter', 'lower_filter'],\n",
    "    output_names=['upper', 'lower']\n",
    ").from_apply_func(mkt_banda_nb, use_ray=True)"
   ]
  },
  {
   "cell_type": "code",
   "execution_count": null,
   "metadata": {
    "pycharm": {
     "name": "#%%\n"
    }
   },
   "outputs": [],
   "source": [
    "filters = np.linspace(0.00001, 0.005, 60, endpoint=False)\n",
    "mkt_bands_ind = MKT_BANDS.run(mkt_lr=mkt_lr, upper_filter=filters , lower_filter=filters,\n",
    "                        per_column=False,\n",
    "                        param_product=True,\n",
    "                        short_name=\"mkt\")"
   ]
  },
  {
   "cell_type": "code",
   "execution_count": null,
   "metadata": {
    "pycharm": {
     "name": "#%%\n"
    }
   },
   "outputs": [],
   "source": [
    "ada_lr = lr_ind.lr[\"ADA\"]\n",
    "ada_close = ov_df.xs('Close', level='value', axis=1)[\"ADA\"]\n",
    "entries =  mkt_bands_ind.upper_above(ada_lr, crossover=True)\n",
    "exits = mkt_bands_ind.lower_below(ada_lr, crossover=True)\n",
    "#(entries*1 - 1*exits).vbt.plot().show()\n",
    "portfolio_kwargs = dict(\n",
    "    direction='longonly',\n",
    "    freq='m',\n",
    ")\n",
    "port = ExtendedPortfolio.from_signals(ada_close, entries, exits, **portfolio_kwargs)"
   ]
  },
  {
   "cell_type": "code",
   "execution_count": null,
   "metadata": {
    "pycharm": {
     "name": "#%%\n"
    }
   },
   "outputs": [],
   "source": [
    "help(port.expected_log_returns().vbt.heatmap)"
   ]
  },
  {
   "cell_type": "code",
   "execution_count": null,
   "metadata": {
    "pycharm": {
     "name": "#%%\n"
    }
   },
   "outputs": [],
   "source": [
    "data=port.expected_log_returns().vbt.heatmap().show()\n",
    "port.sharpe_ratio().vbt.heatmap().show()"
   ]
  },
  {
   "cell_type": "code",
   "execution_count": null,
   "metadata": {
    "pycharm": {
     "name": "#%%\n"
    }
   },
   "outputs": [],
   "source": [
    "# un pequeño test\n",
    "_py = pd.DataFrame({\n",
    "    'Close': [1,e,e**2],\n",
    "    'Volume': [1,2,1]\n",
    "})\n",
    "_thon = pd.DataFrame({\n",
    "    'Close': [e**2,e,1],\n",
    "    'Volume': [1,4,10]\n",
    "})\n",
    "_test_df = pd.concat([_py,_thon], axis=1, keys=[\"Py\", \"Thon\"])\n",
    "_test_df.columns.set_names([\"asset\", \"value\"], inplace=True)\n",
    "\n",
    "close = _test_df.xs('Close', level='value', axis=1)\n",
    "volume = _test_df.xs('Volume', level='value', axis=1)\n",
    "_test_lrInd = LR.run(close)\n",
    "_test_wlrInd = WLR.run(volume, _test_lrInd.lr)\n",
    "\n",
    "exp_py_lr = np.array([np.nan, 1, 1])\n",
    "exp_thon_lr = np.array([np.nan, -1, -1])\n",
    "assert (np.allclose(exp_py_lr, _test_lrInd.lr[\"Py\"], equal_nan=True))\n",
    "assert (np.allclose(exp_thon_lr, _test_lrInd.lr[\"Thon\"], equal_nan=True))\n",
    "exp_py_vr = np.array([0.5, 1/3, 1/11])\n",
    "exp_thon_vr = np.array([0.5, 2/3, 10/11])\n",
    "exp_py_wlr = exp_py_lr * exp_py_vr\n",
    "exp_thon_wlr = exp_thon_lr * exp_thon_vr\n",
    "assert (np.allclose(exp_py_wlr, _test_wlrInd.wlr[\"Py\"], equal_nan=True))\n",
    "assert (np.allclose(exp_thon_wlr, _test_wlrInd.wlr[\"Thon\"], equal_nan=True))\n",
    "# falta testear el cálculo de mkt_lr\n",
    "_test_mkt_lr = _test_wlrInd.wlr.sum(axis=1, skipna=False)\n",
    "exp_mkt_lr = exp_py_wlr + exp_thon_wlr\n",
    "assert (np.allclose(exp_mkt_lr,_test_mkt_lr, equal_nan=True))"
   ]
  },
  {
   "cell_type": "code",
   "execution_count": null,
   "metadata": {
    "pycharm": {
     "name": "#%%\n"
    }
   },
   "outputs": [],
   "source": []
  }
 ],
 "metadata": {
  "kernelspec": {
   "display_name": "Python 3",
   "language": "python",
   "name": "python3"
  },
  "language_info": {
   "codemirror_mode": {
    "name": "ipython",
    "version": 2
   },
   "file_extension": ".py",
   "mimetype": "text/x-python",
   "name": "python",
   "nbconvert_exporter": "python",
   "pygments_lexer": "ipython2",
   "version": "2.7.6"
  }
 },
 "nbformat": 4,
 "nbformat_minor": 0
}
