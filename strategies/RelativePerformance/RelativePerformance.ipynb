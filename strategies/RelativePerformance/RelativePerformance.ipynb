{
 "cells": [
  {
   "cell_type": "code",
   "execution_count": null,
   "metadata": {
    "pycharm": {
     "name": "#%%\n"
    }
   },
   "outputs": [],
   "source": [
    "import gc\n",
    "import os\n",
    "import sys\n",
    "module_path = os.path.abspath(os.path.join('../..'))\n",
    "if module_path not in sys.path:\n",
    "    sys.path.append(module_path)\n",
    "import numpy as np\n",
    "import pandas as pd\n",
    "import vectorbt as vbt\n",
    "from numba import njit\n",
    "from math import e\n",
    "\n",
    "from vectorbt.generic.nb import diff_nb\n",
    "from lib.utils import directory_to_data_frame_list, ExtendedPortfolio, create_windows, get_best_pairs\n",
    "from lib.utils import is_notebook"
   ]
  },
  {
   "cell_type": "code",
   "execution_count": null,
   "metadata": {
    "pycharm": {
     "name": "#%%\n"
    }
   },
   "outputs": [],
   "source": [
    "current_dir = os.path.dirname(os.path.realpath(\"__file__\"))\n",
    "directory = \"/home/ec2-user/data/long/\"\n",
    "ohlcv_series_list = directory_to_data_frame_list(directory)\n",
    "# concatenamos los dfs\n",
    "names = list(map(lambda t: t[0], ohlcv_series_list))\n",
    "dfs = list(map(lambda t: t[1].get([\"Close\", \"Volume\"]), ohlcv_series_list))\n",
    "\n",
    "ohlc_dict = {\n",
    "#'Open':'first',\n",
    "#'High':'max',\n",
    "#'Low':'min',\n",
    "'Close': 'last',\n",
    "'Volume': 'sum'\n",
    "}\n",
    "# Resampleamos la información a candles más chicas para reducir la memora necesaria\n",
    "# además solo agarramos close y volumne\n",
    "for i in range(len(dfs)):\n",
    "    dfs[i] = dfs[i].resample('5T', closed='left', label='left').apply(ohlc_dict)\n",
    "\n",
    "ov_df = pd.concat(dfs, axis=1, keys=names)\n",
    "# borramos las filas que tengan nan(parece que algunos pueden estar desalineados)\n",
    "ov_df.dropna(inplace=True)\n",
    "ov_df.columns.set_names([\"symbol\", \"value\"], inplace=True)\n",
    "del ohlcv_series_list, names, dfs\n",
    "ov_df.head()"
   ]
  },
  {
   "cell_type": "code",
   "execution_count": null,
   "metadata": {
    "pycharm": {
     "name": "#%%\n"
    }
   },
   "outputs": [],
   "source": [
    "figure, windows = create_windows(ohlc=ov_df, n=10, window_len=0.6, right_set_len=0.3*0.9)\n",
    "(in_windows, _), (out_windows, _) = windows\n",
    "del _\n",
    "print(\"Done creating windows\")"
   ]
  },
  {
   "cell_type": "code",
   "execution_count": null,
   "metadata": {
    "pycharm": {
     "name": "#%%\n"
    }
   },
   "outputs": [],
   "source": [
    "if is_notebook():\n",
    "    figure.show()\n",
    "del figure, ov_df"
   ]
  },
  {
   "cell_type": "code",
   "execution_count": null,
   "metadata": {
    "pycharm": {
     "name": "#%%\n"
    }
   },
   "outputs": [],
   "source": [
    "portfolio_kwargs = dict(\n",
    "    direction='longonly',\n",
    "    freq='m',\n",
    ")\n",
    "# creamos el indicador para el lr y otro para el wlr\n",
    "# lo hago por separado para poder calcular el mlr\n",
    "# con data de varios activos #del mercado\n",
    "# y luego solo utiliza lr con los que me interesa\n",
    "@njit\n",
    "def lr_nb(close):\n",
    "    c_log = np.log(close)\n",
    "    return diff_nb(c_log)\n",
    "\n",
    "LR = vbt.IndicatorFactory(\n",
    "    input_names=['close'],\n",
    "    output_names=['lr']\n",
    ").from_apply_func(lr_nb, use_ray=True)\n",
    "\n",
    "@njit\n",
    "def wlr_nb(volume, lr):\n",
    "    mkt_vol = volume.sum(axis=1)\n",
    "    mkt_ratio = (volume.T / mkt_vol).T\n",
    "    return lr * mkt_ratio\n",
    "\n",
    "WLR = vbt.IndicatorFactory(\n",
    "    input_names=['volume', 'lr'],\n",
    "    output_names=['wlr']\n",
    ").from_apply_func(wlr_nb, use_ray=True)\n",
    "\n",
    " #creamos el indicador para las bandas\n",
    "@njit\n",
    "def mkt_band_nb(mkt_lr, upper_filter, lower_filter):\n",
    "    filtered = np.where(mkt_lr >= upper_filter, mkt_lr, np.nan)\n",
    "    filtered = np.where(mkt_lr <= -lower_filter, mkt_lr, filtered)\n",
    "    return filtered\n",
    "\n",
    "MKT_BANDS = vbt.IndicatorFactory(\n",
    "    input_names=['mkt_lr'],\n",
    "    param_names=['upper_filter', 'lower_filter'],\n",
    "    output_names=['filtered']\n",
    ").from_apply_func(mkt_band_nb, use_ray=True)"
   ]
  },
  {
   "cell_type": "code",
   "execution_count": null,
   "metadata": {
    "pycharm": {
     "name": "#%%\n"
    }
   },
   "outputs": [],
   "source": [
    "# lr = log_return\n",
    "# wlr = weighted log_return = lr * (Vi / Vmercado)\n",
    "# mkt_lr = sum(wlr)\n",
    "in_close = in_windows.xs('Close', level='value', axis=1)\n",
    "in_volume = in_windows.xs('Volume', level='value', axis=1)\n",
    "lr_ind = LR.run(in_close)\n",
    "wlr_ind = WLR.run(in_volume, lr_ind.lr)\n",
    "mkt_lr = wlr_ind.wlr.sum(axis=1, level=\"split_idx\", skipna=False)\n",
    "print(\"Done calculating mkt_lr\")\n",
    "del in_volume, in_windows # esto no se usa más\n",
    "lr_ind.lr.head()"
   ]
  },
  {
   "cell_type": "code",
   "execution_count": null,
   "metadata": {
    "pycharm": {
     "name": "#%%\n"
    }
   },
   "outputs": [],
   "source": [
    "mkt_lr.head()"
   ]
  },
  {
   "cell_type": "code",
   "execution_count": null,
   "metadata": {
    "pycharm": {
     "name": "#%%\n"
    }
   },
   "outputs": [],
   "source": [
    "if is_notebook():\n",
    "    # Grafico un resultadoo arbitrario selecionando filtros arbitrarios para ver como ejemplo el funcionamiento de la estategia\n",
    "    split_index = 5\n",
    "    _mkt_lr_arb = mkt_lr[split_index]  # agarro el mkt_lr de algúna ventana\n",
    "    lr_ada = lr_ind.lr[(split_index, \"ADA\")] # agarro el lr de ADA en esa ventana\n",
    "    # borramos el mkt cuando está entre 0.0005 y - 0.0005\n",
    "    filtered = np.where(_mkt_lr_arb >= 0.0005, _mkt_lr_arb, np.nan)\n",
    "    filtered = np.where(_mkt_lr_arb <= -0.0005, _mkt_lr_arb, filtered)\n",
    "    fig = pd.DataFrame({\n",
    "            \"lr_ada\" : lr_ada,\n",
    "            \"mkt_lr\": _mkt_lr_arb,\n",
    "            \"mkt_lr_filtered\" : filtered\n",
    "    }).vbt.plot()\n",
    "    pd.DataFrame({\n",
    "            \"entries\": np.where(filtered >= lr_ada, _mkt_lr_arb, np.nan), # compramos cuando el mercado está por encima de ada\n",
    "            \"exits\": np.where(filtered <= lr_ada, _mkt_lr_arb, np.nan)\n",
    "    }).vbt.scatterplot(fig=fig).show()\n",
    "    del _mkt_lr_arb, lr_ada, filtered, fig\n",
    "    gc.collect()"
   ]
  },
  {
   "cell_type": "code",
   "execution_count": null,
   "metadata": {
    "pycharm": {
     "name": "#%%\n"
    }
   },
   "outputs": [],
   "source": [
    "# Acá filtramos los thresholds del mkt_lr a partir del cual compramos o vendemos.\n",
    "upper_fltr = np.linspace(0.00001, 0.003, 50, endpoint=False)\n",
    "lower_fltr = np.linspace(0.00001, 0.005, 50, endpoint=False)\n",
    "mkt_bands_ind = MKT_BANDS.run(mkt_lr=mkt_lr, upper_filter=upper_fltr , lower_filter=lower_fltr,\n",
    "                        per_column=False,\n",
    "                        param_product=True,\n",
    "                        short_name=\"mkt\")\n",
    "del upper_fltr, lower_fltr, mkt_lr\n",
    "gc.collect()\n",
    "print(\"Done calculating mkt_bands\")"
   ]
  },
  {
   "cell_type": "code",
   "execution_count": null,
   "metadata": {
    "pycharm": {
     "name": "#%%\n"
    }
   },
   "outputs": [],
   "source": [
    "# Ya generamos todos los datos necesarios, ahora vamos a correr todas las simulaciones para cada assets que nos\n",
    "# interesa testear\n",
    "# para que no muera por memoria a la mitad y perder todo lo porcesado hasta el momento, me aseguro de que todas\n",
    "#  las keys existan en el df\n",
    "test_asset_list = [\"ADA\", \"BTC\"]\n",
    "assert( set(test_asset_list).issubset(in_close.columns.get_level_values(level=\"symbol\").unique()))"
   ]
  },
  {
   "cell_type": "code",
   "execution_count": null,
   "metadata": {
    "pycharm": {
     "name": "#%%\n"
    }
   },
   "outputs": [],
   "source": [
    "# Recolectamos el close y el lr de cada uno para poder borrar de memoria el df grande de todos los close y los lrs que no usamos\n",
    "# puesto que close y lr son varias veces más grandes que el lr y close individual\n",
    "_lrs = {}\n",
    "_close = {}\n",
    "for asset in test_asset_list:\n",
    "    _lrs[asset] = lr_ind.lr.xs(asset, level='symbol', axis=1)\n",
    "    _close[asset] = in_close.xs(asset, level='symbol', axis=1)\n",
    "    print(f\"Done separating close and lrs for {asset}\")\n",
    "del in_close, lr_ind\n",
    "in_close = _close\n",
    "in_lrs = _lrs\n",
    "gc.collect()"
   ]
  },
  {
   "cell_type": "code",
   "execution_count": null,
   "metadata": {
    "pycharm": {
     "name": "#%%\n"
    }
   },
   "outputs": [],
   "source": [
    "# corremos la simulación para cada asset\n",
    "def dropnan(s):\n",
    "    return s[~np.isnan(s)]\n",
    "in_best_fltr_pairs = {}\n",
    "params_names = mkt_bands_ind.level_names\n",
    "for asset in test_asset_list:\n",
    "    lr = in_lrs[asset]\n",
    "    close = in_close[asset]\n",
    "    entries =  mkt_bands_ind.filtered_above(lr, crossover=True)\n",
    "    exits = mkt_bands_ind.filtered_below(lr, crossover=True)\n",
    "    del lr, in_lrs[asset]\n",
    "    gc.collect()\n",
    "    print(f\"Running optimizing for {asset}\")\n",
    "    port = ExtendedPortfolio.from_signals(close, entries, exits, **portfolio_kwargs, max_logs=0)\n",
    "    del  entries, exits, close, in_close[asset]\n",
    "    gc.collect()\n",
    "    print(f\"Done optimizing {asset}\")\n",
    "    \n",
    "    # buscamos la mejor combinación de filtros\n",
    "    in_best_fltr_pairs[asset] = get_best_pairs(port.expected_log_returns(), *params_names)\n",
    "\n",
    "    # ploteamos la performace de todas las combinanciones\n",
    "    if is_notebook():\n",
    "        elr_volume = dropnan(port.expected_log_returns()).vbt.volume(title=f\"{asset}'s Expected Log Return\").show()\n",
    "        sharpe_volume = dropnan(port.sharpe_ratio()).vbt.volume(title=f\"{asset}'s Sharpe Ratio\").show()\n",
    "    del port\n",
    "    gc.collect()\n",
    "    print(f\"Done plotting {asset}\")\n",
    "\n",
    "del mkt_bands_ind\n",
    "gc.collect()"
   ]
  },
  {
   "cell_type": "code",
   "execution_count": null,
   "metadata": {
    "pycharm": {
     "name": "#%%\n"
    }
   },
   "outputs": [],
   "source": [
    "# acá arranca la parte de correr las simulaciones con los datos del out y los parámetros ya optimizados\n",
    "out_close = out_windows.xs('Close', level='value', axis=1)\n",
    "out_volume = out_windows.xs('Volume', level='value', axis=1)\n",
    "lr_ind = LR.run(out_close)\n",
    "wlr_ind = WLR.run(out_volume, lr_ind.lr)\n",
    "mkt_lr = wlr_ind.wlr.sum(axis=1, level=\"split_idx\", skipna=False)\n",
    "_lrs = {}\n",
    "_close = {}\n",
    "for asset in test_asset_list:\n",
    "    _lrs[asset] = lr_ind.lr.xs(asset, level='symbol', axis=1)\n",
    "    _close[asset] = out_close.xs(asset, level='symbol', axis=1)\n",
    "    print(f\"Done separating close and lrs for {asset}\")\n",
    "del out_close, lr_ind, out_windows, wlr_ind\n",
    "out_close = _close\n",
    "out_lrs = _lrs\n",
    "gc.collect()\n",
    "for asset in test_asset_list:\n",
    "    # para cada activo de los que me interesa tradear simulo el resultado de ser corrido con los parámetros optimizados\n",
    "    in_best_pairs = np.array(in_best_fltr_pairs[asset])\n",
    "    upper_fltr = in_best_pairs[:,0]\n",
    "    lower_fltr = in_best_pairs[:,1]\n",
    "    mkt_bands_ind = MKT_BANDS.run(mkt_lr=mkt_lr, upper_filter=upper_fltr , lower_filter=lower_fltr,\n",
    "                        per_column=True,\n",
    "                        param_product=False,\n",
    "                        short_name=\"mkt\")\n",
    "    lr = out_lrs[asset]\n",
    "    close = out_close[asset]\n",
    "    entries =  mkt_bands_ind.filtered_above(lr, crossover=True)\n",
    "    exits = mkt_bands_ind.filtered_below(lr, crossover=True)\n",
    "    del lr, out_lrs[asset], mkt_bands_ind\n",
    "    port = ExtendedPortfolio.from_signals(close, entries, exits, **portfolio_kwargs, max_logs=0)\n",
    "    exp_plot = port.expected_log_returns().vbt.plot(title=f\"{asset}'s Expected Log Return\")\n",
    "    sharpe_plot = port.sharpe_ratio().vbt.plot(title=f\"{asset}'s Sharpe ratio\")\n",
    "    if is_notebook():\n",
    "        exp_plot.show()\n",
    "        sharpe_plot.show()\n",
    "    else:\n",
    "        exp_plot.write_html(f\"{current_dir}/{asset}_simulation_exp_log_ret.html\")\n",
    "        sharpe_plot.write_html(f\"{current_dir}/{asset}_simulation_sharpe-ratio.html\")\n",
    "    print(f\"Done simulating {asset}\")"
   ]
  },
  {
   "cell_type": "code",
   "execution_count": null,
   "metadata": {
    "pycharm": {
     "name": "#%%\n"
    }
   },
   "outputs": [],
   "source": [
    "# un pequeño test para asegurarnos que todas las cuentas den\n",
    "_py = pd.DataFrame({\n",
    "    'Close': [1,e,e**2],\n",
    "    'Volume': [1,2,1]\n",
    "})\n",
    "_thon = pd.DataFrame({\n",
    "    'Close': [e**2,e,1],\n",
    "    'Volume': [1,4,10]\n",
    "})\n",
    "_test_df = pd.concat([_py,_thon], axis=1, keys=[\"Py\", \"Thon\"])\n",
    "_test_df.columns.set_names([\"asset\", \"value\"], inplace=True)\n",
    "\n",
    "close = _test_df.xs('Close', level='value', axis=1)\n",
    "volume = _test_df.xs('Volume', level='value', axis=1)\n",
    "_test_lrInd = LR.run(close)\n",
    "_test_wlrInd = WLR.run(volume, _test_lrInd.lr)\n",
    "\n",
    "exp_py_lr = np.array([np.nan, 1, 1])\n",
    "exp_thon_lr = np.array([np.nan, -1, -1])\n",
    "assert (np.allclose(exp_py_lr, _test_lrInd.lr[\"Py\"], equal_nan=True))\n",
    "assert (np.allclose(exp_thon_lr, _test_lrInd.lr[\"Thon\"], equal_nan=True))\n",
    "exp_py_vr = np.array([0.5, 1/3, 1/11])\n",
    "exp_thon_vr = np.array([0.5, 2/3, 10/11])\n",
    "exp_py_wlr = exp_py_lr * exp_py_vr\n",
    "exp_thon_wlr = exp_thon_lr * exp_thon_vr\n",
    "assert (np.allclose(exp_py_wlr, _test_wlrInd.wlr[\"Py\"], equal_nan=True))\n",
    "assert (np.allclose(exp_thon_wlr, _test_wlrInd.wlr[\"Thon\"], equal_nan=True))\n",
    "# falta testear el cálculo de mkt_lr\n",
    "_test_mkt_lr = _test_wlrInd.wlr.sum(axis=1, skipna=False)\n",
    "exp_mkt_lr = exp_py_wlr + exp_thon_wlr\n",
    "assert (np.allclose(exp_mkt_lr,_test_mkt_lr, equal_nan=True))"
   ]
  }
 ],
 "metadata": {
  "kernelspec": {
   "display_name": "Python 3",
   "language": "python",
   "name": "python3"
  },
  "language_info": {
   "codemirror_mode": {
    "name": "ipython",
    "version": 3
   },
   "file_extension": ".py",
   "mimetype": "text/x-python",
   "name": "python",
   "nbconvert_exporter": "python",
   "pygments_lexer": "ipython3",
   "version": "3.7.9"
  }
 },
 "nbformat": 4,
 "nbformat_minor": 1
}
