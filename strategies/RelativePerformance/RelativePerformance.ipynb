{
 "cells": [
  {
   "cell_type": "code",
   "execution_count": 1,
   "metadata": {
    "pycharm": {
     "name": "#%%\n"
    }
   },
   "outputs": [],
   "source": [
    "import gc\n",
    "import os\n",
    "import sys\n",
    "module_path = os.path.abspath(os.path.join('../..'))\n",
    "if module_path not in sys.path:\n",
    "    sys.path.append(module_path)\n",
    "import numpy as np\n",
    "import pandas as pd\n",
    "import vectorbt as vbt\n",
    "from numba import njit\n",
    "from math import e\n",
    "\n",
    "from vectorbt.generic.nb import diff_nb\n",
    "from lib.utils import directory_to_data_frame_list, ExtendedPortfolio, create_windows, get_best_pairs, resample_ohlcv\n",
    "from lib.utils import is_notebook"
   ]
  },
  {
   "cell_type": "code",
   "execution_count": 2,
   "metadata": {
    "pycharm": {
     "name": "#%%\n"
    }
   },
   "outputs": [
    {
     "data": {
      "text/plain": "symbol                   ADA                     BNB                     BTC  \\\nvalue                  Close        Volume     Close        Volume     Close   \ndate                                                                           \n2021-03-16 22:05:00  1.22257  2.462095e+06  257.0131  5.543834e+05  56699.99   \n2021-03-16 22:10:00  1.22116  5.414035e+06  256.2871  1.111836e+06  56574.99   \n2021-03-16 22:15:00  1.22843  5.000748e+06  256.5931  2.093687e+06  56522.97   \n2021-03-16 22:20:00  1.23144  3.728586e+06  257.4670  9.951642e+05  56775.02   \n2021-03-16 22:25:00  1.23073  4.025078e+06  257.5522  1.707765e+06  56614.72   \n\nsymbol                               DASH                   EOS  \\\nvalue                      Volume   Close        Volume   Close   \ndate                                                              \n2021-03-16 22:05:00  5.183507e+06  223.98  19894.547668  4.0330   \n2021-03-16 22:10:00  1.285268e+07  224.28  49654.352224  4.0345   \n2021-03-16 22:15:00  8.597413e+06  224.35  19050.834186  4.0338   \n2021-03-16 22:20:00  1.190864e+07  224.45  71015.830911  4.0379   \n2021-03-16 22:25:00  1.550792e+07  224.74  48030.580365  4.0319   \n\nsymbol                              ...   QTUM                     TRX  \\\nvalue                       Volume  ...  Close         Volume    Close   \ndate                                ...                                  \n2021-03-16 22:05:00   42675.354723  ...  6.210   23078.610165  0.05209   \n2021-03-16 22:10:00   95448.589804  ...  6.226   71342.607007  0.05196   \n2021-03-16 22:15:00   77409.159359  ...  6.240  180798.870438  0.05195   \n2021-03-16 22:20:00  209866.109897  ...  6.245  121095.391590  0.05200   \n2021-03-16 22:25:00  146254.991151  ...  6.233   64966.215960  0.05199   \n\nsymbol                                  XLM                     XRP  \\\nvalue                       Volume    Close         Volume    Close   \ndate                                                                  \n2021-03-16 22:05:00  309742.881533  0.39376   33340.624481  0.45420   \n2021-03-16 22:10:00  179131.202927  0.39424  124260.792357  0.45686   \n2021-03-16 22:15:00  106978.501700  0.39355  258866.166085  0.45636   \n2021-03-16 22:20:00   75134.272754  0.39315  167949.404013  0.45622   \n2021-03-16 22:25:00  168344.430747  0.39379  227816.419333  0.45884   \n\nsymbol                                ZEC                \nvalue                      Volume   Close        Volume  \ndate                                                     \n2021-03-16 22:05:00  3.201281e+05  138.28   5796.205822  \n2021-03-16 22:10:00  1.159910e+06  138.40  23103.177071  \n2021-03-16 22:15:00  8.937270e+05  138.11  25157.614345  \n2021-03-16 22:20:00  6.031848e+05  138.25  16088.587147  \n2021-03-16 22:25:00  1.180595e+06  138.08   4204.521744  \n\n[5 rows x 30 columns]",
      "text/html": "<div>\n<style scoped>\n    .dataframe tbody tr th:only-of-type {\n        vertical-align: middle;\n    }\n\n    .dataframe tbody tr th {\n        vertical-align: top;\n    }\n\n    .dataframe thead tr th {\n        text-align: left;\n    }\n\n    .dataframe thead tr:last-of-type th {\n        text-align: right;\n    }\n</style>\n<table border=\"1\" class=\"dataframe\">\n  <thead>\n    <tr>\n      <th>symbol</th>\n      <th colspan=\"2\" halign=\"left\">ADA</th>\n      <th colspan=\"2\" halign=\"left\">BNB</th>\n      <th colspan=\"2\" halign=\"left\">BTC</th>\n      <th colspan=\"2\" halign=\"left\">DASH</th>\n      <th colspan=\"2\" halign=\"left\">EOS</th>\n      <th>...</th>\n      <th colspan=\"2\" halign=\"left\">QTUM</th>\n      <th colspan=\"2\" halign=\"left\">TRX</th>\n      <th colspan=\"2\" halign=\"left\">XLM</th>\n      <th colspan=\"2\" halign=\"left\">XRP</th>\n      <th colspan=\"2\" halign=\"left\">ZEC</th>\n    </tr>\n    <tr>\n      <th>value</th>\n      <th>Close</th>\n      <th>Volume</th>\n      <th>Close</th>\n      <th>Volume</th>\n      <th>Close</th>\n      <th>Volume</th>\n      <th>Close</th>\n      <th>Volume</th>\n      <th>Close</th>\n      <th>Volume</th>\n      <th>...</th>\n      <th>Close</th>\n      <th>Volume</th>\n      <th>Close</th>\n      <th>Volume</th>\n      <th>Close</th>\n      <th>Volume</th>\n      <th>Close</th>\n      <th>Volume</th>\n      <th>Close</th>\n      <th>Volume</th>\n    </tr>\n    <tr>\n      <th>date</th>\n      <th></th>\n      <th></th>\n      <th></th>\n      <th></th>\n      <th></th>\n      <th></th>\n      <th></th>\n      <th></th>\n      <th></th>\n      <th></th>\n      <th></th>\n      <th></th>\n      <th></th>\n      <th></th>\n      <th></th>\n      <th></th>\n      <th></th>\n      <th></th>\n      <th></th>\n      <th></th>\n      <th></th>\n    </tr>\n  </thead>\n  <tbody>\n    <tr>\n      <th>2021-03-16 22:05:00</th>\n      <td>1.22257</td>\n      <td>2.462095e+06</td>\n      <td>257.0131</td>\n      <td>5.543834e+05</td>\n      <td>56699.99</td>\n      <td>5.183507e+06</td>\n      <td>223.98</td>\n      <td>19894.547668</td>\n      <td>4.0330</td>\n      <td>42675.354723</td>\n      <td>...</td>\n      <td>6.210</td>\n      <td>23078.610165</td>\n      <td>0.05209</td>\n      <td>309742.881533</td>\n      <td>0.39376</td>\n      <td>33340.624481</td>\n      <td>0.45420</td>\n      <td>3.201281e+05</td>\n      <td>138.28</td>\n      <td>5796.205822</td>\n    </tr>\n    <tr>\n      <th>2021-03-16 22:10:00</th>\n      <td>1.22116</td>\n      <td>5.414035e+06</td>\n      <td>256.2871</td>\n      <td>1.111836e+06</td>\n      <td>56574.99</td>\n      <td>1.285268e+07</td>\n      <td>224.28</td>\n      <td>49654.352224</td>\n      <td>4.0345</td>\n      <td>95448.589804</td>\n      <td>...</td>\n      <td>6.226</td>\n      <td>71342.607007</td>\n      <td>0.05196</td>\n      <td>179131.202927</td>\n      <td>0.39424</td>\n      <td>124260.792357</td>\n      <td>0.45686</td>\n      <td>1.159910e+06</td>\n      <td>138.40</td>\n      <td>23103.177071</td>\n    </tr>\n    <tr>\n      <th>2021-03-16 22:15:00</th>\n      <td>1.22843</td>\n      <td>5.000748e+06</td>\n      <td>256.5931</td>\n      <td>2.093687e+06</td>\n      <td>56522.97</td>\n      <td>8.597413e+06</td>\n      <td>224.35</td>\n      <td>19050.834186</td>\n      <td>4.0338</td>\n      <td>77409.159359</td>\n      <td>...</td>\n      <td>6.240</td>\n      <td>180798.870438</td>\n      <td>0.05195</td>\n      <td>106978.501700</td>\n      <td>0.39355</td>\n      <td>258866.166085</td>\n      <td>0.45636</td>\n      <td>8.937270e+05</td>\n      <td>138.11</td>\n      <td>25157.614345</td>\n    </tr>\n    <tr>\n      <th>2021-03-16 22:20:00</th>\n      <td>1.23144</td>\n      <td>3.728586e+06</td>\n      <td>257.4670</td>\n      <td>9.951642e+05</td>\n      <td>56775.02</td>\n      <td>1.190864e+07</td>\n      <td>224.45</td>\n      <td>71015.830911</td>\n      <td>4.0379</td>\n      <td>209866.109897</td>\n      <td>...</td>\n      <td>6.245</td>\n      <td>121095.391590</td>\n      <td>0.05200</td>\n      <td>75134.272754</td>\n      <td>0.39315</td>\n      <td>167949.404013</td>\n      <td>0.45622</td>\n      <td>6.031848e+05</td>\n      <td>138.25</td>\n      <td>16088.587147</td>\n    </tr>\n    <tr>\n      <th>2021-03-16 22:25:00</th>\n      <td>1.23073</td>\n      <td>4.025078e+06</td>\n      <td>257.5522</td>\n      <td>1.707765e+06</td>\n      <td>56614.72</td>\n      <td>1.550792e+07</td>\n      <td>224.74</td>\n      <td>48030.580365</td>\n      <td>4.0319</td>\n      <td>146254.991151</td>\n      <td>...</td>\n      <td>6.233</td>\n      <td>64966.215960</td>\n      <td>0.05199</td>\n      <td>168344.430747</td>\n      <td>0.39379</td>\n      <td>227816.419333</td>\n      <td>0.45884</td>\n      <td>1.180595e+06</td>\n      <td>138.08</td>\n      <td>4204.521744</td>\n    </tr>\n  </tbody>\n</table>\n<p>5 rows × 30 columns</p>\n</div>"
     },
     "execution_count": 2,
     "metadata": {},
     "output_type": "execute_result"
    }
   ],
   "source": [
    "current_dir = os.path.dirname(os.path.realpath(\"__file__\"))\n",
    "directory = \"/Users/pilo/development/itba/pf/Binance_Minute_OHLC_CSVs/shorts\"\n",
    "ohlcv_series_list = directory_to_data_frame_list(directory)\n",
    "# concatenamos los dfs\n",
    "names = list(map(lambda t: t[0], ohlcv_series_list))\n",
    "dfs = list(map(lambda t: t[1].get([\"Close\", \"Volume\"]), ohlcv_series_list))\n",
    "\n",
    "# Resampleamos la información a candles más chicas para reducir la memora necesaria\n",
    "# además solo agarramos close y volumne,\n",
    "for i in range(len(dfs)):\n",
    "    dfs[i] = resample_ohlcv(dfs[i], \"5T\",[\"Close\", \"Volume\"])\n",
    "\n",
    "ov_df = pd.concat(dfs, axis=1, keys=names)\n",
    "# borramos las filas que tengan nan(parece que algunos pueden estar desalineados)\n",
    "ov_df.dropna(inplace=True)\n",
    "ov_df.columns.set_names([\"symbol\", \"value\"], inplace=True)\n",
    "del ohlcv_series_list, names, dfs\n",
    "ov_df.head()"
   ]
  },
  {
   "cell_type": "code",
   "execution_count": 3,
   "metadata": {
    "pycharm": {
     "name": "#%%\n"
    }
   },
   "outputs": [
    {
     "name": "stdout",
     "output_type": "stream",
     "text": [
      "Done creating windows\n"
     ]
    }
   ],
   "source": [
    "figure, windows = create_windows(ohlc=ov_df, n=10, window_len=0.6, right_set_len=0.3*0.9)\n",
    "(in_windows, _), (out_windows, _) = windows\n",
    "del _\n",
    "print(\"Done creating windows\")"
   ]
  },
  {
   "cell_type": "code",
   "execution_count": null,
   "metadata": {
    "pycharm": {
     "name": "#%%\n"
    }
   },
   "outputs": [],
   "source": [
    "if is_notebook():\n",
    "    figure.show()\n",
    "del figure, ov_df"
   ]
  },
  {
   "cell_type": "code",
   "execution_count": null,
   "metadata": {
    "pycharm": {
     "name": "#%%\n"
    }
   },
   "outputs": [],
   "source": [
    "portfolio_kwargs = dict(\n",
    "    direction='longonly',\n",
    "    freq='m',\n",
    ")\n",
    "# creamos el indicador para el lr y otro para el wlr\n",
    "# lo hago por separado para poder calcular el mlr\n",
    "# con data de varios activos #del mercado\n",
    "# y luego solo utiliza lr con los que me interesa\n",
    "@njit\n",
    "def lr_nb(close):\n",
    "    c_log = np.log(close)\n",
    "    return diff_nb(c_log)\n",
    "\n",
    "LR = vbt.IndicatorFactory(\n",
    "    input_names=['close'],\n",
    "    output_names=['lr']\n",
    ").from_apply_func(lr_nb, use_ray=True)\n",
    "\n",
    "@njit\n",
    "def wlr_nb(volume, lr):\n",
    "    mkt_vol = volume.sum(axis=1)\n",
    "    mkt_ratio = (volume.T / mkt_vol).T\n",
    "    return lr * mkt_ratio\n",
    "\n",
    "WLR = vbt.IndicatorFactory(\n",
    "    input_names=['volume', 'lr'],\n",
    "    output_names=['wlr']\n",
    ").from_apply_func(wlr_nb, use_ray=True)\n",
    "\n",
    " #creamos el indicador para las bandas\n",
    "@njit\n",
    "def mkt_band_nb(mkt_lr, upper_filter, lower_filter):\n",
    "    filtered = np.where(mkt_lr >= upper_filter, mkt_lr, np.nan)\n",
    "    filtered = np.where(mkt_lr <= -lower_filter, mkt_lr, filtered)\n",
    "    return filtered\n",
    "\n",
    "MKT_BANDS = vbt.IndicatorFactory(\n",
    "    input_names=['mkt_lr'],\n",
    "    param_names=['upper_filter', 'lower_filter'],\n",
    "    output_names=['filtered']\n",
    ").from_apply_func(mkt_band_nb, use_ray=True)"
   ]
  },
  {
   "cell_type": "code",
   "execution_count": null,
   "metadata": {
    "pycharm": {
     "name": "#%%\n"
    }
   },
   "outputs": [],
   "source": [
    "# lr = log_return = log(pi) - log(pi-1)\n",
    "# wlr = weighted log_return = lr * (Vi / Vmercado)\n",
    "# mkt_lr = sum(wlr)\n",
    "in_close = in_windows.xs('Close', level='value', axis=1)\n",
    "in_volume = in_windows.xs('Volume', level='value', axis=1)\n",
    "lr_ind = LR.run(in_close)\n",
    "wlr_ind = WLR.run(in_volume, lr_ind.lr)\n",
    "mkt_lr = wlr_ind.wlr.sum(axis=1, level=\"split_idx\", skipna=False)\n",
    "print(\"Done calculating mkt_lr\")\n",
    "del in_volume, in_windows # esto no se usa más\n",
    "lr_ind.lr.head()"
   ]
  },
  {
   "cell_type": "code",
   "execution_count": null,
   "metadata": {
    "pycharm": {
     "name": "#%%\n"
    }
   },
   "outputs": [],
   "source": [
    "mkt_lr.head()"
   ]
  },
  {
   "cell_type": "code",
   "execution_count": null,
   "metadata": {
    "pycharm": {
     "name": "#%%\n"
    }
   },
   "outputs": [],
   "source": [
    "if is_notebook():\n",
    "    # Grafico un resultadoo arbitrario selecionando filtros arbitrarios para ver como ejemplo el funcionamiento de la estategia\n",
    "    split_index = 5\n",
    "    _mkt_lr_arb = mkt_lr[split_index]  # agarro el mkt_lr de algúna ventana\n",
    "    lr_ada = lr_ind.lr[(split_index, \"ADA\")] # agarro el lr de ADA en esa ventana\n",
    "    # borramos el mkt cuando está entre 0.0005 y - 0.0005\n",
    "    filtered = np.where(_mkt_lr_arb >= 0.0005, _mkt_lr_arb, np.nan)\n",
    "    filtered = np.where(_mkt_lr_arb <= -0.0005, _mkt_lr_arb, filtered)\n",
    "    fig = pd.DataFrame({\n",
    "            \"lr_ada\" : lr_ada,\n",
    "            \"mkt_lr\": _mkt_lr_arb,\n",
    "            \"mkt_lr_filtered\" : filtered\n",
    "    }).vbt.plot()\n",
    "    pd.DataFrame({\n",
    "            \"entries\": np.where(filtered >= lr_ada, _mkt_lr_arb, np.nan), # compramos cuando el mercado está por encima de ada\n",
    "            \"exits\": np.where(filtered <= lr_ada, _mkt_lr_arb, np.nan)\n",
    "    }).vbt.scatterplot(fig=fig).show()\n",
    "    del _mkt_lr_arb, lr_ada, filtered, fig\n",
    "    gc.collect()"
   ]
  },
  {
   "cell_type": "code",
   "execution_count": null,
   "metadata": {
    "pycharm": {
     "name": "#%%\n"
    }
   },
   "outputs": [],
   "source": [
    "# Acá filtramos los thresholds del mkt_lr a partir del cual compramos o vendemos.\n",
    "upper_fltr = np.linspace(0.00001, 0.003, 50, endpoint=False)\n",
    "lower_fltr = np.linspace(0.00001, 0.005, 50, endpoint=False)\n",
    "mkt_bands_ind = MKT_BANDS.run(mkt_lr=mkt_lr, upper_filter=upper_fltr , lower_filter=lower_fltr,\n",
    "                        per_column=False,\n",
    "                        param_product=True,\n",
    "                        short_name=\"mkt\")\n",
    "del upper_fltr, lower_fltr, mkt_lr\n",
    "gc.collect()\n",
    "print(\"Done calculating mkt_bands\")"
   ]
  },
  {
   "cell_type": "code",
   "execution_count": null,
   "metadata": {
    "pycharm": {
     "name": "#%%\n"
    }
   },
   "outputs": [],
   "source": [
    "# Ya generamos todos los datos necesarios, ahora vamos a correr todas las simulaciones para cada assets que nos\n",
    "# interesa testear\n",
    "# para que no muera por memoria a la mitad y perder todo lo porcesado hasta el momento, me aseguro de que todas\n",
    "#  las keys existan en el df\n",
    "test_asset_list = [\"ADA\", \"BTC\"]\n",
    "assert( set(test_asset_list).issubset(in_close.columns.get_level_values(level=\"symbol\").unique()))"
   ]
  },
  {
   "cell_type": "code",
   "execution_count": null,
   "metadata": {
    "pycharm": {
     "name": "#%%\n"
    }
   },
   "outputs": [],
   "source": [
    "# Recolectamos el close y el lr de cada uno para poder borrar de memoria el df grande de todos los close y los lrs que no usamos\n",
    "# puesto que close y lr son varias veces más grandes que el lr y close individual\n",
    "_lrs = {}\n",
    "_close = {}\n",
    "for asset in test_asset_list:\n",
    "    _lrs[asset] = lr_ind.lr.xs(asset, level='symbol', axis=1)\n",
    "    _close[asset] = in_close.xs(asset, level='symbol', axis=1)\n",
    "    print(f\"Done separating close and lrs for {asset}\")\n",
    "del in_close, lr_ind\n",
    "in_close = _close\n",
    "in_lrs = _lrs\n",
    "gc.collect()"
   ]
  },
  {
   "cell_type": "code",
   "execution_count": null,
   "metadata": {
    "pycharm": {
     "name": "#%%\n"
    }
   },
   "outputs": [],
   "source": [
    "# corremos la simulación para cada asset\n",
    "def dropnan(s):\n",
    "    return s[~np.isnan(s)]\n",
    "in_best_fltr_pairs = {}\n",
    "params_names = mkt_bands_ind.level_names\n",
    "for asset in test_asset_list:\n",
    "    lr = in_lrs[asset]\n",
    "    close = in_close[asset]\n",
    "    entries =  mkt_bands_ind.filtered_above(lr, crossover=True)\n",
    "    exits = mkt_bands_ind.filtered_below(lr, crossover=True)\n",
    "    del lr, in_lrs[asset]\n",
    "    gc.collect()\n",
    "    print(f\"Running optimizing for {asset}\")\n",
    "    port = ExtendedPortfolio.from_signals(close, entries, exits, **portfolio_kwargs, max_logs=0)\n",
    "    del  entries, exits, close, in_close[asset]\n",
    "    gc.collect()\n",
    "    print(f\"Done optimizing {asset}\")\n",
    "    \n",
    "    # buscamos la mejor combinación de filtros\n",
    "    in_best_fltr_pairs[asset] = get_best_pairs(port.expected_log_returns(), *params_names)\n",
    "\n",
    "    # ploteamos la performace de todas las combinanciones\n",
    "    if is_notebook():\n",
    "        elr_volume = dropnan(port.expected_log_returns()).vbt.volume(title=f\"{asset}'s Expected Log Return\").show()\n",
    "        sharpe_volume = dropnan(port.sharpe_ratio()).vbt.volume(title=f\"{asset}'s Sharpe Ratio\").show()\n",
    "    del port\n",
    "    gc.collect()\n",
    "    print(f\"Done plotting {asset}\")\n",
    "\n",
    "del mkt_bands_ind\n",
    "gc.collect()"
   ]
  },
  {
   "cell_type": "code",
   "execution_count": null,
   "metadata": {
    "pycharm": {
     "name": "#%%\n"
    }
   },
   "outputs": [],
   "source": [
    "# acá arranca la parte de correr las simulaciones con los datos del out y los parámetros ya optimizados\n",
    "out_close = out_windows.xs('Close', level='value', axis=1)\n",
    "out_volume = out_windows.xs('Volume', level='value', axis=1)\n",
    "lr_ind = LR.run(out_close)\n",
    "wlr_ind = WLR.run(out_volume, lr_ind.lr)\n",
    "mkt_lr = wlr_ind.wlr.sum(axis=1, level=\"split_idx\", skipna=False)\n",
    "_lrs = {}\n",
    "_close = {}\n",
    "for asset in test_asset_list:\n",
    "    _lrs[asset] = lr_ind.lr.xs(asset, level='symbol', axis=1)\n",
    "    _close[asset] = out_close.xs(asset, level='symbol', axis=1)\n",
    "    print(f\"Done separating close and lrs for {asset}\")\n",
    "del out_close, lr_ind, out_windows, wlr_ind\n",
    "out_close = _close\n",
    "out_lrs = _lrs\n",
    "gc.collect()\n",
    "for asset in test_asset_list:\n",
    "    # para cada activo de los que me interesa tradear simulo el resultado de ser corrido con los parámetros optimizados\n",
    "    in_best_pairs = np.array(in_best_fltr_pairs[asset])\n",
    "    upper_fltr = in_best_pairs[:,0]\n",
    "    lower_fltr = in_best_pairs[:,1]\n",
    "    mkt_bands_ind = MKT_BANDS.run(mkt_lr=mkt_lr, upper_filter=upper_fltr , lower_filter=lower_fltr,\n",
    "                        per_column=True,\n",
    "                        param_product=False,\n",
    "                        short_name=\"mkt\")\n",
    "    lr = out_lrs[asset]\n",
    "    close = out_close[asset]\n",
    "    entries =  mkt_bands_ind.filtered_above(lr, crossover=True)\n",
    "    exits = mkt_bands_ind.filtered_below(lr, crossover=True)\n",
    "    del lr, out_lrs[asset], mkt_bands_ind\n",
    "    port = ExtendedPortfolio.from_signals(close, entries, exits, **portfolio_kwargs, max_logs=0)\n",
    "    exp_plot = port.expected_log_returns().vbt.plot(title=f\"{asset}'s Expected Log Return\")\n",
    "    sharpe_plot = port.sharpe_ratio().vbt.plot(title=f\"{asset}'s Sharpe ratio\")\n",
    "    if is_notebook():\n",
    "        exp_plot.show()\n",
    "        sharpe_plot.show()\n",
    "    else:\n",
    "        exp_plot.write_html(f\"{current_dir}/{asset}_simulation_exp_log_ret.html\")\n",
    "        sharpe_plot.write_html(f\"{current_dir}/{asset}_simulation_sharpe-ratio.html\")\n",
    "    print(f\"Done simulating {asset}\")"
   ]
  },
  {
   "cell_type": "code",
   "execution_count": null,
   "metadata": {
    "pycharm": {
     "name": "#%%\n"
    }
   },
   "outputs": [],
   "source": [
    "# un pequeño test para asegurarnos que todas las cuentas den\n",
    "_py = pd.DataFrame({\n",
    "    'Close': [1,e,e**2],\n",
    "    'Volume': [1,2,1]\n",
    "})\n",
    "_thon = pd.DataFrame({\n",
    "    'Close': [e**2,e,1],\n",
    "    'Volume': [1,4,10]\n",
    "})\n",
    "_test_df = pd.concat([_py,_thon], axis=1, keys=[\"Py\", \"Thon\"])\n",
    "_test_df.columns.set_names([\"asset\", \"value\"], inplace=True)\n",
    "\n",
    "close = _test_df.xs('Close', level='value', axis=1)\n",
    "volume = _test_df.xs('Volume', level='value', axis=1)\n",
    "_test_lrInd = LR.run(close)\n",
    "_test_wlrInd = WLR.run(volume, _test_lrInd.lr)\n",
    "\n",
    "exp_py_lr = np.array([np.nan, 1, 1])\n",
    "exp_thon_lr = np.array([np.nan, -1, -1])\n",
    "assert (np.allclose(exp_py_lr, _test_lrInd.lr[\"Py\"], equal_nan=True))\n",
    "assert (np.allclose(exp_thon_lr, _test_lrInd.lr[\"Thon\"], equal_nan=True))\n",
    "exp_py_vr = np.array([0.5, 1/3, 1/11])\n",
    "exp_thon_vr = np.array([0.5, 2/3, 10/11])\n",
    "exp_py_wlr = exp_py_lr * exp_py_vr\n",
    "exp_thon_wlr = exp_thon_lr * exp_thon_vr\n",
    "assert (np.allclose(exp_py_wlr, _test_wlrInd.wlr[\"Py\"], equal_nan=True))\n",
    "assert (np.allclose(exp_thon_wlr, _test_wlrInd.wlr[\"Thon\"], equal_nan=True))\n",
    "# falta testear el cálculo de mkt_lr\n",
    "_test_mkt_lr = _test_wlrInd.wlr.sum(axis=1, skipna=False)\n",
    "exp_mkt_lr = exp_py_wlr + exp_thon_wlr\n",
    "assert (np.allclose(exp_mkt_lr,_test_mkt_lr, equal_nan=True))"
   ]
  }
 ],
 "metadata": {
  "kernelspec": {
   "display_name": "Python 3",
   "language": "python",
   "name": "python3"
  },
  "language_info": {
   "codemirror_mode": {
    "name": "ipython",
    "version": 3
   },
   "file_extension": ".py",
   "mimetype": "text/x-python",
   "name": "python",
   "nbconvert_exporter": "python",
   "pygments_lexer": "ipython3",
   "version": "3.7.9"
  }
 },
 "nbformat": 4,
 "nbformat_minor": 1
}